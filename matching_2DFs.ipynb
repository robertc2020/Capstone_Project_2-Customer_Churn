{
 "cells": [
  {
   "cell_type": "markdown",
   "metadata": {},
   "source": [
    "# Matching two pandas DataFrames by column content"
   ]
  },
  {
   "cell_type": "code",
   "execution_count": 1,
   "metadata": {},
   "outputs": [],
   "source": [
    "import pandas as pd\n",
    "import numpy as np\n",
    "from datetime import datetime as dt\n",
    "import pickle"
   ]
  },
  {
   "cell_type": "markdown",
   "metadata": {},
   "source": [
    "Load the data:"
   ]
  },
  {
   "cell_type": "code",
   "execution_count": 2,
   "metadata": {},
   "outputs": [
    {
     "data": {
      "text/html": [
       "<div>\n",
       "<style scoped>\n",
       "    .dataframe tbody tr th:only-of-type {\n",
       "        vertical-align: middle;\n",
       "    }\n",
       "\n",
       "    .dataframe tbody tr th {\n",
       "        vertical-align: top;\n",
       "    }\n",
       "\n",
       "    .dataframe thead th {\n",
       "        text-align: right;\n",
       "    }\n",
       "</style>\n",
       "<table border=\"1\" class=\"dataframe\">\n",
       "  <thead>\n",
       "    <tr style=\"text-align: right;\">\n",
       "      <th></th>\n",
       "      <th>VAR_0200</th>\n",
       "      <th>VAR_0237</th>\n",
       "    </tr>\n",
       "  </thead>\n",
       "  <tbody>\n",
       "    <tr>\n",
       "      <th>0</th>\n",
       "      <td>FT LAUDERDALE</td>\n",
       "      <td>FL</td>\n",
       "    </tr>\n",
       "    <tr>\n",
       "      <th>1</th>\n",
       "      <td>SANTEE</td>\n",
       "      <td>CA</td>\n",
       "    </tr>\n",
       "    <tr>\n",
       "      <th>2</th>\n",
       "      <td>REEDSVILLE</td>\n",
       "      <td>WV</td>\n",
       "    </tr>\n",
       "    <tr>\n",
       "      <th>3</th>\n",
       "      <td>LIBERTY</td>\n",
       "      <td>TX</td>\n",
       "    </tr>\n",
       "    <tr>\n",
       "      <th>4</th>\n",
       "      <td>FRANKFORT</td>\n",
       "      <td>IL</td>\n",
       "    </tr>\n",
       "  </tbody>\n",
       "</table>\n",
       "</div>"
      ],
      "text/plain": [
       "        VAR_0200 VAR_0237\n",
       "0  FT LAUDERDALE       FL\n",
       "1         SANTEE       CA\n",
       "2     REEDSVILLE       WV\n",
       "3        LIBERTY       TX\n",
       "4      FRANKFORT       IL"
      ]
     },
     "execution_count": 2,
     "metadata": {},
     "output_type": "execute_result"
    }
   ],
   "source": [
    "dfc = pd.read_csv(\"./data/work_strings.csv\",usecols=['VAR_0200','VAR_0237'],low_memory=False)\n",
    "dfc.head()"
   ]
  },
  {
   "cell_type": "code",
   "execution_count": 3,
   "metadata": {},
   "outputs": [
    {
     "data": {
      "text/html": [
       "<div>\n",
       "<style scoped>\n",
       "    .dataframe tbody tr th:only-of-type {\n",
       "        vertical-align: middle;\n",
       "    }\n",
       "\n",
       "    .dataframe tbody tr th {\n",
       "        vertical-align: top;\n",
       "    }\n",
       "\n",
       "    .dataframe thead th {\n",
       "        text-align: right;\n",
       "    }\n",
       "</style>\n",
       "<table border=\"1\" class=\"dataframe\">\n",
       "  <thead>\n",
       "    <tr style=\"text-align: right;\">\n",
       "      <th></th>\n",
       "      <th>VAR_0241</th>\n",
       "    </tr>\n",
       "  </thead>\n",
       "  <tbody>\n",
       "    <tr>\n",
       "      <th>0</th>\n",
       "      <td>33324.0</td>\n",
       "    </tr>\n",
       "    <tr>\n",
       "      <th>1</th>\n",
       "      <td>92071.0</td>\n",
       "    </tr>\n",
       "    <tr>\n",
       "      <th>2</th>\n",
       "      <td>26547.0</td>\n",
       "    </tr>\n",
       "    <tr>\n",
       "      <th>3</th>\n",
       "      <td>77575.0</td>\n",
       "    </tr>\n",
       "    <tr>\n",
       "      <th>4</th>\n",
       "      <td>60423.0</td>\n",
       "    </tr>\n",
       "  </tbody>\n",
       "</table>\n",
       "</div>"
      ],
      "text/plain": [
       "   VAR_0241\n",
       "0   33324.0\n",
       "1   92071.0\n",
       "2   26547.0\n",
       "3   77575.0\n",
       "4   60423.0"
      ]
     },
     "execution_count": 3,
     "metadata": {},
     "output_type": "execute_result"
    }
   ],
   "source": [
    "dfi = pd.read_csv(\"./data/work_integers.csv\",usecols=['VAR_0241'],low_memory=False)\n",
    "dfi.head()"
   ]
  },
  {
   "cell_type": "code",
   "execution_count": 4,
   "metadata": {},
   "outputs": [
    {
     "data": {
      "text/html": [
       "<div>\n",
       "<style scoped>\n",
       "    .dataframe tbody tr th:only-of-type {\n",
       "        vertical-align: middle;\n",
       "    }\n",
       "\n",
       "    .dataframe tbody tr th {\n",
       "        vertical-align: top;\n",
       "    }\n",
       "\n",
       "    .dataframe thead th {\n",
       "        text-align: right;\n",
       "    }\n",
       "</style>\n",
       "<table border=\"1\" class=\"dataframe\">\n",
       "  <thead>\n",
       "    <tr style=\"text-align: right;\">\n",
       "      <th></th>\n",
       "      <th>city_ascii</th>\n",
       "      <th>state_id</th>\n",
       "      <th>population</th>\n",
       "      <th>density</th>\n",
       "      <th>zips</th>\n",
       "      <th>county_fips</th>\n",
       "    </tr>\n",
       "  </thead>\n",
       "  <tbody>\n",
       "    <tr>\n",
       "      <th>0</th>\n",
       "      <td>New York</td>\n",
       "      <td>NY</td>\n",
       "      <td>18713220</td>\n",
       "      <td>10715.0</td>\n",
       "      <td>11229 11226 11225 11224 11222 11221 11220 1138...</td>\n",
       "      <td>36061</td>\n",
       "    </tr>\n",
       "    <tr>\n",
       "      <th>1</th>\n",
       "      <td>Los Angeles</td>\n",
       "      <td>CA</td>\n",
       "      <td>12750807</td>\n",
       "      <td>3276.0</td>\n",
       "      <td>90291 90293 90292 91316 91311 90037 90031 9000...</td>\n",
       "      <td>6037</td>\n",
       "    </tr>\n",
       "    <tr>\n",
       "      <th>2</th>\n",
       "      <td>Chicago</td>\n",
       "      <td>IL</td>\n",
       "      <td>8604203</td>\n",
       "      <td>4574.0</td>\n",
       "      <td>60018 60649 60641 60640 60643 60642 60645 6064...</td>\n",
       "      <td>17031</td>\n",
       "    </tr>\n",
       "    <tr>\n",
       "      <th>3</th>\n",
       "      <td>Miami</td>\n",
       "      <td>FL</td>\n",
       "      <td>6445545</td>\n",
       "      <td>5019.0</td>\n",
       "      <td>33129 33125 33126 33127 33128 33149 33144 3314...</td>\n",
       "      <td>12086</td>\n",
       "    </tr>\n",
       "    <tr>\n",
       "      <th>4</th>\n",
       "      <td>Dallas</td>\n",
       "      <td>TX</td>\n",
       "      <td>5743938</td>\n",
       "      <td>1526.0</td>\n",
       "      <td>75287 75098 75233 75254 75251 75252 75253 7503...</td>\n",
       "      <td>48113</td>\n",
       "    </tr>\n",
       "  </tbody>\n",
       "</table>\n",
       "</div>"
      ],
      "text/plain": [
       "    city_ascii state_id  population  density  \\\n",
       "0     New York       NY    18713220  10715.0   \n",
       "1  Los Angeles       CA    12750807   3276.0   \n",
       "2      Chicago       IL     8604203   4574.0   \n",
       "3        Miami       FL     6445545   5019.0   \n",
       "4       Dallas       TX     5743938   1526.0   \n",
       "\n",
       "                                                zips  county_fips  \n",
       "0  11229 11226 11225 11224 11222 11221 11220 1138...        36061  \n",
       "1  90291 90293 90292 91316 91311 90037 90031 9000...         6037  \n",
       "2  60018 60649 60641 60640 60643 60642 60645 6064...        17031  \n",
       "3  33129 33125 33126 33127 33128 33149 33144 3314...        12086  \n",
       "4  75287 75098 75233 75254 75251 75252 75253 7503...        48113  "
      ]
     },
     "execution_count": 4,
     "metadata": {},
     "output_type": "execute_result"
    }
   ],
   "source": [
    "db = pd.read_csv('data/cities_reduced.csv',index_col=0)\n",
    "db.head()"
   ]
  },
  {
   "cell_type": "markdown",
   "metadata": {},
   "source": [
    "Prepare the four functions:"
   ]
  },
  {
   "cell_type": "code",
   "execution_count": 5,
   "metadata": {},
   "outputs": [],
   "source": [
    "def f1():\n",
    "    \n",
    "    # do the matching\n",
    "    for i, (c,s,z) in enumerate(df.values):  \n",
    "        \n",
    "        if s != s or z != z:\n",
    "            continue\n",
    "            \n",
    "        z = str(int(z))\n",
    "        \n",
    "        # first by zip\n",
    "        db_matched = db[(db['state_id'] == s) & (db['zips'].str.contains(z))]\n",
    "    \n",
    "        if not db_matched.empty:\n",
    "\n",
    "            n[i] = db_matched['population'].values[0]\n",
    "            d[i] = db_matched['density'].values[0]\n",
    "\n",
    "        \n",
    "        if n[i] == 0:\n",
    "            \n",
    "            #then by city\n",
    "            db_matched = db[(db['state_id'] == s) & (db['city_ascii'].str.upper() == c)]\n",
    "    \n",
    "            if not db_matched.empty:\n",
    "            \n",
    "                n[i] = db_matched['population'].values[0]\n",
    "                d[i] = db_matched['density'].values[0]\n",
    "                \n",
    "            else:\n",
    "                \n",
    "                logs.append((i,c,s))\n"
   ]
  },
  {
   "cell_type": "code",
   "execution_count": null,
   "metadata": {},
   "outputs": [],
   "source": []
  },
  {
   "cell_type": "code",
   "execution_count": 6,
   "metadata": {},
   "outputs": [],
   "source": [
    "def f2():\n",
    "    \n",
    "    # do the matching\n",
    "    for i, (c,s,z) in enumerate(df.values):  \n",
    "        \n",
    "        if s != s or z != z:\n",
    "            continue\n",
    "            \n",
    "        z = str(int(z))\n",
    "       \n",
    "        # by zip and city in one go\n",
    "        db_matched = db[(db['state_id'] == s) & ((db['zips'].str.contains(z))|(db['city_ascii'].str.upper()== c))]\n",
    "    \n",
    "        if not db_matched.empty:\n",
    "\n",
    "            n[i] = db_matched['population'].values[0]\n",
    "            d[i] = db_matched['density'].values[0]\n",
    "    \n",
    "        else:\n",
    "                \n",
    "            logs.append((i,c,s))\n"
   ]
  },
  {
   "cell_type": "code",
   "execution_count": 7,
   "metadata": {},
   "outputs": [
    {
     "name": "stdout",
     "output_type": "stream",
     "text": [
      "52 ['NY' 'CA' 'IL' 'FL' 'TX' 'PA' 'GA' 'DC' 'MA' 'AZ' 'WA' 'MI' 'MN' 'CO'\n",
      " 'MD' 'NV' 'OR' 'MO' 'OH' 'IN' 'NC' 'VA' 'WI' 'RI' 'UT' 'TN' 'LA' 'KY'\n",
      " 'OK' 'CT' 'NE' 'HI' 'NM' 'AL' 'SC' 'KS' 'IA' 'AR' 'ID' 'PR' 'MS' 'NJ'\n",
      " 'AK' 'NH' 'ND' 'ME' 'SD' 'WV' 'MT' 'DE' 'VT' 'WY']\n",
      "52\n",
      "     city_ascii state_id  population  density  \\\n",
      "379       Dover       DE      117282    622.0   \n",
      "690  Wilmington       DE       70166   2484.0   \n",
      "\n",
      "                                                  zips  county_fips  \n",
      "379                      19902 19901 19904 19905 19906        10001  \n",
      "690  19809 19802 19801 19806 19805 19850 19880 1988...        10003  \n",
      "      city_ascii state_id  population  density                     zips  \\\n",
      "416   Burlington       VT      109763   1604.0  05405 05401 05408 05406   \n",
      "2335       Barre       VT       20421    834.0                    05641   \n",
      "\n",
      "      county_fips  \n",
      "416         50007  \n",
      "2335        50023  \n",
      "    city_ascii state_id  population  density                           zips  \\\n",
      "589   Cheyenne       WY       79484    771.0  82009 82007 82001 82002 82003   \n",
      "722     Casper       WY       67598    843.0  82604 82601 82609 82602 82605   \n",
      "\n",
      "     county_fips  \n",
      "589        56021  \n",
      "722        56025  \n"
     ]
    }
   ],
   "source": [
    "dbs = dict()\n",
    "\n",
    "sid = db['state_id'].unique()\n",
    "print(len(sid),sid) # DC, PR included\n",
    "\n",
    "for id in sid:\n",
    "    dbs[id] = db[db['state_id'] == id]\n",
    "    \n",
    "print(len(dbs.keys()))\n",
    "\n",
    "# print the last 3, just 2 entries for each\n",
    "for check in list(dbs.keys())[-3:]:\n",
    "    print(dbs[check].head(2))"
   ]
  },
  {
   "cell_type": "code",
   "execution_count": 8,
   "metadata": {},
   "outputs": [],
   "source": [
    "def f3():\n",
    "    \n",
    "    # prepare subsamples of db, dictionaries with key = state_id \n",
    "    dbs = dict()\n",
    "    \n",
    "    sid = db['state_id'].unique()\n",
    "    \n",
    "    for id in sid:\n",
    "        \n",
    "        dbs[id] = db[db['state_id'] == id]   \n",
    "    \n",
    "    \n",
    "    # do the matching\n",
    "    for i, (c,s,z) in enumerate(df.values):  \n",
    "        \n",
    "        if s != s or z != z:\n",
    "            continue\n",
    "            \n",
    "        z = str(int(z))\n",
    "       \n",
    "        # first by zip\n",
    "        db_matched = dbs[s][dbs[s]['zips'].str.contains(z)]\n",
    "    \n",
    "        if not db_matched.empty:\n",
    "\n",
    "            n[i] = db_matched['population'].values[0]\n",
    "            d[i] = db_matched['density'].values[0]\n",
    "    \n",
    "        else:\n",
    "            \n",
    "            #then by city\n",
    "            if n[i] == 0:\n",
    "                \n",
    "                db_matched = dbs[s][dbs[s]['city_ascii'].str.upper() == c]\n",
    "                                 \n",
    "                if not db_matched.empty:\n",
    "            \n",
    "                    n[i] = db_matched['population'].values[0]\n",
    "                    d[i] = db_matched['density'].values[0]\n",
    "                \n",
    "                else:\n",
    "                \n",
    "                    logs.append((i,c,s))\n"
   ]
  },
  {
   "cell_type": "code",
   "execution_count": 9,
   "metadata": {},
   "outputs": [],
   "source": [
    "def f4():\n",
    "    \n",
    "    # prepare subsamples of db, dictionaries with key = state_id \n",
    "    dbs = dict()\n",
    "    \n",
    "    sid = db['state_id'].unique()\n",
    "    \n",
    "    for id in sid:\n",
    "        \n",
    "        dbs[id] = db[db['state_id'] == id]   \n",
    "    \n",
    "    \n",
    "    # do the matching\n",
    "    for i, (c,s,z) in enumerate(df.values):  \n",
    "        \n",
    "        if s != s or z != z:\n",
    "            continue\n",
    "            \n",
    "        z = str(int(z))\n",
    "        \n",
    "        # by zip and city in one go\n",
    "        db_matched = dbs[s][(dbs[s]['zips'].str.contains(z)) | (dbs[s]['city_ascii'].str.upper()== c)]\n",
    "    \n",
    "        if not db_matched.empty:\n",
    "\n",
    "            n[i] = db_matched['population'].values[0]\n",
    "            d[i] = db_matched['density'].values[0]\n",
    "    \n",
    "        else:\n",
    "                \n",
    "            logs.append((i,c,s))\n",
    "            "
   ]
  },
  {
   "cell_type": "code",
   "execution_count": null,
   "metadata": {},
   "outputs": [],
   "source": []
  },
  {
   "cell_type": "markdown",
   "metadata": {},
   "source": [
    "and let's run them:"
   ]
  },
  {
   "cell_type": "code",
   "execution_count": 10,
   "metadata": {},
   "outputs": [],
   "source": [
    "def check_time(fun):\n",
    "    \n",
    "    t1 = dt.now()\n",
    "    \n",
    "    global n, d, logs, df\n",
    "    \n",
    "    n = [0] * dfc.shape[0]\n",
    "    d = [0] * dfc.shape[0]\n",
    "    logs = []\n",
    "    \n",
    "    df = pd.concat((dfc,dfi),axis=1)\n",
    "    \n",
    "    fun()\n",
    "    \n",
    "    t2 = dt.now()\n",
    "\n",
    "    print(fun.__name__,':',round((t2-t1).total_seconds()/60,1),'min elapsed,',\\\n",
    "    '{} ({}%) matched'.format( sum(np.array(n)>0), round(sum(np.array(n)>0)/len(n)*100),1))   "
   ]
  },
  {
   "cell_type": "code",
   "execution_count": 11,
   "metadata": {},
   "outputs": [
    {
     "name": "stdout",
     "output_type": "stream",
     "text": [
      "f1 : 21.8 min elapsed, 141449 (97.0%) matched\n",
      "f2 : 36.0 min elapsed, 141449 (97.0%) matched\n",
      "f3 : 1.9 min elapsed, 141449 (97.0%) matched\n",
      "f4 : 3.2 min elapsed, 141449 (97.0%) matched\n"
     ]
    }
   ],
   "source": [
    "for f in [f1,f2,f3,f4]:\n",
    "    \n",
    "    check_time(f)"
   ]
  },
  {
   "cell_type": "code",
   "execution_count": 12,
   "metadata": {},
   "outputs": [
    {
     "data": {
      "text/plain": [
       "([106306, 3220118, 604, 6435, 19448],\n",
       " [1175.0, 1686.0, 359.0, 80.0, 807.0],\n",
       " [(16, 'SHELBY GAP', 'KY'),\n",
       "  (48, 'COLUMBIA STATION', 'OH'),\n",
       "  (129, 'MAUK', 'GA'),\n",
       "  (161, 'CARTERSVILLE', 'VA'),\n",
       "  (184, 'CHAPPELLS', 'SC')])"
      ]
     },
     "execution_count": 12,
     "metadata": {},
     "output_type": "execute_result"
    }
   ],
   "source": [
    "n[:5],d[:5],logs[:5]"
   ]
  },
  {
   "cell_type": "code",
   "execution_count": null,
   "metadata": {},
   "outputs": [],
   "source": []
  },
  {
   "cell_type": "markdown",
   "metadata": {},
   "source": [
    "Finally, let's check how long does writing down the files take:"
   ]
  },
  {
   "cell_type": "code",
   "execution_count": 13,
   "metadata": {},
   "outputs": [
    {
     "name": "stdout",
     "output_type": "stream",
     "text": [
      "0.6 secs elapsed\n"
     ]
    }
   ],
   "source": [
    "t1 = dt.now()\n",
    "\n",
    "# save to file\n",
    "with open('./data/test_pop.pkl', 'wb') as f:\n",
    "    pickle.dump(n, f)\n",
    "\n",
    "with open('./data/test_den.pkl', 'wb') as f:\n",
    "    pickle.dump(d, f)\n",
    "    \n",
    "with open('./data/test_logs.pkl', 'wb') as f:\n",
    "    pickle.dump(logs, f)\n",
    "\n",
    "t2 = dt.now()\n",
    "print(round((t2-t1).total_seconds(),1),'secs elapsed')"
   ]
  }
 ],
 "metadata": {
  "kernelspec": {
   "display_name": "Python 3",
   "language": "python",
   "name": "python3"
  },
  "language_info": {
   "codemirror_mode": {
    "name": "ipython",
    "version": 3
   },
   "file_extension": ".py",
   "mimetype": "text/x-python",
   "name": "python",
   "nbconvert_exporter": "python",
   "pygments_lexer": "ipython3",
   "version": "3.8.3"
  }
 },
 "nbformat": 4,
 "nbformat_minor": 4
}
