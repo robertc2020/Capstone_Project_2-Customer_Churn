{
 "cells": [
  {
   "cell_type": "markdown",
   "metadata": {},
   "source": [
    "# Data Wrangling\n",
    "\n",
    "* [1. Dataset](#1)\n",
    "* [2. Target variable](#2)\n",
    "* [3. Features](#3)\n",
    "    * [3.1 Feature names](#3.1)\n",
    "    * [3.2 Feature types](#3.2)\n",
    "    * [3.3 Missing values](#3.3)\n",
    "    * [3.4 Unique values per feature](#3.4)\n",
    "* [4. Post-cleaning data](#4)\n",
    "    * [4.1 Numerical features, integers](#4.1)\n",
    "    * [4.2 Numerical features, floats](#4.2)\n",
    "    * [4.3 Categorical features](#4.3)\n",
    "* [5. Supporting dataset with city information](#5)\n",
    "* [6. Summary](#6)"
   ]
  },
  {
   "cell_type": "code",
   "execution_count": 1,
   "metadata": {},
   "outputs": [],
   "source": [
    "import pandas as pd\n",
    "import numpy as np\n",
    "import matplotlib.pyplot as plt\n",
    "import matplotlib.ticker as ticker\n",
    "import seaborn as sns"
   ]
  },
  {
   "cell_type": "markdown",
   "metadata": {},
   "source": [
    "## 1. Dataset <a id='1'></a>"
   ]
  },
  {
   "cell_type": "markdown",
   "metadata": {},
   "source": [
    "The data comes in two samples: *train.csv* for model building and training and *test.csv* for churn prediction. Let's read them in. Let's set the index to the *ID* column. Since the dataset is large, let's also set the *low_memory* parameter to *False* to prevent input chunking that causes mixed-type variable warnings. Finally, let's also allow automatic recognition of datetime variables, if they are present in the data."
   ]
  },
  {
   "cell_type": "code",
   "execution_count": 2,
   "metadata": {},
   "outputs": [],
   "source": [
    "df_work = pd.read_csv(\"./train.csv\",index_col='ID',low_memory=False,parse_dates=True,infer_datetime_format=True)\n",
    "df_pred = pd.read_csv(\"./test.csv\" ,index_col='ID',low_memory=False,parse_dates=True,infer_datetime_format=True)"
   ]
  },
  {
   "cell_type": "markdown",
   "metadata": {},
   "source": [
    "What are their dimesions?:"
   ]
  },
  {
   "cell_type": "code",
   "execution_count": 3,
   "metadata": {},
   "outputs": [
    {
     "data": {
      "text/plain": [
       "((145231, 1933), (145232, 1932))"
      ]
     },
     "execution_count": 3,
     "metadata": {},
     "output_type": "execute_result"
    }
   ],
   "source": [
    "df_work.shape,df_pred.shape"
   ]
  },
  {
   "cell_type": "markdown",
   "metadata": {},
   "source": [
    "Both samples have about 145k rows and 1930 columns,"
   ]
  },
  {
   "cell_type": "code",
   "execution_count": 4,
   "metadata": {},
   "outputs": [
    {
     "data": {
      "text/plain": [
       "{'target'}"
      ]
     },
     "execution_count": 4,
     "metadata": {},
     "output_type": "execute_result"
    }
   ],
   "source": [
    "set(df_work.columns) - set(df_pred.columns)"
   ]
  },
  {
   "cell_type": "markdown",
   "metadata": {},
   "source": [
    "and the only difference between the columns in the two datasets is the *target* column. As expected, it is present in the *work* sample that will be used for model training and testing and absent in the *pred* sample for churn predictions. Let's also print the first few indices for rows in both samples:"
   ]
  },
  {
   "cell_type": "code",
   "execution_count": 5,
   "metadata": {},
   "outputs": [
    {
     "name": "stdout",
     "output_type": "stream",
     "text": [
      "Int64Index([2, 4, 5, 7, 8, 14, 16, 20, 21, 22, 23, 24, 25, 26, 28], dtype='int64', name='ID')\n",
      "Int64Index([1, 3, 6, 9, 10, 11, 12, 13, 15, 17, 18, 19, 27, 29, 33], dtype='int64', name='ID')\n"
     ]
    }
   ],
   "source": [
    "print(df_work.index[:15])\n",
    "print(df_pred.index[:15])"
   ]
  },
  {
   "cell_type": "markdown",
   "metadata": {},
   "source": [
    "They are complementary to each other and sum up to a complete list of ordered integers. This means that the two samples were randomly selected from a common dataset (as opposed to e.g. two datasets taken at different times or with other conditions). Let's inspect the target variable now."
   ]
  },
  {
   "cell_type": "markdown",
   "metadata": {},
   "source": [
    "## 2. Target variable <a id='2'></a>"
   ]
  },
  {
   "cell_type": "markdown",
   "metadata": {},
   "source": [
    "Let's plot a histogram of the *target* column and calculate the number and percentage of unique entries:"
   ]
  },
  {
   "cell_type": "code",
   "execution_count": 6,
   "metadata": {},
   "outputs": [
    {
     "data": {
      "image/png": "[encoded data removed]",
      "text/plain": [
       "<Figure size 432x288 with 1 Axes>"
      ]
     },
     "metadata": {
      "needs_background": "light"
     },
     "output_type": "display_data"
    }
   ],
   "source": [
    "df_work['target'].value_counts().plot(kind='bar')\n",
    "\n",
    "plt.ylabel('Number of rows',fontsize=15)\n",
    "plt.xlabel('Target variable',fontsize=15)\n",
    "plt.xticks(rotation=0,fontsize=12);"
   ]
  },
  {
   "cell_type": "code",
   "execution_count": 7,
   "metadata": {},
   "outputs": [
    {
     "data": {
      "text/html": [
       "<div>\n",
       "<style scoped>\n",
       "    .dataframe tbody tr th:only-of-type {\n",
       "        vertical-align: middle;\n",
       "    }\n",
       "\n",
       "    .dataframe tbody tr th {\n",
       "        vertical-align: top;\n",
       "    }\n",
       "\n",
       "    .dataframe thead th {\n",
       "        text-align: right;\n",
       "    }\n",
       "</style>\n",
       "<table border=\"1\" class=\"dataframe\">\n",
       "  <thead>\n",
       "    <tr style=\"text-align: right;\">\n",
       "      <th></th>\n",
       "      <th>N. of rows</th>\n",
       "      <th>% of total</th>\n",
       "    </tr>\n",
       "  </thead>\n",
       "  <tbody>\n",
       "    <tr>\n",
       "      <th>0</th>\n",
       "      <td>111458</td>\n",
       "      <td>76.7</td>\n",
       "    </tr>\n",
       "    <tr>\n",
       "      <th>1</th>\n",
       "      <td>33773</td>\n",
       "      <td>23.3</td>\n",
       "    </tr>\n",
       "  </tbody>\n",
       "</table>\n",
       "</div>"
      ],
      "text/plain": [
       "   N. of rows  % of total\n",
       "0      111458        76.7\n",
       "1       33773        23.3"
      ]
     },
     "execution_count": 7,
     "metadata": {},
     "output_type": "execute_result"
    }
   ],
   "source": [
    "tv = pd.concat([df_work['target'].value_counts(),df_work['target'].value_counts(normalize=True)*100],axis=1)\n",
    "tv.columns =['N. of rows', '% of total']\n",
    "tv.round(1)"
   ]
  },
  {
   "cell_type": "markdown",
   "metadata": {},
   "source": [
    "The target has only two values, 0 and 1, as expected for a binary classification problem. The churn distribution is pretty asymmetric, with only about a quarter of customers (~34k entries) responding to the offer. \n",
    "\n",
    "The cumulative distribution of the number of positive responses as a function of data index is shown below:"
   ]
  },
  {
   "cell_type": "code",
   "execution_count": 8,
   "metadata": {},
   "outputs": [
    {
     "data": {
      "image/png": "[encoded data removed]",
      "text/plain": [
       "<Figure size 432x288 with 1 Axes>"
      ]
     },
     "metadata": {
      "needs_background": "light"
     },
     "output_type": "display_data"
    }
   ],
   "source": [
    "df_work['target'].cumsum().plot();"
   ]
  },
  {
   "cell_type": "markdown",
   "metadata": {},
   "source": [
    "A linear dependence implies that the *yes* responses are uniformly distributed in the dataset. This is a useful feature that will allow us to apply the standard splitting method for the model cross-validation in later studies (index-ordered chunking, as opposed to random sampling).\n",
    "\n",
    "In preparation for further analysis, let's separate the target variable from the rest of the *work* dataset and save it as a dataframe named *y*:"
   ]
  },
  {
   "cell_type": "code",
   "execution_count": 9,
   "metadata": {},
   "outputs": [
    {
     "data": {
      "text/plain": [
       "(145231, 1932)"
      ]
     },
     "execution_count": 9,
     "metadata": {},
     "output_type": "execute_result"
    }
   ],
   "source": [
    "y = df_work['target']\n",
    "\n",
    "df_work = df_work.drop('target', axis=1)\n",
    "df_work.shape"
   ]
  },
  {
   "cell_type": "markdown",
   "metadata": {},
   "source": [
    "## 3. Features <a id='3'></a>"
   ]
  },
  {
   "cell_type": "markdown",
   "metadata": {},
   "source": [
    "Now, let's inspect the features. First, we check the names of the dataset columns:"
   ]
  },
  {
   "cell_type": "markdown",
   "metadata": {},
   "source": [
    "### 3.1 Feature names <a id='3.1'></a>"
   ]
  },
  {
   "cell_type": "code",
   "execution_count": 10,
   "metadata": {},
   "outputs": [
    {
     "data": {
      "text/plain": [
       "Index(['VAR_0001', 'VAR_0002', 'VAR_0003', 'VAR_0004', 'VAR_0005', 'VAR_0006',\n",
       "       'VAR_0007', 'VAR_0008', 'VAR_0009', 'VAR_0010',\n",
       "       ...\n",
       "       'VAR_1925', 'VAR_1926', 'VAR_1927', 'VAR_1928', 'VAR_1929', 'VAR_1930',\n",
       "       'VAR_1931', 'VAR_1932', 'VAR_1933', 'VAR_1934'],\n",
       "      dtype='object', length=1932)"
      ]
     },
     "execution_count": 10,
     "metadata": {},
     "output_type": "execute_result"
    }
   ],
   "source": [
    "df_work.columns"
   ]
  },
  {
   "cell_type": "markdown",
   "metadata": {},
   "source": [
    "All of them are anonymized and ordered from 1 to 1934. We have 1932 columns, so 2 indices seem to be missing, what are they?:"
   ]
  },
  {
   "cell_type": "code",
   "execution_count": 11,
   "metadata": {},
   "outputs": [
    {
     "name": "stdout",
     "output_type": "stream",
     "text": [
      "VAR_0218\n",
      "VAR_0240\n"
     ]
    }
   ],
   "source": [
    "var_id = df_work.columns.str.replace('VAR_','').astype('int')\n",
    "\n",
    "for i in range(1,1935):\n",
    "    if i not in var_id:\n",
    "        print('VAR_{}'.format(str(i).zfill(4)))"
   ]
  },
  {
   "cell_type": "markdown",
   "metadata": {},
   "source": [
    "It's not clear why they had been removed from the dataset, but it's also irrelevant for our analysis, so let's carry on and inspect feature data types now:"
   ]
  },
  {
   "cell_type": "markdown",
   "metadata": {},
   "source": [
    "### 3.2 Feature types <a id='3.2'></a>"
   ]
  },
  {
   "cell_type": "markdown",
   "metadata": {},
   "source": [
    "The standard pandas *dtypes* function:"
   ]
  },
  {
   "cell_type": "code",
   "execution_count": 12,
   "metadata": {},
   "outputs": [
    {
     "data": {
      "text/plain": [
       "int64      1404\n",
       "float64     477\n",
       "object       51\n",
       "dtype: int64"
      ]
     },
     "execution_count": 12,
     "metadata": {},
     "output_type": "execute_result"
    }
   ],
   "source": [
    "df_work.dtypes.value_counts()"
   ]
  },
  {
   "cell_type": "markdown",
   "metadata": {},
   "source": [
    "gives approximately 73% integers, 25% floats, and 3% *object* types. But this classification might not be very representative if missing values (NaNs) are present in the columns. This is because pandas treats NaN variables as floats and concequently classifies integer columns with NaNs as floats. It also classifies string or bool columns with NaNs as *object* types. A more informative classification can be done by means of the *convert_dtypes()* function, which ignores missing numbers when inferring data types:"
   ]
  },
  {
   "cell_type": "code",
   "execution_count": 13,
   "metadata": {},
   "outputs": [
    {
     "data": {
      "text/plain": [
       "Int64      1871\n",
       "string       38\n",
       "boolean      13\n",
       "float64      10\n",
       "dtype: int64"
      ]
     },
     "execution_count": 13,
     "metadata": {},
     "output_type": "execute_result"
    }
   ],
   "source": [
    "df_work.convert_dtypes().dtypes.value_counts()"
   ]
  },
  {
   "cell_type": "markdown",
   "metadata": {},
   "source": [
    "It's clear now that our dataset is basically dominated by integer columns (97%) with a very small admixture of floats, bools and strings. \n",
    "\n",
    "Missing values have quite an impact on the column type assignement, so let's investigate them now."
   ]
  },
  {
   "cell_type": "markdown",
   "metadata": {},
   "source": [
    "### 3.3 Missing values <a id='3.3'></a>"
   ]
  },
  {
   "cell_type": "markdown",
   "metadata": {},
   "source": [
    "Let's count the total number of missing values per column and display it as a function of a column id, for the *work* sample:"
   ]
  },
  {
   "cell_type": "code",
   "execution_count": 14,
   "metadata": {},
   "outputs": [
    {
     "data": {
      "image/png": "[encoded data removed]",
      "text/plain": [
       "<Figure size 1008x468 with 1 Axes>"
      ]
     },
     "metadata": {
      "needs_background": "light"
     },
     "output_type": "display_data"
    }
   ],
   "source": [
    "var_id = df_work.columns.str.replace('VAR_','').astype('int')\n",
    "nmiss = df_work.isna().sum()\n",
    "\n",
    "fig, ax = plt.subplots(figsize=(14,6.5))\n",
    "\n",
    "ax.hist(var_id,weights=nmiss,range=(0,2000),bins=2000)\n",
    "\n",
    "ax.set_yscale('log')\n",
    "\n",
    "ax.grid()\n",
    "\n",
    "ax.set_xlabel(\"column ID\",fontsize=14)\n",
    "ax.set_ylabel(\"N. of missing values\",fontsize=14)\n",
    "\n",
    "ax.tick_params(axis=\"x\", labelsize=12) \n",
    "ax.tick_params(axis=\"y\", labelsize=12) \n",
    "\n",
    "ax.xaxis.set_major_locator(ticker.MultipleLocator(100))\n",
    "ax.xaxis.set_minor_locator(ticker.MultipleLocator(50))\n",
    "ax.yaxis.set_major_formatter(ticker.FuncFormatter(lambda x, p: format(int(x), ',')))\n",
    "\n",
    "ax.hlines(df_work.shape[0],0,2000,linewidth=0.5,linestyle='--',color='r');"
   ]
  },
  {
   "cell_type": "markdown",
   "metadata": {},
   "source": [
    "Note a log scale on the y axis. What's interesting? Three observations:\n",
    "\n",
    "1) missing values are present only in the first 530 columns, plus one additional column around 840,<br>\n",
    "2) there are several columns with a very high number of missing values, approaching the total number of rows in the dataset, shown as a red line,<br>\n",
    "3) there are 3 or 4 blocks of adjacent columns with the same number of missing values. Their fraction is tiny, though - about 50, 100, and 1000 rows out of the total of 145k rows, so always below 1%.\n",
    "\n",
    "__Ad 1:__ The fact that the fields with explicitly marked missing values (*NA* in the csv input file) are present only in the first quarter of the dataset doesn't mean that missing values are not present in the remaining part of the sample. They might be encoded as integers, for example as a commonly used $-1$ digit or as very small or very large numbers, e.g. $1-10^n$ or $10^n-1$ with $n=1,2\\dots$. We will explore this matter later when dealing with integer-type features.\n",
    "\n",
    "__Ad 2:__ what are the names of the columns with a large number of missing values, and what fraction of rows is missing for them?:"
   ]
  },
  {
   "cell_type": "code",
   "execution_count": 15,
   "metadata": {},
   "outputs": [
    {
     "name": "stdout",
     "output_type": "stream",
     "text": [
      "24 columns with % missing:\n"
     ]
    },
    {
     "data": {
      "text/plain": [
       "VAR_0073    69.63 %\n",
       "VAR_0074    69.63 %\n",
       "VAR_0156    95.96 %\n",
       "VAR_0157    99.37 %\n",
       "VAR_0158    98.56 %\n",
       "VAR_0159    95.96 %\n",
       "VAR_0166     90.2 %\n",
       "VAR_0167    98.23 %\n",
       "VAR_0168    92.62 %\n",
       "VAR_0169     90.2 %\n",
       "VAR_0176    87.93 %\n",
       "VAR_0177    97.69 %\n",
       "VAR_0178    91.69 %\n",
       "VAR_0179    87.93 %\n",
       "VAR_0205    98.45 %\n",
       "VAR_0206     98.4 %\n",
       "VAR_0207    100.0 %\n",
       "VAR_0208     86.6 %\n",
       "VAR_0209    93.54 %\n",
       "VAR_0210     86.6 %\n",
       "VAR_0211     86.6 %\n",
       "VAR_0213    100.0 %\n",
       "VAR_0214    99.99 %\n",
       "VAR_0840    100.0 %\n",
       "dtype: object"
      ]
     },
     "execution_count": 15,
     "metadata": {},
     "output_type": "execute_result"
    }
   ],
   "source": [
    "nmiss_per_col = df_work.isna().sum()\n",
    "\n",
    "thres = df_work.shape[0]/2\n",
    "\n",
    "print(nmiss_per_col[nmiss_per_col>thres].count(),'columns with % missing:')\n",
    "(nmiss_per_col[nmiss_per_col>thres]/df_work.shape[0]*100).round(2).astype('str') + ' %'"
   ]
  },
  {
   "cell_type": "markdown",
   "metadata": {},
   "source": [
    "Ups, 3 columns are totally empty, with 100% missing values. They include column 840, the right-most outlier in the plot above. These columns need to be removed from the dataset and we will do it in the next section of this notebook. The other columns will have to be investigated in more detail before deciding how to treat them.\n",
    "\n",
    " __Ad 3:__ let's inspect blocks with the same fraction of missing rows. Let's select them by looking at the 5 most frequent missing-row numbers, and let's check in how many columns they appear:"
   ]
  },
  {
   "cell_type": "code",
   "execution_count": 16,
   "metadata": {},
   "outputs": [
    {
     "data": {
      "text/plain": [
       "0      1407\n",
       "918     286\n",
       "56      115\n",
       "91       56\n",
       "89       38\n",
       "dtype: int64"
      ]
     },
     "execution_count": 16,
     "metadata": {},
     "output_type": "execute_result"
    }
   ],
   "source": [
    "nmiss_hist = nmiss_per_col.value_counts().head()\n",
    "nmiss_hist"
   ]
  },
  {
   "cell_type": "markdown",
   "metadata": {},
   "source": [
    "1407 columns have no missing numbers, then there are 4 groups with 918, 56, 91 and 89 missing numbers each. What range of columns do they span?:"
   ]
  },
  {
   "cell_type": "code",
   "execution_count": 17,
   "metadata": {},
   "outputs": [
    {
     "name": "stdout",
     "output_type": "stream",
     "text": [
      "VAR_0006 - VAR_0241 range for the block with 56 NaNs\n",
      "VAR_0146 - VAR_0195 range for the block with 89 NaNs\n",
      "VAR_0090 - VAR_0145 range for the block with 91 NaNs\n",
      "VAR_0242 - VAR_0530 range for the block with 918 NaNs\n"
     ]
    }
   ],
   "source": [
    "n_col_first = {n:df_work.columns[df_work.isna().sum() == n][0] for n in sorted(nmiss_hist.index[1:])}\n",
    "n_col_last  = {n:df_work.columns[df_work.isna().sum() == n][-1] for n in sorted(nmiss_hist.index[1:])}\n",
    "\n",
    "for k in n_col_first.keys():\n",
    "    \n",
    "    print(n_col_first[k],'-',n_col_last[k],'range for the block with',k,'NaNs')"
   ]
  },
  {
   "cell_type": "markdown",
   "metadata": {},
   "source": [
    "As the final check, let's also investigate what's the relation between these blocks. Are they separated or have common parts? To answer this question let's count and plot missing values again, this time only in the rows corresponding to a particular block:"
   ]
  },
  {
   "cell_type": "code",
   "execution_count": 18,
   "metadata": {},
   "outputs": [
    {
     "data": {
      "image/png": "[encoded data removed]",
      "text/plain": [
       "<Figure size 576x576 with 3 Axes>"
      ]
     },
     "metadata": {
      "needs_background": "light"
     },
     "output_type": "display_data"
    }
   ],
   "source": [
    "fig, ax = plt.subplots(3,1,figsize=(8,8),sharex=True)\n",
    "\n",
    "rmax = 600\n",
    "nm = [56,89,918]\n",
    "\n",
    "ax[0].hist(var_id,weights=df_work[df_work[n_col_first[nm[0]]].isna()].isna().sum(),range=(0,rmax),bins=rmax)\n",
    "ax[1].hist(var_id,weights=df_work[df_work[n_col_first[nm[1]]].isna()].isna().sum(),range=(0,rmax),bins=rmax)\n",
    "ax[2].hist(var_id,weights=df_work[df_work[n_col_first[nm[2]]].isna()].isna().sum(),range=(0,rmax),bins=rmax)\n",
    "\n",
    "ax[2].set_xlabel(\"column ID\",fontsize=14)\n",
    "\n",
    "for i,a in enumerate(ax):\n",
    "    \n",
    "    a.grid()\n",
    "    \n",
    "    a.set_ylabel(\"N. of missing values\",fontsize=14)\n",
    "    \n",
    "    a.tick_params(axis=\"x\", labelsize=12) \n",
    "    a.tick_params(axis=\"y\", labelsize=12) \n",
    "\n",
    "    a.xaxis.set_major_locator(ticker.MultipleLocator(100))\n",
    "    a.xaxis.set_minor_locator(ticker.MultipleLocator(50))\n",
    "    a.yaxis.set_major_formatter(ticker.FuncFormatter(lambda x, p: format(int(x), ',')))\n",
    "    \n",
    "    a.text(0.06, 1.05,'Summed over {} rows that have NaNs in column {}'.format(nm[i],n_col_first[nm[i]]), transform=a.transAxes,fontsize=14)\n",
    "    \n",
    "plt.tight_layout()"
   ]
  },
  {
   "cell_type": "markdown",
   "metadata": {},
   "source": [
    "In the top plot, we select rows that have NaNs in the 56 NaNs block (strictly speaking, in the first column of that block, column 6) and observe that NaNs are also present in the columns for other blocks. A small drop around column 242 corresponds to a few non-empty rows in the 918 block. For the rows corresponding to the 89 NaNs block (middle plot) the 91 block is selected as well, but no excess above the 56 NaNs block is observed in the 918 NaNs range. Inversely, if the rows corresponding to the 918 NaNs block are selected (bottom plot), no excess is observed in the range of the 89 and 91 NaNs blocks. This means that the 918 NaNs and 89/91 NaNs blocks are separated, but both have rows common with the 56 NaNs block. And that's about it. This study could potentially have an impact on our analysis if the number of missing values were high. But since the missing fraction is below 1% we will stop here and move to the next step.\n",
    "\n",
    "What's the next step? It's time to inspect feature content. It impractical to plot distributions of more than 1930 variables, so we will use some aggregated information instead. We will start with plotting the number of unique values for each of the features, then inspect low-multiplicity features to do some initial data cleaning. Hopefully, with a few printouts, we will also be able to gain insight into what kind of anonymized dataset we are dealing with."
   ]
  },
  {
   "cell_type": "markdown",
   "metadata": {},
   "source": [
    "### 3.4 Unique values per feature <a id='3.4'></a>"
   ]
  },
  {
   "cell_type": "markdown",
   "metadata": {},
   "source": [
    "The histogram below shows the distribution of feature unique values:"
   ]
  },
  {
   "cell_type": "code",
   "execution_count": 19,
   "metadata": {},
   "outputs": [],
   "source": [
    "s_unique = df_work.nunique(dropna=False)\n",
    "n_unique = s_unique.values"
   ]
  },
  {
   "cell_type": "code",
   "execution_count": 20,
   "metadata": {},
   "outputs": [
    {
     "data": {
      "image/png": "[encoded data removed]",
      "text/plain": [
       "<Figure size 864x432 with 1 Axes>"
      ]
     },
     "metadata": {
      "needs_background": "light"
     },
     "output_type": "display_data"
    }
   ],
   "source": [
    "plt.figure(figsize=(12,6))\n",
    "\n",
    "hist, bins= np.histogram(n_unique, bins=100)\n",
    "logbins = np.logspace(np.log10(1),np.log10(bins[-1]),len(bins))\n",
    "\n",
    "plt.hist(n_unique, bins=logbins)\n",
    "\n",
    "plt.grid()\n",
    "\n",
    "plt.xscale('log')\n",
    "plt.xticks(fontsize=16)\n",
    "plt.yticks(fontsize=16)\n",
    "\n",
    "plt.title(\"Unique values per feature (NaN included)\",fontsize=15)\n",
    "plt.xlabel(\"Number of unique values\",fontsize=15)\n",
    "plt.ylabel(\"Number of features\",fontsize=15)\n",
    "\n",
    "plt.gca().xaxis.set_major_formatter(ticker.FuncFormatter(lambda x, p: format(int(x), ',')))\n",
    "plt.gca().yaxis.set_major_locator(ticker.MultipleLocator(10))\n",
    "plt.gca().yaxis.set_minor_locator(ticker.MultipleLocator(5))"
   ]
  },
  {
   "cell_type": "markdown",
   "metadata": {},
   "source": [
    "The spectrum is very wide, from 5 columns with just one value, to a column with more than 100 thousand values. Let's see what's in those 5 columns that have only one unique value:"
   ]
  },
  {
   "cell_type": "code",
   "execution_count": 21,
   "metadata": {},
   "outputs": [
    {
     "name": "stdout",
     "output_type": "stream",
     "text": [
      "VAR_0207 : [nan]\n",
      "VAR_0213 : [nan]\n",
      "VAR_0840 : [nan]\n",
      "VAR_0847 : [1]\n",
      "VAR_1428 : [0]\n"
     ]
    }
   ],
   "source": [
    "cols_1 = s_unique[s_unique == 1].index\n",
    "\n",
    "for col in cols_1:\n",
    "    print(col,':',df_work[col].unique())"
   ]
  },
  {
   "cell_type": "markdown",
   "metadata": {},
   "source": [
    "These columns have no variance, therefore they will have no impact on the separation of the customer response. Let's remove them from the dataset:"
   ]
  },
  {
   "cell_type": "code",
   "execution_count": 22,
   "metadata": {},
   "outputs": [
    {
     "data": {
      "text/plain": [
       "((145231, 1927), (145232, 1927))"
      ]
     },
     "execution_count": 22,
     "metadata": {},
     "output_type": "execute_result"
    }
   ],
   "source": [
    "df_work = df_work.drop(cols_1,axis=1)\n",
    "df_pred = df_pred.drop(cols_1,axis=1)\n",
    "\n",
    "df_work.shape,df_pred.shape"
   ]
  },
  {
   "cell_type": "markdown",
   "metadata": {},
   "source": [
    "Now, let's also print out the content of the columns with 2, 3, 4 and 5 unique entries:"
   ]
  },
  {
   "cell_type": "code",
   "execution_count": 23,
   "metadata": {},
   "outputs": [
    {
     "name": "stdout",
     "output_type": "stream",
     "text": [
      "VAR_0008 : [False nan]\n",
      "VAR_0009 : [False nan]\n",
      "VAR_0010 : [False nan]\n",
      "VAR_0011 : [False nan]\n",
      "VAR_0012 : [False nan]\n",
      "VAR_0018 : [ 0. nan]\n",
      "VAR_0019 : [ 0. nan]\n",
      "VAR_0020 : [ 0. nan]\n",
      "VAR_0021 : [ 0. nan]\n",
      "VAR_0022 : [ 0. nan]\n",
      "VAR_0023 : [ 0. nan]\n",
      "VAR_0024 : [ 0. nan]\n",
      "VAR_0025 : [ 0. nan]\n",
      "VAR_0026 : [ 0. nan]\n",
      "VAR_0027 : [ 0. nan]\n",
      "VAR_0028 : [ 0. nan]\n",
      "VAR_0029 : [ 0. nan]\n",
      "VAR_0030 : [ 0. nan]\n",
      "VAR_0031 : [ 0. nan]\n",
      "VAR_0032 : [ 0. nan]\n",
      "VAR_0038 : [ 0. nan]\n",
      "VAR_0039 : [ 0. nan]\n",
      "VAR_0040 : [ 0. nan]\n",
      "VAR_0041 : [ 0. nan]\n",
      "VAR_0042 : [ 0. nan]\n",
      "VAR_0043 : [False nan]\n",
      "VAR_0044 : ['[]' nan]\n",
      "VAR_0188 : [ 0. nan]\n",
      "VAR_0189 : [ 0. nan]\n",
      "VAR_0190 : [ 0. nan]\n",
      "VAR_0196 : [False nan]\n",
      "VAR_0197 : [201.  nan]\n",
      "VAR_0199 : [ 0. nan]\n",
      "VAR_0202 : ['BatchInquiry' nan]\n",
      "VAR_0203 : [ 1. nan]\n",
      "VAR_0215 : [101.  nan]\n",
      "VAR_0216 : ['DS' nan]\n",
      "VAR_0221 : [ 0. nan]\n",
      "VAR_0222 : ['C6' nan]\n",
      "VAR_0223 : [2471.   nan]\n",
      "VAR_0229 : [False nan]\n",
      "VAR_0239 : [False nan]\n",
      "VAR_0246 : [-1. nan]\n",
      "VAR_0394 : [ 0. nan]\n",
      "VAR_0438 : [ 0. nan]\n",
      "VAR_0446 : [ 0. nan]\n",
      "VAR_0527 : [ 0. nan]\n",
      "VAR_0528 : [ 0. nan]\n",
      "VAR_0530 : [-1. nan]\n",
      "VAR_0563 : [0 1]\n",
      "VAR_0566 : [0 1]\n",
      "VAR_0567 : [0 1]\n",
      "VAR_0732 : [-99999      0]\n",
      "VAR_0733 : [     0 -99999]\n",
      "VAR_0736 : [-99999      0]\n",
      "VAR_0737 : [     0 -99999]\n",
      "VAR_0739 : [-99999      0]\n",
      "VAR_0740 : [0 1]\n",
      "VAR_0741 : [0 1]\n",
      "VAR_0924 : [0 1]\n",
      "VAR_1162 : [0 1]\n",
      "VAR_1163 : [0 1]\n",
      "VAR_1164 : [0 1]\n",
      "VAR_1165 : [0 1]\n",
      "VAR_1427 : [0 1]\n"
     ]
    }
   ],
   "source": [
    "cols_2 = s_unique[s_unique == 2].index\n",
    "\n",
    "for col in cols_2:\n",
    "    print(col,':',df_work[col].unique())"
   ]
  },
  {
   "cell_type": "code",
   "execution_count": 24,
   "metadata": {},
   "outputs": [
    {
     "name": "stdout",
     "output_type": "stream",
     "text": [
      "VAR_0001 : ['H' 'R' 'Q']\n",
      "VAR_0098 : [ 0.  1. nan]\n",
      "VAR_0106 : [ 0. nan  1.]\n",
      "VAR_0114 : [ 0.  1. nan]\n",
      "VAR_0130 : [ 0.  1. nan]\n",
      "VAR_0138 : [ 0.  1. nan]\n",
      "VAR_0180 : [ 0.  1. nan]\n",
      "VAR_0181 : [ 0.  1. nan]\n",
      "VAR_0182 : [ 0.  1. nan]\n",
      "VAR_0191 : [ 0. nan  1.]\n",
      "VAR_0226 : [False True nan]\n",
      "VAR_0230 : [False True nan]\n",
      "VAR_0232 : [True False nan]\n",
      "VAR_0236 : [True False nan]\n",
      "VAR_0244 : [ 1. nan  0.]\n",
      "VAR_0247 : [ 0. nan  1.]\n",
      "VAR_0344 : [ 0.  1. nan]\n",
      "VAR_0362 : [ 1.  0. nan]\n",
      "VAR_0383 : [ 1.  0. nan]\n",
      "VAR_0384 : [ 0.  1. nan]\n",
      "VAR_0392 : [ 0. nan  1.]\n",
      "VAR_0395 : [ 0. nan  1.]\n",
      "VAR_0411 : [ 0. nan  1.]\n",
      "VAR_0459 : [ 0. nan  1.]\n",
      "VAR_0466 : ['-1' 'I' nan]\n",
      "VAR_0468 : [ 0. nan  1.]\n",
      "VAR_0490 : [ 1.  0. nan]\n",
      "VAR_0502 : [ 0. nan  1.]\n",
      "VAR_0503 : [ 0.  1. nan]\n",
      "VAR_0504 : [ 0.  1. nan]\n",
      "VAR_0505 : [ 0.  1. nan]\n",
      "VAR_0526 : [ 0. nan  1.]\n",
      "VAR_0529 : [ 0. nan  1.]\n",
      "VAR_0923 : [0 1 9]\n",
      "VAR_1175 : [ 0  1 99]\n",
      "VAR_1176 : [ 0  1 99]\n"
     ]
    }
   ],
   "source": [
    "cols_3 = s_unique[s_unique == 3].index\n",
    "\n",
    "for col in cols_3:\n",
    "    print(col,':',df_work[col].unique())"
   ]
  },
  {
   "cell_type": "code",
   "execution_count": 25,
   "metadata": {},
   "outputs": [
    {
     "name": "stdout",
     "output_type": "stream",
     "text": [
      "VAR_0005 : ['C' 'B' 'N' 'S']\n",
      "VAR_0090 : [ 0.  1.  2. nan]\n",
      "VAR_0091 : [ 0.  1.  2. nan]\n",
      "VAR_0099 : [ 0.  1. nan  2.]\n",
      "VAR_0107 : [ 0.  1. nan  2.]\n",
      "VAR_0115 : [ 0.  1. nan  2.]\n",
      "VAR_0122 : [ 1.  0. nan  2.]\n",
      "VAR_0139 : [ 0.  1. nan  2.]\n",
      "VAR_0183 : [ 0.  1. nan  2.]\n",
      "VAR_0192 : [ 0. nan  1.  2.]\n",
      "VAR_0248 : [ 0. nan  1. -1.]\n",
      "VAR_0252 : [ 1.  0. nan -1.]\n",
      "VAR_0271 : [ 0.  1. nan -1.]\n",
      "VAR_0275 : [ 0. nan  1. -1.]\n",
      "VAR_0276 : [ 0.  1. nan -1.]\n",
      "VAR_0277 : [ 0.  1. nan -1.]\n",
      "VAR_0281 : [ 2. -1.  1. nan]\n",
      "VAR_0285 : [ 1. -1.  0. nan]\n",
      "VAR_0286 : [ 0. -1.  1. nan]\n",
      "VAR_0287 : [ 0. -1.  1. nan]\n",
      "VAR_0291 : [ 0.  1. -1. nan]\n",
      "VAR_0292 : [ 1.  0. nan -1.]\n",
      "VAR_0306 : [ 1.  0. -1. nan]\n",
      "VAR_0307 : [ 0.  1. -1. nan]\n",
      "VAR_0308 : [ 0.  1. -1. nan]\n",
      "VAR_0312 : [ 1.  0. -1. nan]\n",
      "VAR_0326 : [ 0.  1. -1. nan]\n",
      "VAR_0327 : [ 0.  1. -1. nan]\n",
      "VAR_0328 : [ 0.  1. -1. nan]\n",
      "VAR_0339 : [ 0. -1.  1. nan]\n",
      "VAR_0345 : [-1.  0.  1. nan]\n",
      "VAR_0346 : [-1.  1.  0. nan]\n",
      "VAR_0347 : [-1.  0. nan  1.]\n",
      "VAR_0348 : [-1.  0. nan  1.]\n",
      "VAR_0377 : [ 0. nan  1.  2.]\n",
      "VAR_0386 : [ 0. nan  1.  2.]\n",
      "VAR_0396 : [ 0. nan  1.  2.]\n",
      "VAR_0397 : [ 0. nan  1.  2.]\n",
      "VAR_0398 : [ 0. nan  1.  2.]\n",
      "VAR_0399 : [ 0. nan  1.  2.]\n",
      "VAR_0401 : [ 1.  0. nan -1.]\n",
      "VAR_0402 : [ 0.  1. nan -1.]\n",
      "VAR_0412 : [ 0. nan  1.  3.]\n",
      "VAR_0428 : [ 0. nan  1.  2.]\n",
      "VAR_0463 : [ 0. nan  1.  2.]\n",
      "VAR_0469 : [ 0.  1. nan  2.]\n",
      "VAR_0470 : [ 0.  1. nan  2.]\n",
      "VAR_0471 : [ 0.  1. nan  2.]\n",
      "VAR_0495 : [-1.  0.  1. nan]\n",
      "VAR_0507 : [ 0. nan  1.  2.]\n",
      "VAR_0513 : [ 0.  1. nan -1.]\n",
      "VAR_0518 : [ 0. nan -1.  1.]\n",
      "VAR_0520 : [ 1.  0. nan -1.]\n",
      "VAR_0521 : [ 0. nan  1. -1.]\n",
      "VAR_0522 : [ 0. -1. nan  1.]\n",
      "VAR_0523 : [ 0. -1. nan  1.]\n",
      "VAR_0524 : [ 0. nan  1. -1.]\n",
      "VAR_0809 : [-99999      0      1      2]\n",
      "VAR_0994 : [ 0 99  1  2]\n",
      "VAR_1012 : [ 0 99  1  2]\n",
      "VAR_1013 : [ 0 99  1  2]\n",
      "VAR_1557 : [0 1 2 3]\n",
      "VAR_1562 : [1 0 2 3]\n",
      "VAR_1590 : [ 0 99  1  2]\n",
      "VAR_1849 : [998 999   1 400]\n"
     ]
    }
   ],
   "source": [
    "cols_4 = s_unique[s_unique == 4].index\n",
    "\n",
    "for col in cols_4:\n",
    "    print(col,':',df_work[col].unique())"
   ]
  },
  {
   "cell_type": "code",
   "execution_count": 26,
   "metadata": {},
   "outputs": [
    {
     "name": "stdout",
     "output_type": "stream",
     "text": [
      "VAR_0092 : [ 0.  1.  2. nan  3.]\n",
      "VAR_0108 : [ 0.  1.  2. nan  3.]\n",
      "VAR_0116 : [ 0.  1. nan  2.  4.]\n",
      "VAR_0123 : [ 1.  0.  2. nan  3.]\n",
      "VAR_0124 : [ 1.  0.  2.  3. nan]\n",
      "VAR_0131 : [ 0.  1.  2. nan  3.]\n",
      "VAR_0150 : [ 0.  1.  2. nan  3.]\n",
      "VAR_0153 : [ 0.  1.  2. nan  3.]\n",
      "VAR_0163 : [ 0.  1.  2.  3. nan]\n",
      "VAR_0173 : [ 0.  1.  2.  3. nan]\n",
      "VAR_0193 : [ 0. nan  1.  3.  2.]\n",
      "VAR_0194 : [ 0.  1. nan  3.  2.]\n",
      "VAR_0249 : [ 3. nan  1.  0.  2.]\n",
      "VAR_0250 : [ 2. nan -1.  0.  1.]\n",
      "VAR_0251 : [ 2.  0.  1. nan -1.]\n",
      "VAR_0259 : [ 0.  1. nan  2.  3.]\n",
      "VAR_0264 : [ 0. nan  1.  2.  3.]\n",
      "VAR_0265 : [ 0.  1. nan  2.  3.]\n",
      "VAR_0290 : [ 3. -1.  2.  1. nan]\n",
      "VAR_0311 : [ 3. -1.  2.  1. nan]\n",
      "VAR_0352 : ['O' 'R' 'U' '-1' nan]\n",
      "VAR_0353 : ['U' 'R' 'O' '-1' nan]\n",
      "VAR_0354 : ['O' 'R' '-1' 'U' nan]\n",
      "VAR_0371 : [ 0. nan  1.  2.  3.]\n",
      "VAR_0372 : [ 0. nan  1.  2.  3.]\n",
      "VAR_0378 : [ 0. nan  1.  5.  2.]\n",
      "VAR_0387 : [ 0. nan  1.  2.  4.]\n",
      "VAR_0420 : [ 0. nan  1.  2.  3.]\n",
      "VAR_0467 : ['-1' 'Discharged' 'Dismissed' nan 'Discharge NA']\n",
      "VAR_0472 : [ 0.  1. nan  2.  3.]\n",
      "VAR_0476 : [ 0. nan  1.  2.  3.]\n",
      "VAR_0496 : [ 0.  1. nan  3.  2.]\n",
      "VAR_0497 : [ 0.  1. nan  3.  2.]\n",
      "VAR_0508 : [ 0.  1. nan  2.  3.]\n",
      "VAR_0637 : [98  0 99  2  1]\n",
      "VAR_0639 : [98 97 99  0  1]\n",
      "VAR_0640 : [98 97 99  0  1]\n",
      "VAR_0745 : [-99999      0      1      2      3]\n",
      "VAR_0799 : [-99999      0      1      2      3]\n",
      "VAR_0804 : [-99999      0      1      2      3]\n",
      "VAR_0995 : [ 0  1 99  2  3]\n",
      "VAR_1050 : [ 0 99  1  2  3]\n",
      "VAR_1051 : [ 0 99  1  2  3]\n",
      "VAR_1187 : [ 0 98 99  1  2]\n",
      "VAR_1213 : [98  0 99  1  2]\n",
      "VAR_1230 : [ 0  1 99 98  2]\n",
      "VAR_1430 : [98  0 99  1  2]\n",
      "VAR_1432 : [98  0 99  1  2]\n",
      "VAR_1533 : [0 1 2 3 4]\n",
      "VAR_1538 : [1 2 0 3 4]\n",
      "VAR_1547 : [0 1 2 3 4]\n",
      "VAR_1552 : [1 0 2 3 4]\n",
      "VAR_1563 : [1 0 2 3 4]\n",
      "VAR_1584 : [ 0  1 99  2  3]\n",
      "VAR_1723 : [98  0 99  1  2]\n",
      "VAR_1844 : [98 99  0  1  2]\n",
      "VAR_1848 : [998 999 997   1 400]\n",
      "VAR_1934 : ['IAPS' 'RCC' 'BRANCH' 'MOBILE' 'CSC']\n"
     ]
    }
   ],
   "source": [
    "cols_5 = s_unique[s_unique == 5].index\n",
    "\n",
    "for col in cols_5:\n",
    "    print(col,':',df_work[col].unique())"
   ]
  },
  {
   "cell_type": "markdown",
   "metadata": {},
   "source": [
    "What can we say about the data? A few things:\n",
    "\n",
    "1) majority of the two-value columns contain a NaN and another value appearing as a number, string or a bool. To clean up the dataset, let's preserve the NaNs but convert all other values to 1:"
   ]
  },
  {
   "cell_type": "code",
   "execution_count": 27,
   "metadata": {},
   "outputs": [],
   "source": [
    "n2_nan = df_work[cols_2].isnull().sum()\n",
    "\n",
    "cols_n2_nan = n2_nan[n2_nan>0].index\n",
    "\n",
    "for col in cols_n2_nan:\n",
    "    df_work[col] = df_work[col].where(lambda x: x.isna(),1.)\n",
    "    df_pred[col] = df_pred[col].where(lambda x: x.isna(),1.)\n",
    "\n",
    "#Series.where(cond, other=nan, inplace=False)\n",
    "#if cond is True, keep the original value, otherwise (False) replace with corresponding value from 'other'.\n",
    "#if no 'other' given, replace with nan; where(isna) will give the entire column filled with nan :)"
   ]
  },
  {
   "cell_type": "markdown",
   "metadata": {},
   "source": [
    "There are also 4 columns with the values of -99999 and 0. To unify the notation with all the other columns, let's replace -999999 by 1:"
   ]
  },
  {
   "cell_type": "code",
   "execution_count": 28,
   "metadata": {},
   "outputs": [],
   "source": [
    "for col in ['VAR_0732','VAR_0733','VAR_0736','VAR_0737','VAR_0739']:\n",
    "\n",
    "    df_work[col] = df_work[col].replace(-99999,1)\n",
    "    df_pred[col] = df_pred[col].replace(-99999,1)"
   ]
  },
  {
   "cell_type": "markdown",
   "metadata": {},
   "source": [
    "OK, how do these columns look now? Let's print them again, this time showing also the number of missing values that they contain:"
   ]
  },
  {
   "cell_type": "code",
   "execution_count": 29,
   "metadata": {},
   "outputs": [
    {
     "name": "stdout",
     "output_type": "stream",
     "text": [
      "VAR_0008 [1.0 nan] 56\n",
      "VAR_0009 [1.0 nan] 56\n",
      "VAR_0010 [1.0 nan] 56\n",
      "VAR_0011 [1.0 nan] 56\n",
      "VAR_0012 [1.0 nan] 56\n",
      "VAR_0018 [ 1. nan] 56\n",
      "VAR_0019 [ 1. nan] 56\n",
      "VAR_0020 [ 1. nan] 56\n",
      "VAR_0021 [ 1. nan] 56\n",
      "VAR_0022 [ 1. nan] 56\n",
      "VAR_0023 [ 1. nan] 56\n",
      "VAR_0024 [ 1. nan] 56\n",
      "VAR_0025 [ 1. nan] 56\n",
      "VAR_0026 [ 1. nan] 56\n",
      "VAR_0027 [ 1. nan] 56\n",
      "VAR_0028 [ 1. nan] 56\n",
      "VAR_0029 [ 1. nan] 56\n",
      "VAR_0030 [ 1. nan] 56\n",
      "VAR_0031 [ 1. nan] 56\n",
      "VAR_0032 [ 1. nan] 56\n",
      "VAR_0038 [ 1. nan] 56\n",
      "VAR_0039 [ 1. nan] 56\n",
      "VAR_0040 [ 1. nan] 56\n",
      "VAR_0041 [ 1. nan] 56\n",
      "VAR_0042 [ 1. nan] 56\n",
      "VAR_0043 [1.0 nan] 56\n",
      "VAR_0044 [1.0 nan] 56\n",
      "VAR_0188 [ 1. nan] 89\n",
      "VAR_0189 [ 1. nan] 89\n",
      "VAR_0190 [ 1. nan] 89\n",
      "VAR_0196 [1.0 nan] 56\n",
      "VAR_0197 [ 1. nan] 56\n",
      "VAR_0199 [ 1. nan] 56\n",
      "VAR_0202 [1.0 nan] 56\n",
      "VAR_0203 [ 1. nan] 56\n",
      "VAR_0215 [ 1. nan] 56\n",
      "VAR_0216 [1.0 nan] 56\n",
      "VAR_0221 [ 1. nan] 56\n",
      "VAR_0222 [1.0 nan] 56\n",
      "VAR_0223 [ 1. nan] 56\n",
      "VAR_0229 [1.0 nan] 56\n",
      "VAR_0239 [1.0 nan] 56\n",
      "VAR_0246 [ 1. nan] 918\n",
      "VAR_0394 [ 1. nan] 918\n",
      "VAR_0438 [ 1. nan] 918\n",
      "VAR_0446 [ 1. nan] 918\n",
      "VAR_0527 [ 1. nan] 918\n",
      "VAR_0528 [ 1. nan] 918\n",
      "VAR_0530 [ 1. nan] 918\n",
      "VAR_0563 [0 1] 0\n",
      "VAR_0566 [0 1] 0\n",
      "VAR_0567 [0 1] 0\n",
      "VAR_0732 [1 0] 0\n",
      "VAR_0733 [0 1] 0\n",
      "VAR_0736 [1 0] 0\n",
      "VAR_0737 [0 1] 0\n",
      "VAR_0739 [1 0] 0\n",
      "VAR_0740 [0 1] 0\n",
      "VAR_0741 [0 1] 0\n",
      "VAR_0924 [0 1] 0\n",
      "VAR_1162 [0 1] 0\n",
      "VAR_1163 [0 1] 0\n",
      "VAR_1164 [0 1] 0\n",
      "VAR_1165 [0 1] 0\n",
      "VAR_1427 [0 1] 0\n"
     ]
    }
   ],
   "source": [
    "for col in cols_2:\n",
    "    print(col,df_work[col].unique(),df_work[col].isna().sum())"
   ]
  },
  {
   "cell_type": "markdown",
   "metadata": {},
   "source": [
    "They look the same within each group of NaNs. Can there be duplicates? \n",
    "\n",
    "Let's write and run a function that compares each pair of columns row-wise and creates duplicate lists. The output of the function is a dictionary whose keys correspond to the first column in each of lists (to remain in the dataset) while values contain the duplicate columns (to be removed from the dataset):"
   ]
  },
  {
   "cell_type": "code",
   "execution_count": 30,
   "metadata": {},
   "outputs": [],
   "source": [
    "def find_duplicate_cols(df,cols):\n",
    "    \n",
    "    dups = {}\n",
    "    \n",
    "    cols_removed = []\n",
    "\n",
    "    for i,c1 in enumerate(cols):\n",
    "    \n",
    "        if c1 in cols_removed:\n",
    "            continue\n",
    "    \n",
    "        for c2 in cols[i+1:]: \n",
    "        \n",
    "            if c2 in cols_removed:\n",
    "                continue\n",
    "                \n",
    "            if (df[c1].astype('str') == df[c2].astype('str')).sum() == df.shape[0]:\n",
    "\n",
    "                if c1 not in dups.keys():\n",
    "                    dups[c1] = []\n",
    "                        \n",
    "                dups[c1].append(c2)\n",
    "                cols_removed.append(c2)\n",
    "                \n",
    "    return dups"
   ]
  },
  {
   "cell_type": "code",
   "execution_count": 31,
   "metadata": {},
   "outputs": [
    {
     "name": "stdout",
     "output_type": "stream",
     "text": [
      "VAR_0008 : ['VAR_0009', 'VAR_0010', 'VAR_0011', 'VAR_0012', 'VAR_0018', 'VAR_0019', 'VAR_0020', 'VAR_0021', 'VAR_0022', 'VAR_0023', 'VAR_0024', 'VAR_0025', 'VAR_0026', 'VAR_0027', 'VAR_0028', 'VAR_0029', 'VAR_0030', 'VAR_0031', 'VAR_0032', 'VAR_0038', 'VAR_0039', 'VAR_0040', 'VAR_0041', 'VAR_0042', 'VAR_0043', 'VAR_0044', 'VAR_0196', 'VAR_0197', 'VAR_0199', 'VAR_0202', 'VAR_0203', 'VAR_0215', 'VAR_0216', 'VAR_0221', 'VAR_0222', 'VAR_0223', 'VAR_0229', 'VAR_0239']\n",
      "VAR_0188 : ['VAR_0189', 'VAR_0190']\n",
      "VAR_0246 : ['VAR_0394', 'VAR_0438', 'VAR_0446', 'VAR_0527', 'VAR_0528', 'VAR_0530']\n"
     ]
    }
   ],
   "source": [
    "dups = find_duplicate_cols(df_work,cols_2)\n",
    "\n",
    "for key in dups.keys():\n",
    "    print(key,':',dups[key])"
   ]
  },
  {
   "cell_type": "markdown",
   "metadata": {},
   "source": [
    "So many duplicates! All the columns in each group of different non-zero NaNs are repeated. Let's remove the duplicates from both datasets now:"
   ]
  },
  {
   "cell_type": "code",
   "execution_count": 32,
   "metadata": {},
   "outputs": [
    {
     "data": {
      "text/plain": [
       "((145231, 1881), (145232, 1881))"
      ]
     },
     "execution_count": 32,
     "metadata": {},
     "output_type": "execute_result"
    }
   ],
   "source": [
    "for key in dups.keys():\n",
    "    \n",
    "    df_work = df_work.drop(dups[key],axis=1)\n",
    "    df_pred = df_pred.drop(dups[key],axis=1)\n",
    "\n",
    "df_work.shape,df_pred.shape       "
   ]
  },
  {
   "cell_type": "markdown",
   "metadata": {},
   "source": [
    "Great! By doing so we managed to reduce the number of features from 1927 to 1881."
   ]
  },
  {
   "cell_type": "markdown",
   "metadata": {},
   "source": [
    "2) Among columns with 3 unique values 4 of them contain bool variables ( column ID = 226, 230, 232, and 236). Let's check if there are other bools in our dataset."
   ]
  },
  {
   "cell_type": "code",
   "execution_count": 33,
   "metadata": {},
   "outputs": [
    {
     "data": {
      "text/plain": [
       "VAR_0226    144703\n",
       "VAR_0230    145004\n",
       "VAR_0232     63057\n",
       "VAR_0236       326\n",
       "dtype: int64"
      ]
     },
     "execution_count": 33,
     "metadata": {},
     "output_type": "execute_result"
    }
   ],
   "source": [
    "n_False =(df_work.select_dtypes(include='object').astype('str')  == 'False').sum()\n",
    "n_False[n_False>0]"
   ]
  },
  {
   "cell_type": "code",
   "execution_count": 34,
   "metadata": {},
   "outputs": [
    {
     "data": {
      "text/plain": [
       "VAR_0226       472\n",
       "VAR_0230       171\n",
       "VAR_0232     82118\n",
       "VAR_0236    144849\n",
       "dtype: int64"
      ]
     },
     "execution_count": 34,
     "metadata": {},
     "output_type": "execute_result"
    }
   ],
   "source": [
    "n_True =(df_work.select_dtypes(include='object').astype('str') == 'True').sum()\n",
    "n_True[n_True>0]"
   ]
  },
  {
   "cell_type": "markdown",
   "metadata": {},
   "source": [
    "Nope, apart from the 4 columns mentioned above, there are no more logical features in the dataset. \n",
    "\n",
    "Let's get rid of bools in these columns by replacing *False*(*True*) by 0(1):"
   ]
  },
  {
   "cell_type": "code",
   "execution_count": 35,
   "metadata": {},
   "outputs": [],
   "source": [
    "for col in n_False[n_False>0].index:\n",
    "    df_work[col] = df_work[col].replace(False,0)\n",
    "    df_pred[col] = df_pred[col].replace(False,0)\n",
    "    \n",
    "for col in n_True[n_True>0].index:\n",
    "    df_work[col] = df_work[col].replace(True,1)\n",
    "    df_pred[col] = df_pred[col].replace(True,1)"
   ]
  },
  {
   "cell_type": "markdown",
   "metadata": {},
   "source": [
    "3) Are there any duplicates in the columns with 3, 4 and 5 unique values?:"
   ]
  },
  {
   "cell_type": "code",
   "execution_count": 36,
   "metadata": {},
   "outputs": [
    {
     "name": "stdout",
     "output_type": "stream",
     "text": [
      "VAR_0180 : ['VAR_0181', 'VAR_0182']\n",
      "VAR_0526 : ['VAR_0529']\n"
     ]
    }
   ],
   "source": [
    "dups = find_duplicate_cols(df_work,cols_3)\n",
    "\n",
    "for key in dups.keys():\n",
    "    print(key,':',dups[key])\n"
   ]
  },
  {
   "cell_type": "code",
   "execution_count": 37,
   "metadata": {},
   "outputs": [],
   "source": [
    "dups = find_duplicate_cols(df_work,cols_4)\n",
    "\n",
    "for key in dups.keys():\n",
    "    print(key,':',dups[key])"
   ]
  },
  {
   "cell_type": "code",
   "execution_count": 38,
   "metadata": {},
   "outputs": [],
   "source": [
    "dups = find_duplicate_cols(df_work,cols_5)\n",
    "\n",
    "for key in dups.keys():\n",
    "    print(key,':',dups[key])"
   ]
  },
  {
   "cell_type": "markdown",
   "metadata": {},
   "source": [
    "There are 2 groups of duplicates in the columns with 3 unique values, and no duplicates in the columns with 4 or 5 values. \n",
    "\n",
    "Let's remove the repeated columns:"
   ]
  },
  {
   "cell_type": "code",
   "execution_count": 39,
   "metadata": {},
   "outputs": [
    {
     "data": {
      "text/plain": [
       "((145231, 1881), (145232, 1881))"
      ]
     },
     "execution_count": 39,
     "metadata": {},
     "output_type": "execute_result"
    }
   ],
   "source": [
    "for key in dups.keys():\n",
    "    \n",
    "    df_work = df_work.drop(dups[key],axis=1)\n",
    "    df_pred = df_pred.drop(dups[key],axis=1)\n",
    "\n",
    "df_work.shape,df_pred.shape   "
   ]
  },
  {
   "cell_type": "markdown",
   "metadata": {},
   "source": [
    "4) Generally, as the multiplicity of unique values increases the column content become more regular. While columns with 2 and 3 entries required some extra work, columns with 4 and 5 entries are pretty clean. One noticeable issue in those columns is the presence of outstanding numbers, such -1, -9999, 99, 999. As mentioned earlier, these might be numerically-encoded missing values. Another issue is the presence of groups of large outstanding values. For example, for features with 5 uniue values, a few columns contain the numbers [0, 1, 2, 98, 99], while the others contain [0,1, 97, 98, 99]. Given also the presence of the [0, 1, 2, 3, 99] sequence, this might indicate that a specific algorithm was used to decode more than one missing value. We will investigate this later when performing the Exploratory Data Analysis. \n",
    "\n",
    "5) Finally, the presence of categorical string variables in column 1934 ('IAPS' 'RCC' 'BRANCH' 'MOBILE' 'CSC') and column 467 ('-1' 'Discharged' 'Dismissed' nan 'Discharge NA') may shed light on the origin of our data. The abbreviations IAPS, RCC, and CSC stand for Inhibitors of Apoptosis Proteins, Renal Cell Carcinoma, and Cancer Stem Cell, respectively, and are related to cancer treatements. The other column seems to contain a history of hospital admissions. So we are dealing with a healthcare related offer.\n",
    "\n",
    "OK, we finished the initial dataset cleaning and managed to removed 54 redundant columns. Let's review the data in more detail now, in each of the data type category."
   ]
  },
  {
   "cell_type": "markdown",
   "metadata": {},
   "source": [
    "## 4. Post-cleaning data<a id='4'></a>"
   ]
  },
  {
   "cell_type": "markdown",
   "metadata": {},
   "source": [
    "What variable types are present in the dataset at this stage?:"
   ]
  },
  {
   "cell_type": "code",
   "execution_count": 40,
   "metadata": {},
   "outputs": [
    {
     "data": {
      "text/plain": [
       "Int64      1837\n",
       "string       34\n",
       "float64      10\n",
       "dtype: int64"
      ]
     },
     "execution_count": 40,
     "metadata": {},
     "output_type": "execute_result"
    }
   ],
   "source": [
    "df_work.convert_dtypes().dtypes.value_counts()"
   ]
  },
  {
   "cell_type": "markdown",
   "metadata": {},
   "source": [
    "Only 10 floats, 34 strings, and more than 1800 integers. Let's start with integers."
   ]
  },
  {
   "cell_type": "markdown",
   "metadata": {},
   "source": [
    "### 4.1 Numerical features, integers <a id='4.1'></a>"
   ]
  },
  {
   "cell_type": "code",
   "execution_count": 41,
   "metadata": {},
   "outputs": [
    {
     "data": {
      "text/plain": [
       "((145231, 1837), (145232, 1837))"
      ]
     },
     "execution_count": 41,
     "metadata": {},
     "output_type": "execute_result"
    }
   ],
   "source": [
    "dfi = df_work.convert_dtypes().select_dtypes(include='int')\n",
    "dpi = df_pred.convert_dtypes().select_dtypes(include='int')\n",
    "\n",
    "dfi.shape,dpi.shape"
   ]
  },
  {
   "cell_type": "markdown",
   "metadata": {},
   "source": [
    "As we said earlier, one imminent issue that we need to address is the presence of the number-encoded missing values. Let's search for those by inspecting the minimum and maximum variable value in each of the columns, and how often they appear:"
   ]
  },
  {
   "cell_type": "code",
   "execution_count": 42,
   "metadata": {},
   "outputs": [
    {
     "data": {
      "text/plain": [
       "0.0             1400\n",
       "-99999.0         156\n",
       "1.0              136\n",
       "-1.0             104\n",
       "2.0                7\n",
       "435.0              2\n",
       "18.0               2\n",
       "519.0              2\n",
       "40.0               2\n",
       "233.0              2\n",
       "20.0               2\n",
       "11.0               2\n",
       "6237.0             1\n",
       "6.0                1\n",
       "-344408449.0       1\n",
       "-800.0             1\n",
       "11920.0            1\n",
       "24.0               1\n",
       "157.0              1\n",
       "361.0              1\n",
       "201110.0           1\n",
       "5.0                1\n",
       "-312.0             1\n",
       "15000.0            1\n",
       "398.0              1\n",
       "572.0              1\n",
       "7001161703.0       1\n",
       "8.0                1\n",
       "12.0               1\n",
       "-50.0              1\n",
       "75.0               1\n",
       "500.0              1\n",
       "dtype: int64"
      ]
     },
     "execution_count": 42,
     "metadata": {},
     "output_type": "execute_result"
    }
   ],
   "source": [
    "dfi.min().astype('str').value_counts()"
   ]
  },
  {
   "cell_type": "code",
   "execution_count": 43,
   "metadata": {},
   "outputs": [
    {
     "data": {
      "text/plain": [
       "99.0           458\n",
       "999999999.0    257\n",
       "999.0          238\n",
       "9999.0         159\n",
       "1.0             83\n",
       "3.0             32\n",
       "6.0             32\n",
       "2.0             25\n",
       "4.0             21\n",
       "9.0             16\n",
       "5.0             15\n",
       "18.0            14\n",
       "12.0            13\n",
       "8.0             13\n",
       "7.0             13\n",
       "10.0            13\n",
       "11.0            12\n",
       "960.0           12\n",
       "25.0            11\n",
       "14.0             9\n",
       "13.0             9\n",
       "90.0             9\n",
       "15.0             8\n",
       "16.0             7\n",
       "19.0             6\n",
       "27.0             6\n",
       "100.0            6\n",
       "22.0             6\n",
       "67.0             5\n",
       "21.0             5\n",
       "65.0             4\n",
       "49.0             4\n",
       "3348.0           4\n",
       "241500000.0      4\n",
       "84.0             4\n",
       "34.0             4\n",
       "57.0             4\n",
       "36.0             4\n",
       "47.0             4\n",
       "722.0            4\n",
       "83.0             4\n",
       "17.0             4\n",
       "20.0             4\n",
       "98.0             4\n",
       "50.0             4\n",
       "24.0             4\n",
       "26.0             4\n",
       "30.0             3\n",
       "32231404.0       3\n",
       "40.0             3\n",
       "dtype: int64"
      ]
     },
     "execution_count": 43,
     "metadata": {},
     "output_type": "execute_result"
    }
   ],
   "source": [
    "dfi.max().astype('str').value_counts().head(50)"
   ]
  },
  {
   "cell_type": "markdown",
   "metadata": {},
   "source": [
    "The most frequent minimum values are 0, -99999, 1 and -1. While 0 and 1 might be legit numbers to start integer distributions with ,-99999 and -1 decode missing values. The most frequent highest numbers are 99, 999999999, 999, and 9999, populating as much as 60% of the total number of columns. \n",
    "\n",
    "In principle, since they have numerical representation they can already be used for building some of machine learning models, such as DecisionTree, RandomForest, Gradient Boosting etc. However, a care needs to be taken if we were to input this sample to models that require scaled data, e.g. Linear or Logistic Regression, Neural Networks, PCA, etc. Clearly, such low or high values are outliers in variable distributions, and we will investigate them in more detail in the EDA section of the project. \n",
    "\n",
    "For now, let's plot the number of rows in which the values -99999, -1, 99, 999, 999999999 appear, as a function of the column ID: "
   ]
  },
  {
   "cell_type": "code",
   "execution_count": 44,
   "metadata": {},
   "outputs": [
    {
     "data": {
      "image/png": "[encoded data removed]",
      "text/plain": [
       "<Figure size 1008x468 with 1 Axes>"
      ]
     },
     "metadata": {
      "needs_background": "light"
     },
     "output_type": "display_data"
    }
   ],
   "source": [
    "fig, ax = plt.subplots(figsize=(14,6.5))\n",
    "\n",
    "co=plt.cm.terrain(np.linspace(0,0.75,6))\n",
    "\n",
    "vals = [-99999,-1,99,999,9999,999999999]\n",
    "\n",
    "for i, val in enumerate(vals):\n",
    "    \n",
    "    if val < 0:\n",
    "        edges = dfi.min()\n",
    "    else:\n",
    "        edges = dfi.max()\n",
    "        \n",
    "    # columns with min/max equal to val\n",
    "    cols_n = edges[edges == val].index\n",
    "    \n",
    "    # count vals in those columns\n",
    "    var_count = (dfi[cols_n] == val).sum()\n",
    "    \n",
    "    #convert columns to numbers for x axis\n",
    "    var_id = cols_n.str.replace('VAR_','').astype('int')\n",
    "    \n",
    "    ax.hist(var_id,weights=var_count,range=(0,2000),bins=2000,label= str(val),color=co[i])\n",
    "\n",
    "ax.set_yscale('log')\n",
    "\n",
    "ax.grid()\n",
    "\n",
    "ax.set_xlabel(\"column ID\",fontsize=14)\n",
    "ax.set_ylabel(\"N. of missing values\",fontsize=14)\n",
    "\n",
    "ax.tick_params(axis=\"x\", labelsize=12) \n",
    "ax.tick_params(axis=\"y\", labelsize=12) \n",
    "\n",
    "ax.xaxis.set_major_locator(ticker.MultipleLocator(100))\n",
    "ax.xaxis.set_minor_locator(ticker.MultipleLocator(50))\n",
    "ax.yaxis.set_major_formatter(ticker.FuncFormatter(lambda x, p: format(int(x), ',')))\n",
    "\n",
    "ax.legend(loc='upper right',fontsize=14)\n",
    "ax.hlines(dfi.shape[0],0,2000,linewidth=1,linestyle='--',color='r');"
   ]
  },
  {
   "cell_type": "markdown",
   "metadata": {},
   "source": [
    "A pretty busy plot, but let's focus on main features:\n",
    "\n",
    "1) it's clear now that most of the columns in which we didn't find any NaNs (ID > 530) contain missing values encoded with large positive numbers (99, 999, etc). These numbers seem to have the same multiplicities (a block-like structure for green/yellow/brown colors),\n",
    "\n",
    "2) the number -99999 (dark blue) frequently appears in columns with ID = 700-900,\n",
    "\n",
    "3) the -1 digit (light blue) is also frequent and populates columns with ID = 250-500, which as we remember, also contain NaNs. \n",
    "\n",
    "Generally, we have missing values all over the dataset, with some columns populated by more than one type of missing values (-1 in light blue bins where also NaNs are present). We will have to find a clever way of dealing with these later. For now, as a final check, let's find how often the numbers 99 - 999999999 appear in the columns with ID > 530:"
   ]
  },
  {
   "cell_type": "code",
   "execution_count": 45,
   "metadata": {},
   "outputs": [
    {
     "name": "stdout",
     "output_type": "stream",
     "text": [
      "99 : [601. 150.]\n",
      "999 : [601. 150.]\n",
      "9999 : [601. 150.]\n",
      "999999999 : [601. 150.]\n"
     ]
    }
   ],
   "source": [
    "for val in vals[2:]:\n",
    "    \n",
    "    v = (dfi == val).sum()\n",
    "    print(val,':',v[v>10].value_counts().head(2).index.values)"
   ]
  },
  {
   "cell_type": "markdown",
   "metadata": {},
   "source": [
    "Not often. The two most freqent values are 601 and 150 entries, which is less than 0.5% of the total number of rows. There's probably another small block of empty rows in the dataset."
   ]
  },
  {
   "cell_type": "markdown",
   "metadata": {},
   "source": [
    "### 4.2 Numerical features, floats <a id='#4.2'></a>"
   ]
  },
  {
   "cell_type": "code",
   "execution_count": 46,
   "metadata": {},
   "outputs": [
    {
     "data": {
      "text/plain": [
       "((145231, 10), (145232, 10))"
      ]
     },
     "execution_count": 46,
     "metadata": {},
     "output_type": "execute_result"
    }
   ],
   "source": [
    "dff = df_work.convert_dtypes().select_dtypes(include='float')\n",
    "dpf = df_pred.convert_dtypes().select_dtypes(include='float')\n",
    "\n",
    "dff.shape, dpf.shape"
   ]
  },
  {
   "cell_type": "markdown",
   "metadata": {},
   "source": [
    "There are only 10 float variables, so let's print out some more information about them:"
   ]
  },
  {
   "cell_type": "code",
   "execution_count": 47,
   "metadata": {},
   "outputs": [
    {
     "data": {
      "text/html": [
       "<div>\n",
       "<style scoped>\n",
       "    .dataframe tbody tr th:only-of-type {\n",
       "        vertical-align: middle;\n",
       "    }\n",
       "\n",
       "    .dataframe tbody tr th {\n",
       "        vertical-align: top;\n",
       "    }\n",
       "\n",
       "    .dataframe thead th {\n",
       "        text-align: right;\n",
       "    }\n",
       "</style>\n",
       "<table border=\"1\" class=\"dataframe\">\n",
       "  <thead>\n",
       "    <tr style=\"text-align: right;\">\n",
       "      <th></th>\n",
       "      <th>VAR_0299</th>\n",
       "      <th>VAR_0300</th>\n",
       "      <th>VAR_0301</th>\n",
       "      <th>VAR_0319</th>\n",
       "      <th>VAR_0320</th>\n",
       "      <th>VAR_0321</th>\n",
       "      <th>VAR_0335</th>\n",
       "      <th>VAR_0336</th>\n",
       "      <th>VAR_0337</th>\n",
       "      <th>VAR_0370</th>\n",
       "    </tr>\n",
       "  </thead>\n",
       "  <tbody>\n",
       "    <tr>\n",
       "      <th>count</th>\n",
       "      <td>144313.00000</td>\n",
       "      <td>144313.00000</td>\n",
       "      <td>144313.00000</td>\n",
       "      <td>144313.00000</td>\n",
       "      <td>144313.00000</td>\n",
       "      <td>144313.00000</td>\n",
       "      <td>144313.00000</td>\n",
       "      <td>144313.00000</td>\n",
       "      <td>144313.00000</td>\n",
       "      <td>144313.00000</td>\n",
       "    </tr>\n",
       "    <tr>\n",
       "      <th>mean</th>\n",
       "      <td>0.44627</td>\n",
       "      <td>0.47951</td>\n",
       "      <td>0.48448</td>\n",
       "      <td>0.40525</td>\n",
       "      <td>0.43704</td>\n",
       "      <td>0.44089</td>\n",
       "      <td>0.27663</td>\n",
       "      <td>0.30853</td>\n",
       "      <td>0.30886</td>\n",
       "      <td>-0.85966</td>\n",
       "    </tr>\n",
       "    <tr>\n",
       "      <th>std</th>\n",
       "      <td>0.76700</td>\n",
       "      <td>0.70453</td>\n",
       "      <td>0.80447</td>\n",
       "      <td>0.87230</td>\n",
       "      <td>0.76700</td>\n",
       "      <td>0.85909</td>\n",
       "      <td>0.75324</td>\n",
       "      <td>0.78557</td>\n",
       "      <td>0.81939</td>\n",
       "      <td>1.57305</td>\n",
       "    </tr>\n",
       "    <tr>\n",
       "      <th>min</th>\n",
       "      <td>-1.00000</td>\n",
       "      <td>-1.00000</td>\n",
       "      <td>-1.00000</td>\n",
       "      <td>-1.00000</td>\n",
       "      <td>-1.00000</td>\n",
       "      <td>-1.00000</td>\n",
       "      <td>-1.00000</td>\n",
       "      <td>-1.00000</td>\n",
       "      <td>-1.00000</td>\n",
       "      <td>-1.00000</td>\n",
       "    </tr>\n",
       "    <tr>\n",
       "      <th>25%</th>\n",
       "      <td>0.00000</td>\n",
       "      <td>0.00000</td>\n",
       "      <td>0.00000</td>\n",
       "      <td>0.00000</td>\n",
       "      <td>0.00000</td>\n",
       "      <td>0.00000</td>\n",
       "      <td>0.00000</td>\n",
       "      <td>0.00000</td>\n",
       "      <td>0.00000</td>\n",
       "      <td>-1.00000</td>\n",
       "    </tr>\n",
       "    <tr>\n",
       "      <th>50%</th>\n",
       "      <td>0.00000</td>\n",
       "      <td>0.00000</td>\n",
       "      <td>0.00000</td>\n",
       "      <td>0.00000</td>\n",
       "      <td>0.00000</td>\n",
       "      <td>0.00000</td>\n",
       "      <td>0.00000</td>\n",
       "      <td>0.00000</td>\n",
       "      <td>0.00000</td>\n",
       "      <td>-1.00000</td>\n",
       "    </tr>\n",
       "    <tr>\n",
       "      <th>75%</th>\n",
       "      <td>0.83000</td>\n",
       "      <td>0.96000</td>\n",
       "      <td>0.95000</td>\n",
       "      <td>0.79000</td>\n",
       "      <td>0.94000</td>\n",
       "      <td>0.92000</td>\n",
       "      <td>0.57000</td>\n",
       "      <td>0.78000</td>\n",
       "      <td>0.75000</td>\n",
       "      <td>-1.00000</td>\n",
       "    </tr>\n",
       "    <tr>\n",
       "      <th>max</th>\n",
       "      <td>99.00000</td>\n",
       "      <td>49.83000</td>\n",
       "      <td>99.00000</td>\n",
       "      <td>99.00000</td>\n",
       "      <td>70.49000</td>\n",
       "      <td>99.00000</td>\n",
       "      <td>99.00000</td>\n",
       "      <td>77.42000</td>\n",
       "      <td>99.00000</td>\n",
       "      <td>99.00000</td>\n",
       "    </tr>\n",
       "  </tbody>\n",
       "</table>\n",
       "</div>"
      ],
      "text/plain": [
       "           VAR_0299      VAR_0300      VAR_0301      VAR_0319      VAR_0320  \\\n",
       "count  144313.00000  144313.00000  144313.00000  144313.00000  144313.00000   \n",
       "mean        0.44627       0.47951       0.48448       0.40525       0.43704   \n",
       "std         0.76700       0.70453       0.80447       0.87230       0.76700   \n",
       "min        -1.00000      -1.00000      -1.00000      -1.00000      -1.00000   \n",
       "25%         0.00000       0.00000       0.00000       0.00000       0.00000   \n",
       "50%         0.00000       0.00000       0.00000       0.00000       0.00000   \n",
       "75%         0.83000       0.96000       0.95000       0.79000       0.94000   \n",
       "max        99.00000      49.83000      99.00000      99.00000      70.49000   \n",
       "\n",
       "           VAR_0321      VAR_0335      VAR_0336      VAR_0337      VAR_0370  \n",
       "count  144313.00000  144313.00000  144313.00000  144313.00000  144313.00000  \n",
       "mean        0.44089       0.27663       0.30853       0.30886      -0.85966  \n",
       "std         0.85909       0.75324       0.78557       0.81939       1.57305  \n",
       "min        -1.00000      -1.00000      -1.00000      -1.00000      -1.00000  \n",
       "25%         0.00000       0.00000       0.00000       0.00000      -1.00000  \n",
       "50%         0.00000       0.00000       0.00000       0.00000      -1.00000  \n",
       "75%         0.92000       0.57000       0.78000       0.75000      -1.00000  \n",
       "max        99.00000      99.00000      77.42000      99.00000      99.00000  "
      ]
     },
     "execution_count": 47,
     "metadata": {},
     "output_type": "execute_result"
    }
   ],
   "source": [
    "dff.describe().round(5)"
   ]
  },
  {
   "cell_type": "code",
   "execution_count": 48,
   "metadata": {},
   "outputs": [
    {
     "data": {
      "text/html": [
       "<div>\n",
       "<style scoped>\n",
       "    .dataframe tbody tr th:only-of-type {\n",
       "        vertical-align: middle;\n",
       "    }\n",
       "\n",
       "    .dataframe tbody tr th {\n",
       "        vertical-align: top;\n",
       "    }\n",
       "\n",
       "    .dataframe thead th {\n",
       "        text-align: right;\n",
       "    }\n",
       "</style>\n",
       "<table border=\"1\" class=\"dataframe\">\n",
       "  <thead>\n",
       "    <tr style=\"text-align: right;\">\n",
       "      <th></th>\n",
       "      <th>VAR_0299</th>\n",
       "      <th>VAR_0300</th>\n",
       "      <th>VAR_0301</th>\n",
       "      <th>VAR_0319</th>\n",
       "      <th>VAR_0320</th>\n",
       "      <th>VAR_0321</th>\n",
       "      <th>VAR_0335</th>\n",
       "      <th>VAR_0336</th>\n",
       "      <th>VAR_0337</th>\n",
       "      <th>VAR_0370</th>\n",
       "    </tr>\n",
       "  </thead>\n",
       "  <tbody>\n",
       "    <tr>\n",
       "      <th>N unique</th>\n",
       "      <td>579</td>\n",
       "      <td>620</td>\n",
       "      <td>619</td>\n",
       "      <td>582</td>\n",
       "      <td>619</td>\n",
       "      <td>615</td>\n",
       "      <td>588</td>\n",
       "      <td>606</td>\n",
       "      <td>620</td>\n",
       "      <td>493</td>\n",
       "    </tr>\n",
       "    <tr>\n",
       "      <th>N missing</th>\n",
       "      <td>918</td>\n",
       "      <td>918</td>\n",
       "      <td>918</td>\n",
       "      <td>918</td>\n",
       "      <td>918</td>\n",
       "      <td>918</td>\n",
       "      <td>918</td>\n",
       "      <td>918</td>\n",
       "      <td>918</td>\n",
       "      <td>918</td>\n",
       "    </tr>\n",
       "  </tbody>\n",
       "</table>\n",
       "</div>"
      ],
      "text/plain": [
       "           VAR_0299  VAR_0300  VAR_0301  VAR_0319  VAR_0320  VAR_0321  \\\n",
       "N unique        579       620       619       582       619       615   \n",
       "N missing       918       918       918       918       918       918   \n",
       "\n",
       "           VAR_0335  VAR_0336  VAR_0337  VAR_0370  \n",
       "N unique        588       606       620       493  \n",
       "N missing       918       918       918       918  "
      ]
     },
     "execution_count": 48,
     "metadata": {},
     "output_type": "execute_result"
    }
   ],
   "source": [
    "more_info = dff.agg([lambda x: x.nunique(),lambda x: x.isna().sum()],axis=0)\n",
    "more_info.index = ['N unique','N missing']\n",
    "more_info"
   ]
  },
  {
   "cell_type": "markdown",
   "metadata": {},
   "source": [
    "Interestingly, they all have the minimum value of -1, and most of them have the maximum value of 99. Plus, they all have 918 rows contain NaNs, so we're dealing with 3 different types of missing values! Moreover, the mean value is smaller than 1 and median is at most 0, so the variables have asymmetric and very steeply falling distirbutions. "
   ]
  },
  {
   "cell_type": "markdown",
   "metadata": {},
   "source": [
    "### 4.3 Categorical  features <a id='#4.3'></a>"
   ]
  },
  {
   "cell_type": "code",
   "execution_count": 49,
   "metadata": {},
   "outputs": [
    {
     "data": {
      "text/plain": [
       "((145231, 34), (145232, 34))"
      ]
     },
     "execution_count": 49,
     "metadata": {},
     "output_type": "execute_result"
    }
   ],
   "source": [
    "dfc = df_work.convert_dtypes().select_dtypes(include='string')\n",
    "dpc = df_pred.convert_dtypes().select_dtypes(include='string')\n",
    "\n",
    "dfc.shape,dpc.shape"
   ]
  },
  {
   "cell_type": "markdown",
   "metadata": {},
   "source": [
    "34 string variables, which could contain any kind of information. Let's inspect all the columns and print their content for the first 5 rows of the dataset:"
   ]
  },
  {
   "cell_type": "code",
   "execution_count": 50,
   "metadata": {},
   "outputs": [
    {
     "data": {
      "text/html": [
       "<div>\n",
       "<style scoped>\n",
       "    .dataframe tbody tr th:only-of-type {\n",
       "        vertical-align: middle;\n",
       "    }\n",
       "\n",
       "    .dataframe tbody tr th {\n",
       "        vertical-align: top;\n",
       "    }\n",
       "\n",
       "    .dataframe thead th {\n",
       "        text-align: right;\n",
       "    }\n",
       "</style>\n",
       "<table border=\"1\" class=\"dataframe\">\n",
       "  <thead>\n",
       "    <tr style=\"text-align: right;\">\n",
       "      <th></th>\n",
       "      <th>VAR_0001</th>\n",
       "      <th>VAR_0005</th>\n",
       "      <th>VAR_0073</th>\n",
       "      <th>VAR_0075</th>\n",
       "      <th>VAR_0156</th>\n",
       "      <th>VAR_0157</th>\n",
       "      <th>VAR_0158</th>\n",
       "      <th>VAR_0159</th>\n",
       "    </tr>\n",
       "    <tr>\n",
       "      <th>ID</th>\n",
       "      <th></th>\n",
       "      <th></th>\n",
       "      <th></th>\n",
       "      <th></th>\n",
       "      <th></th>\n",
       "      <th></th>\n",
       "      <th></th>\n",
       "      <th></th>\n",
       "    </tr>\n",
       "  </thead>\n",
       "  <tbody>\n",
       "    <tr>\n",
       "      <th>166</th>\n",
       "      <td>R</td>\n",
       "      <td>N</td>\n",
       "      <td>11SEP12:00:00:00</td>\n",
       "      <td>24SEP10:00:00:00</td>\n",
       "      <td>02AUG11:00:00:00</td>\n",
       "      <td>05JUL12:00:00:00</td>\n",
       "      <td>31JAN12:00:00:00</td>\n",
       "      <td>04JUN12:00:00:00</td>\n",
       "    </tr>\n",
       "    <tr>\n",
       "      <th>249</th>\n",
       "      <td>R</td>\n",
       "      <td>C</td>\n",
       "      <td>01OCT12:00:00:00</td>\n",
       "      <td>02NOV09:00:00:00</td>\n",
       "      <td>05MAY11:00:00:00</td>\n",
       "      <td>05JUN11:00:00:00</td>\n",
       "      <td>01MAR12:00:00:00</td>\n",
       "      <td>02FEB12:00:00:00</td>\n",
       "    </tr>\n",
       "    <tr>\n",
       "      <th>604</th>\n",
       "      <td>R</td>\n",
       "      <td>B</td>\n",
       "      <td>22JUN12:00:00:00</td>\n",
       "      <td>09NOV11:00:00:00</td>\n",
       "      <td>09NOV11:00:00:00</td>\n",
       "      <td>26MAY12:00:00:00</td>\n",
       "      <td>22FEB12:00:00:00</td>\n",
       "      <td>26MAR12:00:00:00</td>\n",
       "    </tr>\n",
       "    <tr>\n",
       "      <th>886</th>\n",
       "      <td>R</td>\n",
       "      <td>N</td>\n",
       "      <td>12JUN12:00:00:00</td>\n",
       "      <td>01APR09:00:00:00</td>\n",
       "      <td>01JAN12:00:00:00</td>\n",
       "      <td>16JUN12:00:00:00</td>\n",
       "      <td>29FEB12:00:00:00</td>\n",
       "      <td>18MAY12:00:00:00</td>\n",
       "    </tr>\n",
       "    <tr>\n",
       "      <th>3062</th>\n",
       "      <td>H</td>\n",
       "      <td>B</td>\n",
       "      <td>07MAR12:00:00:00</td>\n",
       "      <td>06SEP10:00:00:00</td>\n",
       "      <td>12OCT11:00:00:00</td>\n",
       "      <td>09MAR12:00:00:00</td>\n",
       "      <td>02MAR12:00:00:00</td>\n",
       "      <td>07MAR12:00:00:00</td>\n",
       "    </tr>\n",
       "  </tbody>\n",
       "</table>\n",
       "</div>"
      ],
      "text/plain": [
       "     VAR_0001 VAR_0005          VAR_0073          VAR_0075          VAR_0156  \\\n",
       "ID                                                                             \n",
       "166         R        N  11SEP12:00:00:00  24SEP10:00:00:00  02AUG11:00:00:00   \n",
       "249         R        C  01OCT12:00:00:00  02NOV09:00:00:00  05MAY11:00:00:00   \n",
       "604         R        B  22JUN12:00:00:00  09NOV11:00:00:00  09NOV11:00:00:00   \n",
       "886         R        N  12JUN12:00:00:00  01APR09:00:00:00  01JAN12:00:00:00   \n",
       "3062        H        B  07MAR12:00:00:00  06SEP10:00:00:00  12OCT11:00:00:00   \n",
       "\n",
       "              VAR_0157          VAR_0158          VAR_0159  \n",
       "ID                                                          \n",
       "166   05JUL12:00:00:00  31JAN12:00:00:00  04JUN12:00:00:00  \n",
       "249   05JUN11:00:00:00  01MAR12:00:00:00  02FEB12:00:00:00  \n",
       "604   26MAY12:00:00:00  22FEB12:00:00:00  26MAR12:00:00:00  \n",
       "886   16JUN12:00:00:00  29FEB12:00:00:00  18MAY12:00:00:00  \n",
       "3062  09MAR12:00:00:00  02MAR12:00:00:00  07MAR12:00:00:00  "
      ]
     },
     "execution_count": 50,
     "metadata": {},
     "output_type": "execute_result"
    }
   ],
   "source": [
    "dfc.iloc[:,0:8].dropna().head()"
   ]
  },
  {
   "cell_type": "code",
   "execution_count": 51,
   "metadata": {},
   "outputs": [
    {
     "data": {
      "text/html": [
       "<div>\n",
       "<style scoped>\n",
       "    .dataframe tbody tr th:only-of-type {\n",
       "        vertical-align: middle;\n",
       "    }\n",
       "\n",
       "    .dataframe tbody tr th {\n",
       "        vertical-align: top;\n",
       "    }\n",
       "\n",
       "    .dataframe thead th {\n",
       "        text-align: right;\n",
       "    }\n",
       "</style>\n",
       "<table border=\"1\" class=\"dataframe\">\n",
       "  <thead>\n",
       "    <tr style=\"text-align: right;\">\n",
       "      <th></th>\n",
       "      <th>VAR_0166</th>\n",
       "      <th>VAR_0167</th>\n",
       "      <th>VAR_0168</th>\n",
       "      <th>VAR_0169</th>\n",
       "      <th>VAR_0176</th>\n",
       "      <th>VAR_0177</th>\n",
       "      <th>VAR_0178</th>\n",
       "      <th>VAR_0179</th>\n",
       "    </tr>\n",
       "    <tr>\n",
       "      <th>ID</th>\n",
       "      <th></th>\n",
       "      <th></th>\n",
       "      <th></th>\n",
       "      <th></th>\n",
       "      <th></th>\n",
       "      <th></th>\n",
       "      <th></th>\n",
       "      <th></th>\n",
       "    </tr>\n",
       "  </thead>\n",
       "  <tbody>\n",
       "    <tr>\n",
       "      <th>79</th>\n",
       "      <td>16APR12:00:00:00</td>\n",
       "      <td>09JUN12:00:00:00</td>\n",
       "      <td>25MAY12:00:00:00</td>\n",
       "      <td>25MAY12:00:00:00</td>\n",
       "      <td>16APR12:00:00:00</td>\n",
       "      <td>09JUN12:00:00:00</td>\n",
       "      <td>25MAY12:00:00:00</td>\n",
       "      <td>25MAY12:00:00:00</td>\n",
       "    </tr>\n",
       "    <tr>\n",
       "      <th>249</th>\n",
       "      <td>05APR10:00:00:00</td>\n",
       "      <td>21MAY12:00:00:00</td>\n",
       "      <td>20APR11:00:00:00</td>\n",
       "      <td>13APR12:00:00:00</td>\n",
       "      <td>05APR10:00:00:00</td>\n",
       "      <td>21MAY12:00:00:00</td>\n",
       "      <td>01MAR12:00:00:00</td>\n",
       "      <td>13APR12:00:00:00</td>\n",
       "    </tr>\n",
       "    <tr>\n",
       "      <th>587</th>\n",
       "      <td>28MAR11:00:00:00</td>\n",
       "      <td>06APR11:00:00:00</td>\n",
       "      <td>05APR11:00:00:00</td>\n",
       "      <td>28MAR11:00:00:00</td>\n",
       "      <td>28MAR11:00:00:00</td>\n",
       "      <td>06APR11:00:00:00</td>\n",
       "      <td>05APR11:00:00:00</td>\n",
       "      <td>28MAR11:00:00:00</td>\n",
       "    </tr>\n",
       "    <tr>\n",
       "      <th>606</th>\n",
       "      <td>01APR11:00:00:00</td>\n",
       "      <td>14MAY12:00:00:00</td>\n",
       "      <td>13APR12:00:00:00</td>\n",
       "      <td>13APR12:00:00:00</td>\n",
       "      <td>01APR11:00:00:00</td>\n",
       "      <td>14MAY12:00:00:00</td>\n",
       "      <td>13APR12:00:00:00</td>\n",
       "      <td>13APR12:00:00:00</td>\n",
       "    </tr>\n",
       "    <tr>\n",
       "      <th>650</th>\n",
       "      <td>13JAN10:00:00:00</td>\n",
       "      <td>25JAN12:00:00:00</td>\n",
       "      <td>27SEP10:00:00:00</td>\n",
       "      <td>21DEC11:00:00:00</td>\n",
       "      <td>13JAN10:00:00:00</td>\n",
       "      <td>25JAN12:00:00:00</td>\n",
       "      <td>27SEP10:00:00:00</td>\n",
       "      <td>21DEC11:00:00:00</td>\n",
       "    </tr>\n",
       "  </tbody>\n",
       "</table>\n",
       "</div>"
      ],
      "text/plain": [
       "             VAR_0166          VAR_0167          VAR_0168          VAR_0169  \\\n",
       "ID                                                                            \n",
       "79   16APR12:00:00:00  09JUN12:00:00:00  25MAY12:00:00:00  25MAY12:00:00:00   \n",
       "249  05APR10:00:00:00  21MAY12:00:00:00  20APR11:00:00:00  13APR12:00:00:00   \n",
       "587  28MAR11:00:00:00  06APR11:00:00:00  05APR11:00:00:00  28MAR11:00:00:00   \n",
       "606  01APR11:00:00:00  14MAY12:00:00:00  13APR12:00:00:00  13APR12:00:00:00   \n",
       "650  13JAN10:00:00:00  25JAN12:00:00:00  27SEP10:00:00:00  21DEC11:00:00:00   \n",
       "\n",
       "             VAR_0176          VAR_0177          VAR_0178          VAR_0179  \n",
       "ID                                                                           \n",
       "79   16APR12:00:00:00  09JUN12:00:00:00  25MAY12:00:00:00  25MAY12:00:00:00  \n",
       "249  05APR10:00:00:00  21MAY12:00:00:00  01MAR12:00:00:00  13APR12:00:00:00  \n",
       "587  28MAR11:00:00:00  06APR11:00:00:00  05APR11:00:00:00  28MAR11:00:00:00  \n",
       "606  01APR11:00:00:00  14MAY12:00:00:00  13APR12:00:00:00  13APR12:00:00:00  \n",
       "650  13JAN10:00:00:00  25JAN12:00:00:00  27SEP10:00:00:00  21DEC11:00:00:00  "
      ]
     },
     "execution_count": 51,
     "metadata": {},
     "output_type": "execute_result"
    }
   ],
   "source": [
    "dfc.iloc[:,8:16].dropna().head()"
   ]
  },
  {
   "cell_type": "code",
   "execution_count": 52,
   "metadata": {},
   "outputs": [
    {
     "data": {
      "text/html": [
       "<div>\n",
       "<style scoped>\n",
       "    .dataframe tbody tr th:only-of-type {\n",
       "        vertical-align: middle;\n",
       "    }\n",
       "\n",
       "    .dataframe tbody tr th {\n",
       "        vertical-align: top;\n",
       "    }\n",
       "\n",
       "    .dataframe thead th {\n",
       "        text-align: right;\n",
       "    }\n",
       "</style>\n",
       "<table border=\"1\" class=\"dataframe\">\n",
       "  <thead>\n",
       "    <tr style=\"text-align: right;\">\n",
       "      <th></th>\n",
       "      <th>VAR_0200</th>\n",
       "      <th>VAR_0204</th>\n",
       "      <th>VAR_0214</th>\n",
       "      <th>VAR_0217</th>\n",
       "      <th>VAR_0237</th>\n",
       "      <th>VAR_0274</th>\n",
       "      <th>VAR_0283</th>\n",
       "      <th>VAR_0305</th>\n",
       "      <th>VAR_0325</th>\n",
       "      <th>VAR_0342</th>\n",
       "    </tr>\n",
       "    <tr>\n",
       "      <th>ID</th>\n",
       "      <th></th>\n",
       "      <th></th>\n",
       "      <th></th>\n",
       "      <th></th>\n",
       "      <th></th>\n",
       "      <th></th>\n",
       "      <th></th>\n",
       "      <th></th>\n",
       "      <th></th>\n",
       "      <th></th>\n",
       "    </tr>\n",
       "  </thead>\n",
       "  <tbody>\n",
       "    <tr>\n",
       "      <th>15644</th>\n",
       "      <td>VISALIS</td>\n",
       "      <td>31JAN14:23:33:00</td>\n",
       "      <td>HRE-Home Phone-0621</td>\n",
       "      <td>05OCT12:02:00:00</td>\n",
       "      <td>CA</td>\n",
       "      <td>PA</td>\n",
       "      <td>S</td>\n",
       "      <td>S</td>\n",
       "      <td>S</td>\n",
       "      <td>EE</td>\n",
       "    </tr>\n",
       "    <tr>\n",
       "      <th>87489</th>\n",
       "      <td>BATON ROUGE</td>\n",
       "      <td>30JAN14:21:09:00</td>\n",
       "      <td>HRE-Social Security Number-1373</td>\n",
       "      <td>19APR12:02:00:00</td>\n",
       "      <td>LA</td>\n",
       "      <td>LA</td>\n",
       "      <td>H</td>\n",
       "      <td>H</td>\n",
       "      <td>P</td>\n",
       "      <td>CF</td>\n",
       "    </tr>\n",
       "    <tr>\n",
       "      <th>101014</th>\n",
       "      <td>DALLAS</td>\n",
       "      <td>31JAN14:18:34:00</td>\n",
       "      <td>HRE-Social Security Number-1289</td>\n",
       "      <td>16AUG12:02:00:00</td>\n",
       "      <td>TX</td>\n",
       "      <td>TX</td>\n",
       "      <td>H</td>\n",
       "      <td>H</td>\n",
       "      <td>S</td>\n",
       "      <td>UF</td>\n",
       "    </tr>\n",
       "    <tr>\n",
       "      <th>113977</th>\n",
       "      <td>GREENVILLE</td>\n",
       "      <td>30JAN14:23:20:00</td>\n",
       "      <td>HRE-Social Security Number-1747</td>\n",
       "      <td>24MAY12:02:00:00</td>\n",
       "      <td>SC</td>\n",
       "      <td>NY</td>\n",
       "      <td>S</td>\n",
       "      <td>S</td>\n",
       "      <td>H</td>\n",
       "      <td>EE</td>\n",
       "    </tr>\n",
       "    <tr>\n",
       "      <th>123414</th>\n",
       "      <td>MONTGOMERY</td>\n",
       "      <td>30JAN14:21:19:00</td>\n",
       "      <td>HRE-Social Security Number-1397</td>\n",
       "      <td>20APR12:02:00:00</td>\n",
       "      <td>AL</td>\n",
       "      <td>AL</td>\n",
       "      <td>S</td>\n",
       "      <td>S</td>\n",
       "      <td>S</td>\n",
       "      <td>FF</td>\n",
       "    </tr>\n",
       "  </tbody>\n",
       "</table>\n",
       "</div>"
      ],
      "text/plain": [
       "           VAR_0200          VAR_0204                         VAR_0214  \\\n",
       "ID                                                                       \n",
       "15644       VISALIS  31JAN14:23:33:00              HRE-Home Phone-0621   \n",
       "87489   BATON ROUGE  30JAN14:21:09:00  HRE-Social Security Number-1373   \n",
       "101014       DALLAS  31JAN14:18:34:00  HRE-Social Security Number-1289   \n",
       "113977   GREENVILLE  30JAN14:23:20:00  HRE-Social Security Number-1747   \n",
       "123414   MONTGOMERY  30JAN14:21:19:00  HRE-Social Security Number-1397   \n",
       "\n",
       "                VAR_0217 VAR_0237 VAR_0274 VAR_0283 VAR_0305 VAR_0325 VAR_0342  \n",
       "ID                                                                              \n",
       "15644   05OCT12:02:00:00       CA       PA        S        S        S       EE  \n",
       "87489   19APR12:02:00:00       LA       LA        H        H        P       CF  \n",
       "101014  16AUG12:02:00:00       TX       TX        H        H        S       UF  \n",
       "113977  24MAY12:02:00:00       SC       NY        S        S        H       EE  \n",
       "123414  20APR12:02:00:00       AL       AL        S        S        S       FF  "
      ]
     },
     "execution_count": 52,
     "metadata": {},
     "output_type": "execute_result"
    }
   ],
   "source": [
    "dfc.iloc[:,16:26].dropna().head()"
   ]
  },
  {
   "cell_type": "code",
   "execution_count": 53,
   "metadata": {},
   "outputs": [
    {
     "data": {
      "text/html": [
       "<div>\n",
       "<style scoped>\n",
       "    .dataframe tbody tr th:only-of-type {\n",
       "        vertical-align: middle;\n",
       "    }\n",
       "\n",
       "    .dataframe tbody tr th {\n",
       "        vertical-align: top;\n",
       "    }\n",
       "\n",
       "    .dataframe thead th {\n",
       "        text-align: right;\n",
       "    }\n",
       "</style>\n",
       "<table border=\"1\" class=\"dataframe\">\n",
       "  <thead>\n",
       "    <tr style=\"text-align: right;\">\n",
       "      <th></th>\n",
       "      <th>VAR_0352</th>\n",
       "      <th>VAR_0353</th>\n",
       "      <th>VAR_0354</th>\n",
       "      <th>VAR_0404</th>\n",
       "      <th>VAR_0466</th>\n",
       "      <th>VAR_0467</th>\n",
       "      <th>VAR_0493</th>\n",
       "      <th>VAR_1934</th>\n",
       "    </tr>\n",
       "    <tr>\n",
       "      <th>ID</th>\n",
       "      <th></th>\n",
       "      <th></th>\n",
       "      <th></th>\n",
       "      <th></th>\n",
       "      <th></th>\n",
       "      <th></th>\n",
       "      <th></th>\n",
       "      <th></th>\n",
       "    </tr>\n",
       "  </thead>\n",
       "  <tbody>\n",
       "    <tr>\n",
       "      <th>2</th>\n",
       "      <td>O</td>\n",
       "      <td>U</td>\n",
       "      <td>O</td>\n",
       "      <td>CHIEF EXECUTIVE OFFICER</td>\n",
       "      <td>-1</td>\n",
       "      <td>-1</td>\n",
       "      <td>COMMUNITY ASSOCIATION MANAGER</td>\n",
       "      <td>IAPS</td>\n",
       "    </tr>\n",
       "    <tr>\n",
       "      <th>4</th>\n",
       "      <td>O</td>\n",
       "      <td>R</td>\n",
       "      <td>R</td>\n",
       "      <td>-1</td>\n",
       "      <td>I</td>\n",
       "      <td>Discharged</td>\n",
       "      <td>-1</td>\n",
       "      <td>IAPS</td>\n",
       "    </tr>\n",
       "    <tr>\n",
       "      <th>5</th>\n",
       "      <td>R</td>\n",
       "      <td>R</td>\n",
       "      <td>-1</td>\n",
       "      <td>-1</td>\n",
       "      <td>-1</td>\n",
       "      <td>-1</td>\n",
       "      <td>-1</td>\n",
       "      <td>IAPS</td>\n",
       "    </tr>\n",
       "    <tr>\n",
       "      <th>7</th>\n",
       "      <td>R</td>\n",
       "      <td>R</td>\n",
       "      <td>-1</td>\n",
       "      <td>-1</td>\n",
       "      <td>-1</td>\n",
       "      <td>-1</td>\n",
       "      <td>-1</td>\n",
       "      <td>RCC</td>\n",
       "    </tr>\n",
       "    <tr>\n",
       "      <th>8</th>\n",
       "      <td>R</td>\n",
       "      <td>U</td>\n",
       "      <td>O</td>\n",
       "      <td>-1</td>\n",
       "      <td>-1</td>\n",
       "      <td>-1</td>\n",
       "      <td>-1</td>\n",
       "      <td>BRANCH</td>\n",
       "    </tr>\n",
       "  </tbody>\n",
       "</table>\n",
       "</div>"
      ],
      "text/plain": [
       "   VAR_0352 VAR_0353 VAR_0354                 VAR_0404 VAR_0466    VAR_0467  \\\n",
       "ID                                                                            \n",
       "2         O        U        O  CHIEF EXECUTIVE OFFICER       -1          -1   \n",
       "4         O        R        R                       -1        I  Discharged   \n",
       "5         R        R       -1                       -1       -1          -1   \n",
       "7         R        R       -1                       -1       -1          -1   \n",
       "8         R        U        O                       -1       -1          -1   \n",
       "\n",
       "                         VAR_0493 VAR_1934  \n",
       "ID                                          \n",
       "2   COMMUNITY ASSOCIATION MANAGER     IAPS  \n",
       "4                              -1     IAPS  \n",
       "5                              -1     IAPS  \n",
       "7                              -1      RCC  \n",
       "8                              -1   BRANCH  "
      ]
     },
     "execution_count": 53,
     "metadata": {},
     "output_type": "execute_result"
    }
   ],
   "source": [
    "dfc.iloc[:,26:34].dropna().head()"
   ]
  },
  {
   "cell_type": "markdown",
   "metadata": {},
   "source": [
    "Interestingly, about half of the columns contain the datetime data that were not recognized as such by pandas, probably because of the non-standard date format. Among them, only one column (VAR_0204) has the time field filled with non-zero values down to seconds, all the other columns have the time set to 00:00:00 (or to 02:00:00 for the column VAR_0217). Later we wll investigate this structure in more detail.\n",
    "\n",
    "For now, as the datetime columns require different treatment than other data types, let's copy them to a separate dataset:"
   ]
  },
  {
   "cell_type": "code",
   "execution_count": 54,
   "metadata": {},
   "outputs": [
    {
     "data": {
      "text/plain": [
       "((145231, 16), (145232, 16))"
      ]
     },
     "execution_count": 54,
     "metadata": {},
     "output_type": "execute_result"
    }
   ],
   "source": [
    "cols_t = [col for col in dfc.columns if dfc[col].str.contains(':00').sum()>0]\n",
    "\n",
    "dft = dfc[cols_t]\n",
    "dpt = dpc[cols_t]\n",
    "\n",
    "dft.shape,dpt.shape"
   ]
  },
  {
   "cell_type": "markdown",
   "metadata": {},
   "source": [
    "and remove from the sample containing other string variables:"
   ]
  },
  {
   "cell_type": "code",
   "execution_count": 55,
   "metadata": {},
   "outputs": [
    {
     "data": {
      "text/plain": [
       "((145231, 18), (145231, 18))"
      ]
     },
     "execution_count": 55,
     "metadata": {},
     "output_type": "execute_result"
    }
   ],
   "source": [
    "dfc = dfc.drop(cols_t,axis=1)\n",
    "dpc = dpc.drop(cols_t,axis=1)\n",
    "\n",
    "dfc.shape,dfc.shape"
   ]
  },
  {
   "cell_type": "markdown",
   "metadata": {},
   "source": [
    "How many missing values are there in the datetime data:"
   ]
  },
  {
   "cell_type": "code",
   "execution_count": 56,
   "metadata": {},
   "outputs": [
    {
     "data": {
      "text/plain": [
       "VAR_0073    101127\n",
       "VAR_0075        56\n",
       "VAR_0156    139361\n",
       "VAR_0157    144311\n",
       "VAR_0158    143142\n",
       "VAR_0159    139361\n",
       "VAR_0166    131001\n",
       "VAR_0167    142664\n",
       "VAR_0168    134506\n",
       "VAR_0169    131001\n",
       "VAR_0176    127699\n",
       "VAR_0177    141873\n",
       "VAR_0178    133158\n",
       "VAR_0179    127699\n",
       "VAR_0204        56\n",
       "VAR_0217        56\n",
       "dtype: int64"
      ]
     },
     "execution_count": 56,
     "metadata": {},
     "output_type": "execute_result"
    }
   ],
   "source": [
    "dft.isna().sum()"
   ]
  },
  {
   "cell_type": "markdown",
   "metadata": {},
   "source": [
    "Plenty! In 13 columns NaNs are present in more than 100,000 rows, corresponding to missing fraction that varies from ~70 to 99.4%. These columns are listed among 24 of those highly populated with NaNs that were mentioned in Sec. 3.3. Only 3 columns are almost fully filled with data, they miss values in only 56 rows (0.04% of total). We will investigate this structure later."
   ]
  },
  {
   "cell_type": "markdown",
   "metadata": {},
   "source": [
    "Now back to the string data. We're left with 18 columns, let's print their content again:"
   ]
  },
  {
   "cell_type": "code",
   "execution_count": 57,
   "metadata": {},
   "outputs": [
    {
     "data": {
      "text/html": [
       "<div>\n",
       "<style scoped>\n",
       "    .dataframe tbody tr th:only-of-type {\n",
       "        vertical-align: middle;\n",
       "    }\n",
       "\n",
       "    .dataframe tbody tr th {\n",
       "        vertical-align: top;\n",
       "    }\n",
       "\n",
       "    .dataframe thead th {\n",
       "        text-align: right;\n",
       "    }\n",
       "</style>\n",
       "<table border=\"1\" class=\"dataframe\">\n",
       "  <thead>\n",
       "    <tr style=\"text-align: right;\">\n",
       "      <th></th>\n",
       "      <th>VAR_0001</th>\n",
       "      <th>VAR_0005</th>\n",
       "      <th>VAR_0200</th>\n",
       "      <th>VAR_0214</th>\n",
       "      <th>VAR_0237</th>\n",
       "      <th>VAR_0274</th>\n",
       "      <th>VAR_0283</th>\n",
       "      <th>VAR_0305</th>\n",
       "      <th>VAR_0325</th>\n",
       "      <th>VAR_0342</th>\n",
       "      <th>VAR_0352</th>\n",
       "      <th>VAR_0353</th>\n",
       "    </tr>\n",
       "    <tr>\n",
       "      <th>ID</th>\n",
       "      <th></th>\n",
       "      <th></th>\n",
       "      <th></th>\n",
       "      <th></th>\n",
       "      <th></th>\n",
       "      <th></th>\n",
       "      <th></th>\n",
       "      <th></th>\n",
       "      <th></th>\n",
       "      <th></th>\n",
       "      <th></th>\n",
       "      <th></th>\n",
       "    </tr>\n",
       "  </thead>\n",
       "  <tbody>\n",
       "    <tr>\n",
       "      <th>15644</th>\n",
       "      <td>R</td>\n",
       "      <td>B</td>\n",
       "      <td>VISALIS</td>\n",
       "      <td>HRE-Home Phone-0621</td>\n",
       "      <td>CA</td>\n",
       "      <td>PA</td>\n",
       "      <td>S</td>\n",
       "      <td>S</td>\n",
       "      <td>S</td>\n",
       "      <td>EE</td>\n",
       "      <td>U</td>\n",
       "      <td>U</td>\n",
       "    </tr>\n",
       "    <tr>\n",
       "      <th>87489</th>\n",
       "      <td>R</td>\n",
       "      <td>C</td>\n",
       "      <td>BATON ROUGE</td>\n",
       "      <td>HRE-Social Security Number-1373</td>\n",
       "      <td>LA</td>\n",
       "      <td>LA</td>\n",
       "      <td>H</td>\n",
       "      <td>H</td>\n",
       "      <td>P</td>\n",
       "      <td>CF</td>\n",
       "      <td>R</td>\n",
       "      <td>R</td>\n",
       "    </tr>\n",
       "    <tr>\n",
       "      <th>101014</th>\n",
       "      <td>R</td>\n",
       "      <td>B</td>\n",
       "      <td>DALLAS</td>\n",
       "      <td>HRE-Social Security Number-1289</td>\n",
       "      <td>TX</td>\n",
       "      <td>TX</td>\n",
       "      <td>H</td>\n",
       "      <td>H</td>\n",
       "      <td>S</td>\n",
       "      <td>UF</td>\n",
       "      <td>R</td>\n",
       "      <td>U</td>\n",
       "    </tr>\n",
       "    <tr>\n",
       "      <th>113977</th>\n",
       "      <td>H</td>\n",
       "      <td>C</td>\n",
       "      <td>GREENVILLE</td>\n",
       "      <td>HRE-Social Security Number-1747</td>\n",
       "      <td>SC</td>\n",
       "      <td>NY</td>\n",
       "      <td>S</td>\n",
       "      <td>S</td>\n",
       "      <td>H</td>\n",
       "      <td>EE</td>\n",
       "      <td>O</td>\n",
       "      <td>R</td>\n",
       "    </tr>\n",
       "    <tr>\n",
       "      <th>123414</th>\n",
       "      <td>H</td>\n",
       "      <td>C</td>\n",
       "      <td>MONTGOMERY</td>\n",
       "      <td>HRE-Social Security Number-1397</td>\n",
       "      <td>AL</td>\n",
       "      <td>AL</td>\n",
       "      <td>S</td>\n",
       "      <td>S</td>\n",
       "      <td>S</td>\n",
       "      <td>FF</td>\n",
       "      <td>U</td>\n",
       "      <td>U</td>\n",
       "    </tr>\n",
       "  </tbody>\n",
       "</table>\n",
       "</div>"
      ],
      "text/plain": [
       "       VAR_0001 VAR_0005     VAR_0200                         VAR_0214  \\\n",
       "ID                                                                       \n",
       "15644         R        B      VISALIS              HRE-Home Phone-0621   \n",
       "87489         R        C  BATON ROUGE  HRE-Social Security Number-1373   \n",
       "101014        R        B       DALLAS  HRE-Social Security Number-1289   \n",
       "113977        H        C   GREENVILLE  HRE-Social Security Number-1747   \n",
       "123414        H        C   MONTGOMERY  HRE-Social Security Number-1397   \n",
       "\n",
       "       VAR_0237 VAR_0274 VAR_0283 VAR_0305 VAR_0325 VAR_0342 VAR_0352 VAR_0353  \n",
       "ID                                                                              \n",
       "15644        CA       PA        S        S        S       EE        U        U  \n",
       "87489        LA       LA        H        H        P       CF        R        R  \n",
       "101014       TX       TX        H        H        S       UF        R        U  \n",
       "113977       SC       NY        S        S        H       EE        O        R  \n",
       "123414       AL       AL        S        S        S       FF        U        U  "
      ]
     },
     "execution_count": 57,
     "metadata": {},
     "output_type": "execute_result"
    }
   ],
   "source": [
    "dfc.iloc[:,0:12].dropna().head()"
   ]
  },
  {
   "cell_type": "code",
   "execution_count": 58,
   "metadata": {},
   "outputs": [
    {
     "data": {
      "text/html": [
       "<div>\n",
       "<style scoped>\n",
       "    .dataframe tbody tr th:only-of-type {\n",
       "        vertical-align: middle;\n",
       "    }\n",
       "\n",
       "    .dataframe tbody tr th {\n",
       "        vertical-align: top;\n",
       "    }\n",
       "\n",
       "    .dataframe thead th {\n",
       "        text-align: right;\n",
       "    }\n",
       "</style>\n",
       "<table border=\"1\" class=\"dataframe\">\n",
       "  <thead>\n",
       "    <tr style=\"text-align: right;\">\n",
       "      <th></th>\n",
       "      <th>VAR_0354</th>\n",
       "      <th>VAR_0404</th>\n",
       "      <th>VAR_0466</th>\n",
       "      <th>VAR_0467</th>\n",
       "      <th>VAR_0493</th>\n",
       "      <th>VAR_1934</th>\n",
       "    </tr>\n",
       "    <tr>\n",
       "      <th>ID</th>\n",
       "      <th></th>\n",
       "      <th></th>\n",
       "      <th></th>\n",
       "      <th></th>\n",
       "      <th></th>\n",
       "      <th></th>\n",
       "    </tr>\n",
       "  </thead>\n",
       "  <tbody>\n",
       "    <tr>\n",
       "      <th>2</th>\n",
       "      <td>O</td>\n",
       "      <td>CHIEF EXECUTIVE OFFICER</td>\n",
       "      <td>-1</td>\n",
       "      <td>-1</td>\n",
       "      <td>COMMUNITY ASSOCIATION MANAGER</td>\n",
       "      <td>IAPS</td>\n",
       "    </tr>\n",
       "    <tr>\n",
       "      <th>4</th>\n",
       "      <td>R</td>\n",
       "      <td>-1</td>\n",
       "      <td>I</td>\n",
       "      <td>Discharged</td>\n",
       "      <td>-1</td>\n",
       "      <td>IAPS</td>\n",
       "    </tr>\n",
       "    <tr>\n",
       "      <th>5</th>\n",
       "      <td>-1</td>\n",
       "      <td>-1</td>\n",
       "      <td>-1</td>\n",
       "      <td>-1</td>\n",
       "      <td>-1</td>\n",
       "      <td>IAPS</td>\n",
       "    </tr>\n",
       "    <tr>\n",
       "      <th>7</th>\n",
       "      <td>-1</td>\n",
       "      <td>-1</td>\n",
       "      <td>-1</td>\n",
       "      <td>-1</td>\n",
       "      <td>-1</td>\n",
       "      <td>RCC</td>\n",
       "    </tr>\n",
       "    <tr>\n",
       "      <th>8</th>\n",
       "      <td>O</td>\n",
       "      <td>-1</td>\n",
       "      <td>-1</td>\n",
       "      <td>-1</td>\n",
       "      <td>-1</td>\n",
       "      <td>BRANCH</td>\n",
       "    </tr>\n",
       "  </tbody>\n",
       "</table>\n",
       "</div>"
      ],
      "text/plain": [
       "   VAR_0354                 VAR_0404 VAR_0466    VAR_0467  \\\n",
       "ID                                                          \n",
       "2         O  CHIEF EXECUTIVE OFFICER       -1          -1   \n",
       "4         R                       -1        I  Discharged   \n",
       "5        -1                       -1       -1          -1   \n",
       "7        -1                       -1       -1          -1   \n",
       "8         O                       -1       -1          -1   \n",
       "\n",
       "                         VAR_0493 VAR_1934  \n",
       "ID                                          \n",
       "2   COMMUNITY ASSOCIATION MANAGER     IAPS  \n",
       "4                              -1     IAPS  \n",
       "5                              -1     IAPS  \n",
       "7                              -1      RCC  \n",
       "8                              -1   BRANCH  "
      ]
     },
     "execution_count": 58,
     "metadata": {},
     "output_type": "execute_result"
    }
   ],
   "source": [
    "dfc.iloc[:,12:18].dropna().head()"
   ]
  },
  {
   "cell_type": "markdown",
   "metadata": {},
   "source": [
    "together with the corresponding number of unique values, and missing values coded with NA and with -1:"
   ]
  },
  {
   "cell_type": "code",
   "execution_count": 59,
   "metadata": {},
   "outputs": [
    {
     "data": {
      "text/html": [
       "<div>\n",
       "<style scoped>\n",
       "    .dataframe tbody tr th:only-of-type {\n",
       "        vertical-align: middle;\n",
       "    }\n",
       "\n",
       "    .dataframe tbody tr th {\n",
       "        vertical-align: top;\n",
       "    }\n",
       "\n",
       "    .dataframe thead th {\n",
       "        text-align: right;\n",
       "    }\n",
       "</style>\n",
       "<table border=\"1\" class=\"dataframe\">\n",
       "  <thead>\n",
       "    <tr style=\"text-align: right;\">\n",
       "      <th></th>\n",
       "      <th>N unique</th>\n",
       "      <th>N(nans)</th>\n",
       "      <th>N(-1)</th>\n",
       "    </tr>\n",
       "  </thead>\n",
       "  <tbody>\n",
       "    <tr>\n",
       "      <th>VAR_0001</th>\n",
       "      <td>3</td>\n",
       "      <td>0</td>\n",
       "      <td>0</td>\n",
       "    </tr>\n",
       "    <tr>\n",
       "      <th>VAR_0005</th>\n",
       "      <td>4</td>\n",
       "      <td>0</td>\n",
       "      <td>0</td>\n",
       "    </tr>\n",
       "    <tr>\n",
       "      <th>VAR_0200</th>\n",
       "      <td>12385</td>\n",
       "      <td>60</td>\n",
       "      <td>0</td>\n",
       "    </tr>\n",
       "    <tr>\n",
       "      <th>VAR_0214</th>\n",
       "      <td>12</td>\n",
       "      <td>145219</td>\n",
       "      <td>0</td>\n",
       "    </tr>\n",
       "    <tr>\n",
       "      <th>VAR_0237</th>\n",
       "      <td>45</td>\n",
       "      <td>56</td>\n",
       "      <td>0</td>\n",
       "    </tr>\n",
       "    <tr>\n",
       "      <th>VAR_0274</th>\n",
       "      <td>57</td>\n",
       "      <td>918</td>\n",
       "      <td>327</td>\n",
       "    </tr>\n",
       "    <tr>\n",
       "      <th>VAR_0283</th>\n",
       "      <td>7</td>\n",
       "      <td>918</td>\n",
       "      <td>4960</td>\n",
       "    </tr>\n",
       "    <tr>\n",
       "      <th>VAR_0305</th>\n",
       "      <td>8</td>\n",
       "      <td>918</td>\n",
       "      <td>2907</td>\n",
       "    </tr>\n",
       "    <tr>\n",
       "      <th>VAR_0325</th>\n",
       "      <td>9</td>\n",
       "      <td>918</td>\n",
       "      <td>13574</td>\n",
       "    </tr>\n",
       "    <tr>\n",
       "      <th>VAR_0342</th>\n",
       "      <td>50</td>\n",
       "      <td>918</td>\n",
       "      <td>30969</td>\n",
       "    </tr>\n",
       "    <tr>\n",
       "      <th>VAR_0352</th>\n",
       "      <td>4</td>\n",
       "      <td>918</td>\n",
       "      <td>2521</td>\n",
       "    </tr>\n",
       "    <tr>\n",
       "      <th>VAR_0353</th>\n",
       "      <td>4</td>\n",
       "      <td>918</td>\n",
       "      <td>5944</td>\n",
       "    </tr>\n",
       "    <tr>\n",
       "      <th>VAR_0354</th>\n",
       "      <td>4</td>\n",
       "      <td>918</td>\n",
       "      <td>23643</td>\n",
       "    </tr>\n",
       "    <tr>\n",
       "      <th>VAR_0404</th>\n",
       "      <td>1823</td>\n",
       "      <td>918</td>\n",
       "      <td>130443</td>\n",
       "    </tr>\n",
       "    <tr>\n",
       "      <th>VAR_0466</th>\n",
       "      <td>2</td>\n",
       "      <td>918</td>\n",
       "      <td>121461</td>\n",
       "    </tr>\n",
       "    <tr>\n",
       "      <th>VAR_0467</th>\n",
       "      <td>4</td>\n",
       "      <td>918</td>\n",
       "      <td>121675</td>\n",
       "    </tr>\n",
       "    <tr>\n",
       "      <th>VAR_0493</th>\n",
       "      <td>608</td>\n",
       "      <td>918</td>\n",
       "      <td>135182</td>\n",
       "    </tr>\n",
       "    <tr>\n",
       "      <th>VAR_1934</th>\n",
       "      <td>5</td>\n",
       "      <td>0</td>\n",
       "      <td>0</td>\n",
       "    </tr>\n",
       "  </tbody>\n",
       "</table>\n",
       "</div>"
      ],
      "text/plain": [
       "          N unique  N(nans)   N(-1)\n",
       "VAR_0001         3        0       0\n",
       "VAR_0005         4        0       0\n",
       "VAR_0200     12385       60       0\n",
       "VAR_0214        12   145219       0\n",
       "VAR_0237        45       56       0\n",
       "VAR_0274        57      918     327\n",
       "VAR_0283         7      918    4960\n",
       "VAR_0305         8      918    2907\n",
       "VAR_0325         9      918   13574\n",
       "VAR_0342        50      918   30969\n",
       "VAR_0352         4      918    2521\n",
       "VAR_0353         4      918    5944\n",
       "VAR_0354         4      918   23643\n",
       "VAR_0404      1823      918  130443\n",
       "VAR_0466         2      918  121461\n",
       "VAR_0467         4      918  121675\n",
       "VAR_0493       608      918  135182\n",
       "VAR_1934         5        0       0"
      ]
     },
     "execution_count": 59,
     "metadata": {},
     "output_type": "execute_result"
    }
   ],
   "source": [
    "more_info = dfc.agg([lambda x: x.nunique(),lambda x: x.isna().sum(),lambda x: (x == '-1').sum()],axis=0)\n",
    "more_info.index = ['N unique','N(nans)', 'N(-1)']\n",
    "more_info.T"
   ]
  },
  {
   "cell_type": "markdown",
   "metadata": {},
   "source": [
    "What can we say about the data?\n",
    "\n",
    "1) One immediate observation is that column VAR_0214 contains 145,219 NaNs and 12 unique values. They add up to 145,231, which is exactly the number of rows in the dataset. This means that the column contains only 12 non-zero entries, and they correspond to social security number of a handfull of patients. Such column has no impact on the modeling of client response, so we will remove it from the dataset:"
   ]
  },
  {
   "cell_type": "code",
   "execution_count": 60,
   "metadata": {},
   "outputs": [
    {
     "data": {
      "text/plain": [
       "((145231, 17), (145232, 17))"
      ]
     },
     "execution_count": 60,
     "metadata": {},
     "output_type": "execute_result"
    }
   ],
   "source": [
    "dfc = dfc.drop('VAR_0214',axis=1)\n",
    "dpc = dpc.drop('VAR_0214',axis=1)\n",
    "\n",
    "dfc.shape,dpc.shape"
   ]
  },
  {
   "cell_type": "markdown",
   "metadata": {},
   "source": [
    "2) column VAR_0200 has very large number of unique values (12.3k) corresponding to names of US cities, which is clearly too large to be treated as a categorical variable. To overcome this problem, we will use external information from census data and convert a city name to its population size.\n",
    "\n",
    "\n",
    "3) also columns VAR_0404 and VAR_0493 contain very large number of unique values (1.8k and 600) that cannot be treated as categorical variables. They have a very large number of missing values encoded with -1, ~130k or 93% of total rows. What do they contain?:"
   ]
  },
  {
   "cell_type": "code",
   "execution_count": 61,
   "metadata": {},
   "outputs": [
    {
     "data": {
      "text/plain": [
       "<StringArray>\n",
       "[            'CHIEF EXECUTIVE OFFICER',                                  '-1',\n",
       "                               'CONTA',                             'CONTACT',\n",
       "                           'PRESIDENT',              'RECEPTIONIST/SECRETARY',\n",
       "                               'AGENT',                       'OWNER/MANAGER',\n",
       "                          'REGISTRANT',                                  <NA>,\n",
       " ...\n",
       "                              'TRADER',               'INTERACTIVE DEVELOPER',\n",
       " 'SHOWCASE W AND  CELEB EVENT DESIGNE',           'INSURANCE/BILLING MANAGER',\n",
       "                   'PROGRAM ASSISTANT',   'MEMBERSHIP AND MARKETING DIRECTOR',\n",
       "             'NITSCHMANN TECHNOLOGIST',                     'GENERAL COUNSEL',\n",
       "    'DEPUTY FEDERAL SECURITY DIRECTOR',                'COMPLIMENTARY MEMBER']\n",
       "Length: 1824, dtype: string"
      ]
     },
     "execution_count": 61,
     "metadata": {},
     "output_type": "execute_result"
    }
   ],
   "source": [
    "dfc['VAR_0404'].unique()"
   ]
  },
  {
   "cell_type": "code",
   "execution_count": 62,
   "metadata": {},
   "outputs": [
    {
     "data": {
      "text/plain": [
       "<StringArray>\n",
       "['COMMUNITY ASSOCIATION MANAGER',                            '-1',\n",
       "      'LICENSED PRACTICAL NURSE',     'LICENSED VOCATIONAL NURSE',\n",
       "  'EMERGENCY MEDICAL TECHNICIAN',                  'ELECTRICIANS',\n",
       "      'STAFF NURSE/GENERAL DUTY',                            <NA>,\n",
       "                     'COUNSELOR',              'REGISTERED NURSE',\n",
       " ...\n",
       "           'INTERNS & RESIDENTS',           'REGISTERED VET TECH',\n",
       "        'MEDICAL X-RAY OPERATOR',  'VETERINARY ANIMAL TECHNICIAN',\n",
       "          'BACHELOR SOCIAL WORK',                'BRAKE ADJUSTER',\n",
       "       'AGENCY EMPLOYEE - ARMED', 'CERTIFIED BLACKFLOW OPERATORS',\n",
       "                  'ARCHITECTURE',           'RESIDENTIAL WIREMAN']\n",
       "Length: 609, dtype: string"
      ]
     },
     "execution_count": 62,
     "metadata": {},
     "output_type": "execute_result"
    }
   ],
   "source": [
    "dfc['VAR_0493'].unique()"
   ]
  },
  {
   "cell_type": "markdown",
   "metadata": {},
   "source": [
    "Names of customer or patient professions, which might be difficult to encode into a few categorical variables. We will give it a try in the next chapter, but it's probable that these two columns will be removed from the dataset as well."
   ]
  },
  {
   "cell_type": "markdown",
   "metadata": {},
   "source": [
    "4) All the other columns have less than 60 unique values (and most of them even less than 10) coded by a letter and a short abbreviation. They are the classic examples of categorical variables. Among them, there are 2 columns VAR_0237 and VAR_0274 that contain abbreviations of US states. As far as missing values are concerned, these columns have the fraction of empty rows that varies from 0 to as high as 84%, so in next sections we will need to investigate how this might affect the customer churn prediction."
   ]
  },
  {
   "cell_type": "markdown",
   "metadata": {},
   "source": [
    "### 5. Supporting dataset with city information<a id='5'></a>"
   ]
  },
  {
   "cell_type": "markdown",
   "metadata": {},
   "source": [
    "One of the categorical variables contains about 12k entries with city names, which we said we would convert to a numerical feature with city population information. To do so, we will use a city database that is publically available at [https://simplemaps.com/data/us-cities](https://simplemaps.com/data/us-cities). It is based on the data from the U.S. Geological Survey and U.S. Census Bureau, contains information on all Census-recognized cities/towns from all 50 states. The database is very well documented and was last updated in Nov 2020, so  we hope we have up-to-date information.\n",
    "\n",
    "Let's load the data and prepare it for further processing:"
   ]
  },
  {
   "cell_type": "code",
   "execution_count": 63,
   "metadata": {},
   "outputs": [],
   "source": [
    "db = pd.read_csv(\"uscities.csv\")"
   ]
  },
  {
   "cell_type": "code",
   "execution_count": 64,
   "metadata": {},
   "outputs": [
    {
     "name": "stdout",
     "output_type": "stream",
     "text": [
      "<class 'pandas.core.frame.DataFrame'>\n",
      "RangeIndex: 28372 entries, 0 to 28371\n",
      "Data columns (total 17 columns):\n",
      " #   Column        Non-Null Count  Dtype  \n",
      "---  ------        --------------  -----  \n",
      " 0   city          28372 non-null  object \n",
      " 1   city_ascii    28372 non-null  object \n",
      " 2   state_id      28372 non-null  object \n",
      " 3   state_name    28372 non-null  object \n",
      " 4   county_fips   28372 non-null  int64  \n",
      " 5   county_name   28372 non-null  object \n",
      " 6   lat           28372 non-null  float64\n",
      " 7   lng           28372 non-null  float64\n",
      " 8   population    28372 non-null  int64  \n",
      " 9   density       28372 non-null  float64\n",
      " 10  source        28372 non-null  object \n",
      " 11  military      28372 non-null  bool   \n",
      " 12  incorporated  28372 non-null  bool   \n",
      " 13  timezone      28372 non-null  object \n",
      " 14  ranking       28372 non-null  int64  \n",
      " 15  zips          28371 non-null  object \n",
      " 16  id            28372 non-null  int64  \n",
      "dtypes: bool(2), float64(3), int64(4), object(8)\n",
      "memory usage: 3.3+ MB\n"
     ]
    }
   ],
   "source": [
    "db.info()"
   ]
  },
  {
   "cell_type": "code",
   "execution_count": 65,
   "metadata": {},
   "outputs": [
    {
     "data": {
      "text/html": [
       "<div>\n",
       "<style scoped>\n",
       "    .dataframe tbody tr th:only-of-type {\n",
       "        vertical-align: middle;\n",
       "    }\n",
       "\n",
       "    .dataframe tbody tr th {\n",
       "        vertical-align: top;\n",
       "    }\n",
       "\n",
       "    .dataframe thead th {\n",
       "        text-align: right;\n",
       "    }\n",
       "</style>\n",
       "<table border=\"1\" class=\"dataframe\">\n",
       "  <thead>\n",
       "    <tr style=\"text-align: right;\">\n",
       "      <th></th>\n",
       "      <th>city</th>\n",
       "      <th>city_ascii</th>\n",
       "      <th>state_id</th>\n",
       "      <th>state_name</th>\n",
       "      <th>county_fips</th>\n",
       "      <th>county_name</th>\n",
       "      <th>lat</th>\n",
       "      <th>lng</th>\n",
       "      <th>population</th>\n",
       "      <th>density</th>\n",
       "      <th>source</th>\n",
       "      <th>military</th>\n",
       "      <th>incorporated</th>\n",
       "      <th>timezone</th>\n",
       "      <th>ranking</th>\n",
       "      <th>zips</th>\n",
       "      <th>id</th>\n",
       "    </tr>\n",
       "  </thead>\n",
       "  <tbody>\n",
       "    <tr>\n",
       "      <th>0</th>\n",
       "      <td>New York</td>\n",
       "      <td>New York</td>\n",
       "      <td>NY</td>\n",
       "      <td>New York</td>\n",
       "      <td>36061</td>\n",
       "      <td>New York</td>\n",
       "      <td>40.6943</td>\n",
       "      <td>-73.9249</td>\n",
       "      <td>18713220</td>\n",
       "      <td>10715.0</td>\n",
       "      <td>polygon</td>\n",
       "      <td>False</td>\n",
       "      <td>True</td>\n",
       "      <td>America/New_York</td>\n",
       "      <td>1</td>\n",
       "      <td>11229 11226 11225 11224 11222 11221 11220 1138...</td>\n",
       "      <td>1840034016</td>\n",
       "    </tr>\n",
       "    <tr>\n",
       "      <th>1</th>\n",
       "      <td>Los Angeles</td>\n",
       "      <td>Los Angeles</td>\n",
       "      <td>CA</td>\n",
       "      <td>California</td>\n",
       "      <td>6037</td>\n",
       "      <td>Los Angeles</td>\n",
       "      <td>34.1139</td>\n",
       "      <td>-118.4068</td>\n",
       "      <td>12750807</td>\n",
       "      <td>3276.0</td>\n",
       "      <td>polygon</td>\n",
       "      <td>False</td>\n",
       "      <td>True</td>\n",
       "      <td>America/Los_Angeles</td>\n",
       "      <td>1</td>\n",
       "      <td>90291 90293 90292 91316 91311 90037 90031 9000...</td>\n",
       "      <td>1840020491</td>\n",
       "    </tr>\n",
       "  </tbody>\n",
       "</table>\n",
       "</div>"
      ],
      "text/plain": [
       "          city   city_ascii state_id  state_name  county_fips  county_name  \\\n",
       "0     New York     New York       NY    New York        36061     New York   \n",
       "1  Los Angeles  Los Angeles       CA  California         6037  Los Angeles   \n",
       "\n",
       "       lat       lng  population  density   source  military  incorporated  \\\n",
       "0  40.6943  -73.9249    18713220  10715.0  polygon     False          True   \n",
       "1  34.1139 -118.4068    12750807   3276.0  polygon     False          True   \n",
       "\n",
       "              timezone  ranking  \\\n",
       "0     America/New_York        1   \n",
       "1  America/Los_Angeles        1   \n",
       "\n",
       "                                                zips          id  \n",
       "0  11229 11226 11225 11224 11222 11221 11220 1138...  1840034016  \n",
       "1  90291 90293 90292 91316 91311 90037 90031 9000...  1840020491  "
      ]
     },
     "execution_count": 65,
     "metadata": {},
     "output_type": "execute_result"
    }
   ],
   "source": [
    "db.head(2)"
   ]
  },
  {
   "cell_type": "markdown",
   "metadata": {},
   "source": [
    "Any missing values?:"
   ]
  },
  {
   "cell_type": "code",
   "execution_count": 66,
   "metadata": {},
   "outputs": [
    {
     "data": {
      "text/plain": [
       "city            0\n",
       "city_ascii      0\n",
       "state_id        0\n",
       "state_name      0\n",
       "county_fips     0\n",
       "county_name     0\n",
       "lat             0\n",
       "lng             0\n",
       "population      0\n",
       "density         0\n",
       "source          0\n",
       "military        0\n",
       "incorporated    0\n",
       "timezone        0\n",
       "ranking         0\n",
       "zips            1\n",
       "id              0\n",
       "dtype: int64"
      ]
     },
     "execution_count": 66,
     "metadata": {},
     "output_type": "execute_result"
    }
   ],
   "source": [
    "db.isna().sum()"
   ]
  },
  {
   "cell_type": "markdown",
   "metadata": {},
   "source": [
    "Yes, one row with lacking zip information, let's see what's in it:"
   ]
  },
  {
   "cell_type": "code",
   "execution_count": 67,
   "metadata": {},
   "outputs": [
    {
     "data": {
      "text/html": [
       "<div>\n",
       "<style scoped>\n",
       "    .dataframe tbody tr th:only-of-type {\n",
       "        vertical-align: middle;\n",
       "    }\n",
       "\n",
       "    .dataframe tbody tr th {\n",
       "        vertical-align: top;\n",
       "    }\n",
       "\n",
       "    .dataframe thead th {\n",
       "        text-align: right;\n",
       "    }\n",
       "</style>\n",
       "<table border=\"1\" class=\"dataframe\">\n",
       "  <thead>\n",
       "    <tr style=\"text-align: right;\">\n",
       "      <th></th>\n",
       "      <th>city</th>\n",
       "      <th>city_ascii</th>\n",
       "      <th>state_id</th>\n",
       "      <th>state_name</th>\n",
       "      <th>county_fips</th>\n",
       "      <th>county_name</th>\n",
       "      <th>lat</th>\n",
       "      <th>lng</th>\n",
       "      <th>population</th>\n",
       "      <th>density</th>\n",
       "      <th>source</th>\n",
       "      <th>military</th>\n",
       "      <th>incorporated</th>\n",
       "      <th>timezone</th>\n",
       "      <th>ranking</th>\n",
       "      <th>zips</th>\n",
       "      <th>id</th>\n",
       "    </tr>\n",
       "  </thead>\n",
       "  <tbody>\n",
       "    <tr>\n",
       "      <th>28168</th>\n",
       "      <td>Attu Station</td>\n",
       "      <td>Attu Station</td>\n",
       "      <td>AK</td>\n",
       "      <td>Alaska</td>\n",
       "      <td>2016</td>\n",
       "      <td>Aleutians West</td>\n",
       "      <td>52.8955</td>\n",
       "      <td>173.123</td>\n",
       "      <td>17</td>\n",
       "      <td>0.0</td>\n",
       "      <td>polygon</td>\n",
       "      <td>False</td>\n",
       "      <td>True</td>\n",
       "      <td>America/Adak</td>\n",
       "      <td>3</td>\n",
       "      <td>NaN</td>\n",
       "      <td>1840037663</td>\n",
       "    </tr>\n",
       "  </tbody>\n",
       "</table>\n",
       "</div>"
      ],
      "text/plain": [
       "               city    city_ascii state_id state_name  county_fips  \\\n",
       "28168  Attu Station  Attu Station       AK     Alaska         2016   \n",
       "\n",
       "          county_name      lat      lng  population  density   source  \\\n",
       "28168  Aleutians West  52.8955  173.123          17      0.0  polygon   \n",
       "\n",
       "       military  incorporated      timezone  ranking zips          id  \n",
       "28168     False          True  America/Adak        3  NaN  1840037663  "
      ]
     },
     "execution_count": 67,
     "metadata": {},
     "output_type": "execute_result"
    }
   ],
   "source": [
    "db[db['zips'].isna()]"
   ]
  },
  {
   "cell_type": "markdown",
   "metadata": {},
   "source": [
    "A place in Alaska with a population of 17 people. Probably many healthy individuals :-) Let's remove this entry from the dataset:"
   ]
  },
  {
   "cell_type": "code",
   "execution_count": 68,
   "metadata": {},
   "outputs": [
    {
     "data": {
      "text/plain": [
       "city            0\n",
       "city_ascii      0\n",
       "state_id        0\n",
       "state_name      0\n",
       "county_fips     0\n",
       "county_name     0\n",
       "lat             0\n",
       "lng             0\n",
       "population      0\n",
       "density         0\n",
       "source          0\n",
       "military        0\n",
       "incorporated    0\n",
       "timezone        0\n",
       "ranking         0\n",
       "zips            0\n",
       "id              0\n",
       "dtype: int64"
      ]
     },
     "execution_count": 68,
     "metadata": {},
     "output_type": "execute_result"
    }
   ],
   "source": [
    "db = db.drop(db[db['zips'].isna()].index)\n",
    "db.isna().sum()"
   ]
  },
  {
   "cell_type": "markdown",
   "metadata": {},
   "source": [
    "The data provides lot of useful information, including population size, population density, and also zip codes. What's the difference between the *city* and *city_ascii* columns? Let's print out a few of them that are different:"
   ]
  },
  {
   "cell_type": "code",
   "execution_count": 69,
   "metadata": {},
   "outputs": [
    {
     "data": {
      "text/html": [
       "<div>\n",
       "<style scoped>\n",
       "    .dataframe tbody tr th:only-of-type {\n",
       "        vertical-align: middle;\n",
       "    }\n",
       "\n",
       "    .dataframe tbody tr th {\n",
       "        vertical-align: top;\n",
       "    }\n",
       "\n",
       "    .dataframe thead th {\n",
       "        text-align: right;\n",
       "    }\n",
       "</style>\n",
       "<table border=\"1\" class=\"dataframe\">\n",
       "  <thead>\n",
       "    <tr style=\"text-align: right;\">\n",
       "      <th></th>\n",
       "      <th>city</th>\n",
       "      <th>city_ascii</th>\n",
       "    </tr>\n",
       "  </thead>\n",
       "  <tbody>\n",
       "    <tr>\n",
       "      <th>270</th>\n",
       "      <td>Bayamón</td>\n",
       "      <td>Bayamon</td>\n",
       "    </tr>\n",
       "    <tr>\n",
       "      <th>786</th>\n",
       "      <td>Mayagüez</td>\n",
       "      <td>Mayaguez</td>\n",
       "    </tr>\n",
       "    <tr>\n",
       "      <th>1727</th>\n",
       "      <td>Cañon City</td>\n",
       "      <td>Canon City</td>\n",
       "    </tr>\n",
       "    <tr>\n",
       "      <th>1853</th>\n",
       "      <td>Española</td>\n",
       "      <td>Espanola</td>\n",
       "    </tr>\n",
       "    <tr>\n",
       "      <th>1927</th>\n",
       "      <td>Cataño</td>\n",
       "      <td>Catano</td>\n",
       "    </tr>\n",
       "  </tbody>\n",
       "</table>\n",
       "</div>"
      ],
      "text/plain": [
       "            city  city_ascii\n",
       "270      Bayamón     Bayamon\n",
       "786     Mayagüez    Mayaguez\n",
       "1727  Cañon City  Canon City\n",
       "1853    Española    Espanola\n",
       "1927      Cataño      Catano"
      ]
     },
     "execution_count": 69,
     "metadata": {},
     "output_type": "execute_result"
    }
   ],
   "source": [
    "db[['city','city_ascii']][db.city != db.city_ascii].head()"
   ]
  },
  {
   "cell_type": "markdown",
   "metadata": {},
   "source": [
    "Ah! Non-English characters in the *city* column are converted to English letters. We will use the *city_ascii* variable then.\n",
    "\n",
    "Let's select a subset of columns that might be relevant to us and write it out to a reduced dataset for later use:"
   ]
  },
  {
   "cell_type": "code",
   "execution_count": 70,
   "metadata": {},
   "outputs": [
    {
     "data": {
      "text/html": [
       "<div>\n",
       "<style scoped>\n",
       "    .dataframe tbody tr th:only-of-type {\n",
       "        vertical-align: middle;\n",
       "    }\n",
       "\n",
       "    .dataframe tbody tr th {\n",
       "        vertical-align: top;\n",
       "    }\n",
       "\n",
       "    .dataframe thead th {\n",
       "        text-align: right;\n",
       "    }\n",
       "</style>\n",
       "<table border=\"1\" class=\"dataframe\">\n",
       "  <thead>\n",
       "    <tr style=\"text-align: right;\">\n",
       "      <th></th>\n",
       "      <th>city_ascii</th>\n",
       "      <th>state_id</th>\n",
       "      <th>population</th>\n",
       "      <th>density</th>\n",
       "      <th>zips</th>\n",
       "      <th>county_fips</th>\n",
       "    </tr>\n",
       "  </thead>\n",
       "  <tbody>\n",
       "    <tr>\n",
       "      <th>28370</th>\n",
       "      <td>Roswell</td>\n",
       "      <td>SD</td>\n",
       "      <td>2</td>\n",
       "      <td>1.0</td>\n",
       "      <td>57349</td>\n",
       "      <td>46097</td>\n",
       "    </tr>\n",
       "    <tr>\n",
       "      <th>28371</th>\n",
       "      <td>Monowi</td>\n",
       "      <td>NE</td>\n",
       "      <td>1</td>\n",
       "      <td>1.0</td>\n",
       "      <td>68746</td>\n",
       "      <td>31015</td>\n",
       "    </tr>\n",
       "  </tbody>\n",
       "</table>\n",
       "</div>"
      ],
      "text/plain": [
       "      city_ascii state_id  population  density   zips  county_fips\n",
       "28370    Roswell       SD           2      1.0  57349        46097\n",
       "28371     Monowi       NE           1      1.0  68746        31015"
      ]
     },
     "execution_count": 70,
     "metadata": {},
     "output_type": "execute_result"
    }
   ],
   "source": [
    "db_reduced = db[['city_ascii','state_id','population','density','zips','county_fips']]\n",
    "db_reduced.tail(2)"
   ]
  },
  {
   "cell_type": "code",
   "execution_count": 71,
   "metadata": {},
   "outputs": [],
   "source": [
    "db_reduced.to_csv('data/cities_reduced.csv')"
   ]
  },
  {
   "cell_type": "markdown",
   "metadata": {},
   "source": [
    "### 6. Summary<a id='6'></a>"
   ]
  },
  {
   "cell_type": "markdown",
   "metadata": {},
   "source": [
    "All right, it's time to save our data for next steps of the analysis:"
   ]
  },
  {
   "cell_type": "code",
   "execution_count": 72,
   "metadata": {},
   "outputs": [],
   "source": [
    "y.to_csv('data/work_target.csv')\n",
    "\n",
    "dfi.to_csv('data/work_integers.csv')\n",
    "dff.to_csv('data/work_floats.csv')\n",
    "dfc.to_csv('data/work_strings.csv')\n",
    "dft.to_csv('data/work_datetimes.csv')\n",
    "\n",
    "dpi.to_csv('data/pred_integers.csv')\n",
    "dpf.to_csv('data/pred_floats.csv')\n",
    "dpc.to_csv('data/pred_strings.csv')\n",
    "dpt.to_csv('data/pred_datetimes.csv')"
   ]
  },
  {
   "cell_type": "code",
   "execution_count": 73,
   "metadata": {},
   "outputs": [],
   "source": [
    "#! date\n",
    "#! ls -lrth data/ | grep csv"
   ]
  }
 ],
 "metadata": {
  "kernelspec": {
   "display_name": "Python 3",
   "language": "python",
   "name": "python3"
  },
  "language_info": {
   "codemirror_mode": {
    "name": "ipython",
    "version": 3
   },
   "file_extension": ".py",
   "mimetype": "text/x-python",
   "name": "python",
   "nbconvert_exporter": "python",
   "pygments_lexer": "ipython3",
   "version": "3.8.3"
  }
 },
 "nbformat": 4,
 "nbformat_minor": 4
}
