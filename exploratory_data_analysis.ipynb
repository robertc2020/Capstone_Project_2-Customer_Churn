{
 "cells": [
  {
   "cell_type": "markdown",
   "metadata": {},
   "source": [
    "# Exploratory Data Analysis\n",
    "\n",
    "* [1. Integer-type features](#1)\n",
    "* [2. Float-type features](#2)\n",
    "* [3. Datetime-type features](#3)\n",
    "* [4. String-type features](#4)       \n",
    "* [5. Summary](#5)"
   ]
  },
  {
   "cell_type": "markdown",
   "metadata": {},
   "source": [
    "The vast majority of the features in our anonymized dataset are numerical columns (1837 integers and 10 floats) with a tiny admixture of categorical ones (17 strings and 16 datetime types). In principle, numerical features can easily be fed into machine learning models with no need for understaning their meanings. The only challenge we're facing is a complicated structure of missing values, encoded by NaNs or numerous integers (-99999, -1, 99, 999, 9999, 9999999999), which we will try to understand in this section. We will also investigate selected categorical features and propose an optimal way to replace them with numerical ones."
   ]
  },
  {
   "cell_type": "code",
   "execution_count": 1,
   "metadata": {},
   "outputs": [
    {
     "data": {
      "text/plain": [
       "(145231, 1)"
      ]
     },
     "execution_count": 1,
     "metadata": {},
     "output_type": "execute_result"
    }
   ],
   "source": [
    "import pandas as pd\n",
    "import numpy as np\n",
    "import matplotlib.pyplot as plt\n",
    "import matplotlib.ticker as ticker\n",
    "import seaborn as sns\n",
    "\n",
    "#common for all\n",
    "y = pd.read_csv(\"./data/work_target.csv\",index_col='ID',low_memory=False)\n",
    "y.shape"
   ]
  },
  {
   "cell_type": "markdown",
   "metadata": {},
   "source": [
    "### 1. Integer-type features<a id='1'></a>"
   ]
  },
  {
   "cell_type": "code",
   "execution_count": 2,
   "metadata": {},
   "outputs": [
    {
     "data": {
      "text/plain": [
       "((145231, 1837), (145232, 1837))"
      ]
     },
     "execution_count": 2,
     "metadata": {},
     "output_type": "execute_result"
    }
   ],
   "source": [
    "dfi = pd.read_csv(\"./data/work_integers.csv\",index_col='ID',low_memory=False).convert_dtypes()\n",
    "dpi = pd.read_csv(\"./data/pred_integers.csv\",index_col='ID',low_memory=False).convert_dtypes()\n",
    "\n",
    "dfi.shape, dpi.shape"
   ]
  },
  {
   "cell_type": "markdown",
   "metadata": {},
   "source": [
    "Let's start with missing values encoded with -1 and -99999. They populate high number of rows in columns depicted with dark and light blue color on the plot in Sec. 4.1 of the [previous notebook](./data_wrangling.ipynb#4.1). Let's select columns with -1. Let's remove -1 from the dataset and check what are the next smallest numbers:"
   ]
  },
  {
   "cell_type": "code",
   "execution_count": 3,
   "metadata": {},
   "outputs": [
    {
     "name": "stdout",
     "output_type": "stream",
     "text": [
      "104\n"
     ]
    },
    {
     "data": {
      "text/plain": [
       "{0.0, 1.0, 3.0, 15.0, 1995.0}"
      ]
     },
     "execution_count": 3,
     "metadata": {},
     "output_type": "execute_result"
    }
   ],
   "source": [
    "dfi_min = dfi.min()\n",
    "\n",
    "cols_a = dfi_min[dfi_min == -1].index\n",
    "print(len(cols_a))\n",
    "\n",
    "dfi_a = dfi[cols_a][dfi[cols_a] != -1]\n",
    "set(dfi_a.min())"
   ]
  },
  {
   "cell_type": "markdown",
   "metadata": {},
   "source": [
    "The smallest is a zero. OK. Let's do the same for columns with -99999. Let's select them, then let's remove -99999 from the dataset then check what are the next smallest numbers::"
   ]
  },
  {
   "cell_type": "code",
   "execution_count": 4,
   "metadata": {},
   "outputs": [
    {
     "name": "stdout",
     "output_type": "stream",
     "text": [
      "N columns =  156\n"
     ]
    },
    {
     "data": {
      "text/plain": [
       "{0.0, 1.0, 6.0, 9.0, 18.0, 20.0, 56.0, 374.0, 456.0, 5000.0}"
      ]
     },
     "execution_count": 4,
     "metadata": {},
     "output_type": "execute_result"
    }
   ],
   "source": [
    "cols_b = dfi_min[dfi_min == -99999].index\n",
    "print('N columns = ',len(cols_b))\n",
    "\n",
    "dfi_b = dfi[cols_b][dfi[cols_b] != -99999]\n",
    "set(dfi_b.min())"
   ]
  },
  {
   "cell_type": "markdown",
   "metadata": {},
   "source": [
    "Cool. The smallest is a zero again. The same situation as for -1. So we will replace -99999 with -1. Done.\n",
    "\n",
    "Let's now move to large positive numbers: 99, 999, 9999 and 9999999999. Let's select 99 and check the next largest number, then do the same for others."
   ]
  },
  {
   "cell_type": "code",
   "execution_count": 5,
   "metadata": {
    "scrolled": true
   },
   "outputs": [
    {
     "name": "stdout",
     "output_type": "stream",
     "text": [
      "N columns =  458\n",
      "{1.0, 2.0, 3.0, 4.0, 7.0, 9.0, 10.0, 11.0, 12.0, 16.0, 17.0, 18.0, 19.0, 20.0, 21.0, 24.0, 26.0, 28.0, 29.0, 32.0, 34.0, 35.0, 37.0, 43.0, 44.0, 45.0, 47.0, 49.0, 55.0, 57.0, 60.0, 64.0, 66.0, 67.0, 69.0, 70.0, 73.0, 74.0, 84.0, 86.0, 90.0, 93.0, 94.0, 96.0, 97.0, 98.0}\n"
     ]
    }
   ],
   "source": [
    "dfi_max = dfi.max()\n",
    "\n",
    "cols_c = dfi_max[dfi_max == 99].index\n",
    "print('N columns = ',len(cols_c))\n",
    "\n",
    "dfi_c = dfi[cols_c][dfi[cols_c] != 99]\n",
    "print(set(dfi_c.max()))"
   ]
  },
  {
   "cell_type": "code",
   "execution_count": 6,
   "metadata": {},
   "outputs": [
    {
     "name": "stdout",
     "output_type": "stream",
     "text": [
      "N columns =  238\n"
     ]
    },
    {
     "data": {
      "text/plain": [
       "{100.0, 400.0, 975.0, 984.0, 994.0, 995.0, 997.0, 998.0}"
      ]
     },
     "execution_count": 6,
     "metadata": {},
     "output_type": "execute_result"
    }
   ],
   "source": [
    "cols_c = dfi_max[dfi_max == 999].index\n",
    "print('N columns = ',len(cols_c))\n",
    "\n",
    "dfi_c = dfi[cols_c][dfi[cols_c] != 999]\n",
    "set(dfi_c.max())"
   ]
  },
  {
   "cell_type": "code",
   "execution_count": 7,
   "metadata": {},
   "outputs": [
    {
     "name": "stdout",
     "output_type": "stream",
     "text": [
      "N columns =  159\n"
     ]
    },
    {
     "data": {
      "text/plain": [
       "{24.0, 222.0, 9994.0, 9996.0, 9998.0}"
      ]
     },
     "execution_count": 7,
     "metadata": {},
     "output_type": "execute_result"
    }
   ],
   "source": [
    "cols_c = dfi_max[dfi_max == 9999].index\n",
    "print('N columns = ', len(cols_c))\n",
    "\n",
    "dfi_c = dfi[cols_c][dfi[cols_c] != 9999]\n",
    "set(dfi_c.max())"
   ]
  },
  {
   "cell_type": "code",
   "execution_count": 8,
   "metadata": {},
   "outputs": [
    {
     "name": "stdout",
     "output_type": "stream",
     "text": [
      "N columns =  257\n"
     ]
    },
    {
     "data": {
      "text/plain": [
       "{966493.0,\n",
       " 2392017.0,\n",
       " 3229192.0,\n",
       " 131786791.0,\n",
       " 999999996.0,\n",
       " 999999997.0,\n",
       " 999999998.0}"
      ]
     },
     "execution_count": 8,
     "metadata": {},
     "output_type": "execute_result"
    }
   ],
   "source": [
    "cols_c = dfi_max[dfi_max == 999999999].index\n",
    "print('N columns = ', len(cols_c))\n",
    "\n",
    "dfi_c = dfi[cols_c][dfi[cols_c] != 999999999]\n",
    "set(dfi_c.max())"
   ]
  },
  {
   "cell_type": "markdown",
   "metadata": {},
   "source": [
    "Ha! The 99 requires some more printing as it seems, the corresponding columns contain numbers from the range 0-99. Perhaps is not a missing number...\n",
    "\n",
    "The other 3 cases have a bizarre structure, in which in addition to regular distributions the sets of numbers [999,998,997] or [9999,9998,9997,9996] or [999999999-999999996] are present. This will require more studies."
   ]
  },
  {
   "cell_type": "markdown",
   "metadata": {},
   "source": [
    "__MORE TO COME__"
   ]
  },
  {
   "cell_type": "code",
   "execution_count": null,
   "metadata": {},
   "outputs": [],
   "source": []
  },
  {
   "cell_type": "code",
   "execution_count": null,
   "metadata": {},
   "outputs": [],
   "source": []
  },
  {
   "cell_type": "code",
   "execution_count": null,
   "metadata": {},
   "outputs": [],
   "source": []
  },
  {
   "cell_type": "code",
   "execution_count": null,
   "metadata": {},
   "outputs": [],
   "source": []
  },
  {
   "cell_type": "markdown",
   "metadata": {},
   "source": [
    "### 2. Float-type features<a id='2'></a>"
   ]
  },
  {
   "cell_type": "code",
   "execution_count": 9,
   "metadata": {},
   "outputs": [
    {
     "data": {
      "text/plain": [
       "((145231, 10), (145232, 10))"
      ]
     },
     "execution_count": 9,
     "metadata": {},
     "output_type": "execute_result"
    }
   ],
   "source": [
    "dff = pd.read_csv(\"./data/work_floats.csv\",index_col='ID',low_memory=False).convert_dtypes()\n",
    "dpf = pd.read_csv(\"./data/pred_floats.csv\",index_col='ID',low_memory=False).convert_dtypes()\n",
    "\n",
    "dff.shape, dpf.shape"
   ]
  },
  {
   "cell_type": "markdown",
   "metadata": {},
   "source": [
    "Our float variables contain 3 types of differently encoded missing values. Since there are only 10 such variables, let's plot them all, and also print their missing values. When plotting, let's temporarily replace -1  with -10, to better visually separate them from the non-zero spectra in the data:"
   ]
  },
  {
   "cell_type": "code",
   "execution_count": 10,
   "metadata": {},
   "outputs": [
    {
     "data": {
      "image/png": "[encoded data removed]",
      "text/plain": [
       "<Figure size 1080x864 with 12 Axes>"
      ]
     },
     "metadata": {
      "needs_background": "light"
     },
     "output_type": "display_data"
    }
   ],
   "source": [
    "dff.replace(-1,-10).hist(figsize=(15,12),bins=101,range=(-10,100),log=True);"
   ]
  },
  {
   "cell_type": "code",
   "execution_count": 11,
   "metadata": {},
   "outputs": [
    {
     "data": {
      "text/html": [
       "<div>\n",
       "<style scoped>\n",
       "    .dataframe tbody tr th:only-of-type {\n",
       "        vertical-align: middle;\n",
       "    }\n",
       "\n",
       "    .dataframe tbody tr th {\n",
       "        vertical-align: top;\n",
       "    }\n",
       "\n",
       "    .dataframe thead th {\n",
       "        text-align: right;\n",
       "    }\n",
       "</style>\n",
       "<table border=\"1\" class=\"dataframe\">\n",
       "  <thead>\n",
       "    <tr style=\"text-align: right;\">\n",
       "      <th></th>\n",
       "      <th>n( NaN)</th>\n",
       "      <th>n( -1)</th>\n",
       "      <th>n( 99)</th>\n",
       "    </tr>\n",
       "  </thead>\n",
       "  <tbody>\n",
       "    <tr>\n",
       "      <th>VAR_0299</th>\n",
       "      <td>918</td>\n",
       "      <td>1</td>\n",
       "      <td>2</td>\n",
       "    </tr>\n",
       "    <tr>\n",
       "      <th>VAR_0300</th>\n",
       "      <td>918</td>\n",
       "      <td>1</td>\n",
       "      <td>0</td>\n",
       "    </tr>\n",
       "    <tr>\n",
       "      <th>VAR_0301</th>\n",
       "      <td>918</td>\n",
       "      <td>1</td>\n",
       "      <td>2</td>\n",
       "    </tr>\n",
       "    <tr>\n",
       "      <th>VAR_0319</th>\n",
       "      <td>918</td>\n",
       "      <td>2521</td>\n",
       "      <td>2</td>\n",
       "    </tr>\n",
       "    <tr>\n",
       "      <th>VAR_0320</th>\n",
       "      <td>918</td>\n",
       "      <td>2521</td>\n",
       "      <td>0</td>\n",
       "    </tr>\n",
       "    <tr>\n",
       "      <th>VAR_0321</th>\n",
       "      <td>918</td>\n",
       "      <td>2521</td>\n",
       "      <td>2</td>\n",
       "    </tr>\n",
       "    <tr>\n",
       "      <th>VAR_0335</th>\n",
       "      <td>918</td>\n",
       "      <td>5944</td>\n",
       "      <td>1</td>\n",
       "    </tr>\n",
       "    <tr>\n",
       "      <th>VAR_0336</th>\n",
       "      <td>918</td>\n",
       "      <td>5944</td>\n",
       "      <td>0</td>\n",
       "    </tr>\n",
       "    <tr>\n",
       "      <th>VAR_0337</th>\n",
       "      <td>918</td>\n",
       "      <td>5944</td>\n",
       "      <td>1</td>\n",
       "    </tr>\n",
       "    <tr>\n",
       "      <th>VAR_0370</th>\n",
       "      <td>918</td>\n",
       "      <td>134450</td>\n",
       "      <td>28</td>\n",
       "    </tr>\n",
       "  </tbody>\n",
       "</table>\n",
       "</div>"
      ],
      "text/plain": [
       "          n( NaN)  n( -1)  n( 99)\n",
       "VAR_0299      918       1       2\n",
       "VAR_0300      918       1       0\n",
       "VAR_0301      918       1       2\n",
       "VAR_0319      918    2521       2\n",
       "VAR_0320      918    2521       0\n",
       "VAR_0321      918    2521       2\n",
       "VAR_0335      918    5944       1\n",
       "VAR_0336      918    5944       0\n",
       "VAR_0337      918    5944       1\n",
       "VAR_0370      918  134450      28"
      ]
     },
     "execution_count": 11,
     "metadata": {},
     "output_type": "execute_result"
    }
   ],
   "source": [
    "fmiss = dff.agg([lambda x: x.isna().sum(),lambda x: (x == -1).sum(),lambda x: (x == 99).sum()],axis=0)\n",
    "fmiss.index = ['n( NaN)','n( -1)', 'n( 99)']\n",
    "fmiss.T"
   ]
  },
  {
   "cell_type": "markdown",
   "metadata": {},
   "source": [
    "In all the columns NaNs are missing in 918 rows, they correspond to the lack of data in the same way as -1 do, so we will replace all the instances of NaN by -1. As for the number 99, it is significantly present only in the last column, it might represent a saturation threshold above which no values are allowed, so we will leave it unchanged. "
   ]
  },
  {
   "cell_type": "code",
   "execution_count": 12,
   "metadata": {},
   "outputs": [],
   "source": [
    "dff = dff.fillna(-1)\n",
    "dpf = dpf.fillna(-1)"
   ]
  },
  {
   "cell_type": "code",
   "execution_count": 13,
   "metadata": {},
   "outputs": [
    {
     "data": {
      "text/plain": [
       "VAR_0299    0\n",
       "VAR_0300    0\n",
       "VAR_0301    0\n",
       "VAR_0319    0\n",
       "VAR_0320    0\n",
       "VAR_0321    0\n",
       "VAR_0335    0\n",
       "VAR_0336    0\n",
       "VAR_0337    0\n",
       "VAR_0370    0\n",
       "dtype: int64"
      ]
     },
     "execution_count": 13,
     "metadata": {},
     "output_type": "execute_result"
    }
   ],
   "source": [
    "dff.isna().sum()"
   ]
  },
  {
   "cell_type": "markdown",
   "metadata": {},
   "source": [
    "What about correlations? Are the columns correlated?:"
   ]
  },
  {
   "cell_type": "code",
   "execution_count": 14,
   "metadata": {},
   "outputs": [
    {
     "data": {
      "image/png": "[encoded data removed]",
      "text/plain": [
       "<Figure size 576x432 with 2 Axes>"
      ]
     },
     "metadata": {
      "needs_background": "light"
     },
     "output_type": "display_data"
    }
   ],
   "source": [
    "cm = dff.corr()\n",
    "\n",
    "f, ax = plt.subplots(figsize=(8,6))\n",
    "ax = sns.heatmap(cm,cmap='coolwarm',annot=True,fmt='.1g',annot_kws={\"size\":12});"
   ]
  },
  {
   "cell_type": "markdown",
   "metadata": {},
   "source": [
    "Yes, they are, in particular within each of the 3 groups of columns with adjacent ID: 299-301, 319-321, 335-33. They also happen to have the same number of missing numbers encoded as -1. But is this a useful information? We could probably manually remove 2 out 3 variables for each of the adjacent groups, e.g. by setting the threshold on Pearson's correlation coefficient to be smaller than 0.7. This would reduce the total number of float columns from 10 to 4, but... is 0.7 a good threshold to preserve all the information in the current data? Let's leave all the columns in, hoping that generic dimensionality reduction algorithms, which we will apply later, will make a more justified decision for us."
   ]
  },
  {
   "cell_type": "markdown",
   "metadata": {},
   "source": [
    "### 3. Datetime-type features<a id='3'></a>"
   ]
  },
  {
   "cell_type": "markdown",
   "metadata": {},
   "source": [
    "Let's load the data parsing the approperiate datetime format, which we saw in Sec. 4.3 of the [previous notebook](./data_wrangling.ipynb#4.3):"
   ]
  },
  {
   "cell_type": "code",
   "execution_count": 15,
   "metadata": {},
   "outputs": [
    {
     "data": {
      "text/plain": [
       "((145231, 16), (145232, 16))"
      ]
     },
     "execution_count": 15,
     "metadata": {},
     "output_type": "execute_result"
    }
   ],
   "source": [
    "dft = pd.read_csv(\"./data/work_datetimes.csv\",index_col='ID',low_memory=False)\n",
    "dpt = pd.read_csv(\"./data/pred_datetimes.csv\",index_col='ID',low_memory=False)\n",
    "\n",
    "for col in dft.columns:\n",
    "    dft[col] = pd.to_datetime(dft[col],format='%d%b%y:%H:%M:%S')\n",
    "    dpt[col] = pd.to_datetime(dpt[col],format='%d%b%y:%H:%M:%S')\n",
    "    \n",
    "dft.shape,dpt.shape"
   ]
  },
  {
   "cell_type": "code",
   "execution_count": 16,
   "metadata": {},
   "outputs": [
    {
     "data": {
      "text/plain": [
       "VAR_0073    datetime64[ns]\n",
       "VAR_0075    datetime64[ns]\n",
       "VAR_0156    datetime64[ns]\n",
       "VAR_0157    datetime64[ns]\n",
       "VAR_0158    datetime64[ns]\n",
       "VAR_0159    datetime64[ns]\n",
       "VAR_0166    datetime64[ns]\n",
       "VAR_0167    datetime64[ns]\n",
       "VAR_0168    datetime64[ns]\n",
       "VAR_0169    datetime64[ns]\n",
       "VAR_0176    datetime64[ns]\n",
       "VAR_0177    datetime64[ns]\n",
       "VAR_0178    datetime64[ns]\n",
       "VAR_0179    datetime64[ns]\n",
       "VAR_0204    datetime64[ns]\n",
       "VAR_0217    datetime64[ns]\n",
       "dtype: object"
      ]
     },
     "execution_count": 16,
     "metadata": {},
     "output_type": "execute_result"
    }
   ],
   "source": [
    "dft.dtypes"
   ]
  },
  {
   "cell_type": "markdown",
   "metadata": {},
   "source": [
    "The format is recognized correctly. Let's print a few rows:"
   ]
  },
  {
   "cell_type": "code",
   "execution_count": 17,
   "metadata": {},
   "outputs": [
    {
     "data": {
      "text/html": [
       "<div>\n",
       "<style scoped>\n",
       "    .dataframe tbody tr th:only-of-type {\n",
       "        vertical-align: middle;\n",
       "    }\n",
       "\n",
       "    .dataframe tbody tr th {\n",
       "        vertical-align: top;\n",
       "    }\n",
       "\n",
       "    .dataframe thead th {\n",
       "        text-align: right;\n",
       "    }\n",
       "</style>\n",
       "<table border=\"1\" class=\"dataframe\">\n",
       "  <thead>\n",
       "    <tr style=\"text-align: right;\">\n",
       "      <th></th>\n",
       "      <th>VAR_0073</th>\n",
       "      <th>VAR_0075</th>\n",
       "      <th>VAR_0156</th>\n",
       "      <th>VAR_0157</th>\n",
       "      <th>VAR_0158</th>\n",
       "      <th>VAR_0159</th>\n",
       "      <th>VAR_0166</th>\n",
       "      <th>VAR_0167</th>\n",
       "      <th>VAR_0168</th>\n",
       "      <th>VAR_0169</th>\n",
       "      <th>VAR_0176</th>\n",
       "      <th>VAR_0177</th>\n",
       "      <th>VAR_0178</th>\n",
       "      <th>VAR_0179</th>\n",
       "      <th>VAR_0204</th>\n",
       "      <th>VAR_0217</th>\n",
       "    </tr>\n",
       "    <tr>\n",
       "      <th>ID</th>\n",
       "      <th></th>\n",
       "      <th></th>\n",
       "      <th></th>\n",
       "      <th></th>\n",
       "      <th></th>\n",
       "      <th></th>\n",
       "      <th></th>\n",
       "      <th></th>\n",
       "      <th></th>\n",
       "      <th></th>\n",
       "      <th></th>\n",
       "      <th></th>\n",
       "      <th></th>\n",
       "      <th></th>\n",
       "      <th></th>\n",
       "      <th></th>\n",
       "    </tr>\n",
       "  </thead>\n",
       "  <tbody>\n",
       "    <tr>\n",
       "      <th>249</th>\n",
       "      <td>2012-10-01</td>\n",
       "      <td>2009-11-02</td>\n",
       "      <td>2011-05-05</td>\n",
       "      <td>2011-06-05</td>\n",
       "      <td>2012-03-01</td>\n",
       "      <td>2012-02-02</td>\n",
       "      <td>2010-04-05</td>\n",
       "      <td>2012-05-21</td>\n",
       "      <td>2011-04-20</td>\n",
       "      <td>2012-04-13</td>\n",
       "      <td>2010-04-05</td>\n",
       "      <td>2012-05-21</td>\n",
       "      <td>2012-03-01</td>\n",
       "      <td>2012-04-13</td>\n",
       "      <td>2014-02-01 00:16:00</td>\n",
       "      <td>2012-10-03 02:00:00</td>\n",
       "    </tr>\n",
       "    <tr>\n",
       "      <th>17628</th>\n",
       "      <td>2012-02-26</td>\n",
       "      <td>2011-09-02</td>\n",
       "      <td>2011-09-02</td>\n",
       "      <td>2012-03-08</td>\n",
       "      <td>2011-12-12</td>\n",
       "      <td>2012-01-25</td>\n",
       "      <td>2011-09-02</td>\n",
       "      <td>2012-03-08</td>\n",
       "      <td>2011-12-15</td>\n",
       "      <td>2012-02-13</td>\n",
       "      <td>2011-09-02</td>\n",
       "      <td>2012-03-08</td>\n",
       "      <td>2011-12-15</td>\n",
       "      <td>2012-02-13</td>\n",
       "      <td>2014-01-30 22:44:00</td>\n",
       "      <td>2012-05-11 02:00:00</td>\n",
       "    </tr>\n",
       "    <tr>\n",
       "      <th>23801</th>\n",
       "      <td>2012-08-07</td>\n",
       "      <td>2010-07-20</td>\n",
       "      <td>2010-12-01</td>\n",
       "      <td>2011-04-29</td>\n",
       "      <td>2011-02-04</td>\n",
       "      <td>2011-02-07</td>\n",
       "      <td>2010-12-01</td>\n",
       "      <td>2011-05-14</td>\n",
       "      <td>2011-04-15</td>\n",
       "      <td>2011-04-15</td>\n",
       "      <td>2010-12-01</td>\n",
       "      <td>2011-05-14</td>\n",
       "      <td>2011-04-15</td>\n",
       "      <td>2011-04-15</td>\n",
       "      <td>2014-02-01 01:02:00</td>\n",
       "      <td>2012-10-23 02:00:00</td>\n",
       "    </tr>\n",
       "    <tr>\n",
       "      <th>31786</th>\n",
       "      <td>2012-02-28</td>\n",
       "      <td>2010-12-14</td>\n",
       "      <td>2011-10-10</td>\n",
       "      <td>2012-02-11</td>\n",
       "      <td>2012-01-06</td>\n",
       "      <td>2012-01-26</td>\n",
       "      <td>2011-06-06</td>\n",
       "      <td>2012-02-07</td>\n",
       "      <td>2011-12-23</td>\n",
       "      <td>2011-12-08</td>\n",
       "      <td>2011-06-06</td>\n",
       "      <td>2012-02-11</td>\n",
       "      <td>2012-01-06</td>\n",
       "      <td>2012-01-26</td>\n",
       "      <td>2014-01-30 22:53:00</td>\n",
       "      <td>2012-05-17 02:00:00</td>\n",
       "    </tr>\n",
       "    <tr>\n",
       "      <th>65173</th>\n",
       "      <td>2012-10-27</td>\n",
       "      <td>2009-03-07</td>\n",
       "      <td>2011-11-21</td>\n",
       "      <td>2012-10-10</td>\n",
       "      <td>2012-07-27</td>\n",
       "      <td>2012-07-31</td>\n",
       "      <td>2012-04-10</td>\n",
       "      <td>2012-10-19</td>\n",
       "      <td>2012-06-15</td>\n",
       "      <td>2012-10-01</td>\n",
       "      <td>2011-11-21</td>\n",
       "      <td>2012-10-19</td>\n",
       "      <td>2012-07-27</td>\n",
       "      <td>2012-10-01</td>\n",
       "      <td>2014-02-01 01:24:00</td>\n",
       "      <td>2012-10-30 02:00:00</td>\n",
       "    </tr>\n",
       "  </tbody>\n",
       "</table>\n",
       "</div>"
      ],
      "text/plain": [
       "        VAR_0073   VAR_0075   VAR_0156   VAR_0157   VAR_0158   VAR_0159  \\\n",
       "ID                                                                        \n",
       "249   2012-10-01 2009-11-02 2011-05-05 2011-06-05 2012-03-01 2012-02-02   \n",
       "17628 2012-02-26 2011-09-02 2011-09-02 2012-03-08 2011-12-12 2012-01-25   \n",
       "23801 2012-08-07 2010-07-20 2010-12-01 2011-04-29 2011-02-04 2011-02-07   \n",
       "31786 2012-02-28 2010-12-14 2011-10-10 2012-02-11 2012-01-06 2012-01-26   \n",
       "65173 2012-10-27 2009-03-07 2011-11-21 2012-10-10 2012-07-27 2012-07-31   \n",
       "\n",
       "        VAR_0166   VAR_0167   VAR_0168   VAR_0169   VAR_0176   VAR_0177  \\\n",
       "ID                                                                        \n",
       "249   2010-04-05 2012-05-21 2011-04-20 2012-04-13 2010-04-05 2012-05-21   \n",
       "17628 2011-09-02 2012-03-08 2011-12-15 2012-02-13 2011-09-02 2012-03-08   \n",
       "23801 2010-12-01 2011-05-14 2011-04-15 2011-04-15 2010-12-01 2011-05-14   \n",
       "31786 2011-06-06 2012-02-07 2011-12-23 2011-12-08 2011-06-06 2012-02-11   \n",
       "65173 2012-04-10 2012-10-19 2012-06-15 2012-10-01 2011-11-21 2012-10-19   \n",
       "\n",
       "        VAR_0178   VAR_0179            VAR_0204            VAR_0217  \n",
       "ID                                                                   \n",
       "249   2012-03-01 2012-04-13 2014-02-01 00:16:00 2012-10-03 02:00:00  \n",
       "17628 2011-12-15 2012-02-13 2014-01-30 22:44:00 2012-05-11 02:00:00  \n",
       "23801 2011-04-15 2011-04-15 2014-02-01 01:02:00 2012-10-23 02:00:00  \n",
       "31786 2012-01-06 2012-01-26 2014-01-30 22:53:00 2012-05-17 02:00:00  \n",
       "65173 2012-07-27 2012-10-01 2014-02-01 01:24:00 2012-10-30 02:00:00  "
      ]
     },
     "execution_count": 17,
     "metadata": {},
     "output_type": "execute_result"
    }
   ],
   "source": [
    "dft.dropna().head()"
   ]
  },
  {
   "cell_type": "markdown",
   "metadata": {},
   "source": [
    "and recall the fraction of missing values per column:"
   ]
  },
  {
   "cell_type": "code",
   "execution_count": 18,
   "metadata": {},
   "outputs": [
    {
     "data": {
      "text/plain": [
       "VAR_0073    69.63 %\n",
       "VAR_0075     0.04 %\n",
       "VAR_0156    95.96 %\n",
       "VAR_0157    99.37 %\n",
       "VAR_0158    98.56 %\n",
       "VAR_0159    95.96 %\n",
       "VAR_0166     90.2 %\n",
       "VAR_0167    98.23 %\n",
       "VAR_0168    92.62 %\n",
       "VAR_0169     90.2 %\n",
       "VAR_0176    87.93 %\n",
       "VAR_0177    97.69 %\n",
       "VAR_0178    91.69 %\n",
       "VAR_0179    87.93 %\n",
       "VAR_0204     0.04 %\n",
       "VAR_0217     0.04 %\n",
       "dtype: object"
      ]
     },
     "execution_count": 18,
     "metadata": {},
     "output_type": "execute_result"
    }
   ],
   "source": [
    "(dft.isna().sum()*100/dft.shape[0]).round(2).astype('str') + ' %'"
   ]
  },
  {
   "cell_type": "markdown",
   "metadata": {},
   "source": [
    "Let's also print the min and max date for each column, and the difference between them (in hours and in years):"
   ]
  },
  {
   "cell_type": "code",
   "execution_count": 19,
   "metadata": {},
   "outputs": [
    {
     "data": {
      "text/html": [
       "<div>\n",
       "<style scoped>\n",
       "    .dataframe tbody tr th:only-of-type {\n",
       "        vertical-align: middle;\n",
       "    }\n",
       "\n",
       "    .dataframe tbody tr th {\n",
       "        vertical-align: top;\n",
       "    }\n",
       "\n",
       "    .dataframe thead th {\n",
       "        text-align: right;\n",
       "    }\n",
       "</style>\n",
       "<table border=\"1\" class=\"dataframe\">\n",
       "  <thead>\n",
       "    <tr style=\"text-align: right;\">\n",
       "      <th></th>\n",
       "      <th>T min</th>\n",
       "      <th>T max</th>\n",
       "      <th>dT( days)</th>\n",
       "      <th>dT( years)</th>\n",
       "    </tr>\n",
       "  </thead>\n",
       "  <tbody>\n",
       "    <tr>\n",
       "      <th>VAR_0073</th>\n",
       "      <td>2008-01-02 00:00:00</td>\n",
       "      <td>2012-10-31 00:00:00</td>\n",
       "      <td>1764</td>\n",
       "      <td>5</td>\n",
       "    </tr>\n",
       "    <tr>\n",
       "      <th>VAR_0075</th>\n",
       "      <td>2001-01-01 00:00:00</td>\n",
       "      <td>2012-11-01 00:00:00</td>\n",
       "      <td>4322</td>\n",
       "      <td>12</td>\n",
       "    </tr>\n",
       "    <tr>\n",
       "      <th>VAR_0156</th>\n",
       "      <td>2008-04-11 00:00:00</td>\n",
       "      <td>2012-10-29 00:00:00</td>\n",
       "      <td>1662</td>\n",
       "      <td>5</td>\n",
       "    </tr>\n",
       "    <tr>\n",
       "      <th>VAR_0157</th>\n",
       "      <td>2008-10-17 00:00:00</td>\n",
       "      <td>2012-10-31 00:00:00</td>\n",
       "      <td>1475</td>\n",
       "      <td>4</td>\n",
       "    </tr>\n",
       "    <tr>\n",
       "      <th>VAR_0158</th>\n",
       "      <td>2008-09-30 00:00:00</td>\n",
       "      <td>2012-10-29 00:00:00</td>\n",
       "      <td>1490</td>\n",
       "      <td>4</td>\n",
       "    </tr>\n",
       "    <tr>\n",
       "      <th>VAR_0159</th>\n",
       "      <td>2008-09-23 00:00:00</td>\n",
       "      <td>2012-10-29 00:00:00</td>\n",
       "      <td>1497</td>\n",
       "      <td>4</td>\n",
       "    </tr>\n",
       "    <tr>\n",
       "      <th>VAR_0166</th>\n",
       "      <td>2002-07-30 00:00:00</td>\n",
       "      <td>2012-10-30 00:00:00</td>\n",
       "      <td>3745</td>\n",
       "      <td>10</td>\n",
       "    </tr>\n",
       "    <tr>\n",
       "      <th>VAR_0167</th>\n",
       "      <td>2005-02-12 00:00:00</td>\n",
       "      <td>2012-10-30 00:00:00</td>\n",
       "      <td>2817</td>\n",
       "      <td>8</td>\n",
       "    </tr>\n",
       "    <tr>\n",
       "      <th>VAR_0168</th>\n",
       "      <td>1999-12-31 00:00:00</td>\n",
       "      <td>2012-11-01 00:00:00</td>\n",
       "      <td>4689</td>\n",
       "      <td>13</td>\n",
       "    </tr>\n",
       "    <tr>\n",
       "      <th>VAR_0169</th>\n",
       "      <td>2002-07-30 00:00:00</td>\n",
       "      <td>2012-11-01 00:00:00</td>\n",
       "      <td>3747</td>\n",
       "      <td>10</td>\n",
       "    </tr>\n",
       "    <tr>\n",
       "      <th>VAR_0176</th>\n",
       "      <td>2002-07-30 00:00:00</td>\n",
       "      <td>2012-10-30 00:00:00</td>\n",
       "      <td>3745</td>\n",
       "      <td>10</td>\n",
       "    </tr>\n",
       "    <tr>\n",
       "      <th>VAR_0177</th>\n",
       "      <td>2005-02-12 00:00:00</td>\n",
       "      <td>2012-10-31 00:00:00</td>\n",
       "      <td>2818</td>\n",
       "      <td>8</td>\n",
       "    </tr>\n",
       "    <tr>\n",
       "      <th>VAR_0178</th>\n",
       "      <td>1999-12-31 00:00:00</td>\n",
       "      <td>2012-11-01 00:00:00</td>\n",
       "      <td>4689</td>\n",
       "      <td>13</td>\n",
       "    </tr>\n",
       "    <tr>\n",
       "      <th>VAR_0179</th>\n",
       "      <td>2002-07-30 00:00:00</td>\n",
       "      <td>2012-11-01 00:00:00</td>\n",
       "      <td>3747</td>\n",
       "      <td>10</td>\n",
       "    </tr>\n",
       "    <tr>\n",
       "      <th>VAR_0204</th>\n",
       "      <td>2014-01-29 18:45:00</td>\n",
       "      <td>2014-02-01 01:26:00</td>\n",
       "      <td>2</td>\n",
       "      <td>0</td>\n",
       "    </tr>\n",
       "    <tr>\n",
       "      <th>VAR_0217</th>\n",
       "      <td>2011-10-02 02:00:00</td>\n",
       "      <td>2012-11-01 02:00:00</td>\n",
       "      <td>396</td>\n",
       "      <td>1</td>\n",
       "    </tr>\n",
       "  </tbody>\n",
       "</table>\n",
       "</div>"
      ],
      "text/plain": [
       "                       T min               T max dT( days) dT( years)\n",
       "VAR_0073 2008-01-02 00:00:00 2012-10-31 00:00:00      1764          5\n",
       "VAR_0075 2001-01-01 00:00:00 2012-11-01 00:00:00      4322         12\n",
       "VAR_0156 2008-04-11 00:00:00 2012-10-29 00:00:00      1662          5\n",
       "VAR_0157 2008-10-17 00:00:00 2012-10-31 00:00:00      1475          4\n",
       "VAR_0158 2008-09-30 00:00:00 2012-10-29 00:00:00      1490          4\n",
       "VAR_0159 2008-09-23 00:00:00 2012-10-29 00:00:00      1497          4\n",
       "VAR_0166 2002-07-30 00:00:00 2012-10-30 00:00:00      3745         10\n",
       "VAR_0167 2005-02-12 00:00:00 2012-10-30 00:00:00      2817          8\n",
       "VAR_0168 1999-12-31 00:00:00 2012-11-01 00:00:00      4689         13\n",
       "VAR_0169 2002-07-30 00:00:00 2012-11-01 00:00:00      3747         10\n",
       "VAR_0176 2002-07-30 00:00:00 2012-10-30 00:00:00      3745         10\n",
       "VAR_0177 2005-02-12 00:00:00 2012-10-31 00:00:00      2818          8\n",
       "VAR_0178 1999-12-31 00:00:00 2012-11-01 00:00:00      4689         13\n",
       "VAR_0179 2002-07-30 00:00:00 2012-11-01 00:00:00      3747         10\n",
       "VAR_0204 2014-01-29 18:45:00 2014-02-01 01:26:00         2          0\n",
       "VAR_0217 2011-10-02 02:00:00 2012-11-01 02:00:00       396          1"
      ]
     },
     "execution_count": 19,
     "metadata": {},
     "output_type": "execute_result"
    }
   ],
   "source": [
    "diff_d = lambda x: round((x.max() - x.min())/np.timedelta64(1, 'D'))\n",
    "diff_y = lambda x: round((x.max() - x.min())/np.timedelta64(1, 'Y'))\n",
    "\n",
    "t_range = dft.apply(['min','max',diff_d, diff_y])\n",
    "t_range.index = ['T min','T max', 'dT( days)','dT( years)']\n",
    "t_range.T"
   ]
  },
  {
   "cell_type": "markdown",
   "metadata": {},
   "source": [
    "Interesting. Column 204 spans the time inverval of 2 days, from Jan 29 to Feb 1 in the year 2014, column 217 covers a period of one year in 2012, all the other columns span multiple years (from 4 to 13), with the latest date in 2012. \n",
    "\n",
    "What's inside column 204? Let's plot the hour of the day versus the day of the month for the data in this column: "
   ]
  },
  {
   "cell_type": "code",
   "execution_count": 20,
   "metadata": {},
   "outputs": [
    {
     "data": {
      "image/png": "[encoded data removed]",
      "text/plain": [
       "<Figure size 432x288 with 1 Axes>"
      ]
     },
     "metadata": {
      "needs_background": "light"
     },
     "output_type": "display_data"
    }
   ],
   "source": [
    "plt.plot(dft['VAR_0204'].dt.day, dft['VAR_0204'].dt.hour,'o')\n",
    "plt.grid()\n",
    "plt.xlabel('Day of the month',fontsize=15)\n",
    "plt.ylabel('Hour of the day',fontsize=15)\n",
    "plt.text(29, 3, 'Jan',fontsize=14)\n",
    "plt.text( 1, 3, 'Feb',fontsize=14);"
   ]
  },
  {
   "cell_type": "markdown",
   "metadata": {},
   "source": [
    "The data covers hours from about 2 PM and about 2 AM, regardless of the day (notice the jump from Jan to Feb). This might be somebody's 12-hour working day or a shift in a hospital. "
   ]
  },
  {
   "cell_type": "markdown",
   "metadata": {},
   "source": [
    "How is column 204 related to other columns? To anwer this question we will convert the data format from absolute dates to a time difference w.r.t. the starting date of column 204:"
   ]
  },
  {
   "cell_type": "code",
   "execution_count": 21,
   "metadata": {},
   "outputs": [
    {
     "data": {
      "text/html": [
       "<div>\n",
       "<style scoped>\n",
       "    .dataframe tbody tr th:only-of-type {\n",
       "        vertical-align: middle;\n",
       "    }\n",
       "\n",
       "    .dataframe tbody tr th {\n",
       "        vertical-align: top;\n",
       "    }\n",
       "\n",
       "    .dataframe thead th {\n",
       "        text-align: right;\n",
       "    }\n",
       "</style>\n",
       "<table border=\"1\" class=\"dataframe\">\n",
       "  <thead>\n",
       "    <tr style=\"text-align: right;\">\n",
       "      <th></th>\n",
       "      <th>VAR_0073</th>\n",
       "      <th>VAR_0075</th>\n",
       "      <th>VAR_0156</th>\n",
       "      <th>VAR_0157</th>\n",
       "      <th>VAR_0158</th>\n",
       "      <th>VAR_0159</th>\n",
       "      <th>VAR_0166</th>\n",
       "      <th>VAR_0167</th>\n",
       "      <th>VAR_0168</th>\n",
       "      <th>VAR_0169</th>\n",
       "      <th>VAR_0176</th>\n",
       "      <th>VAR_0177</th>\n",
       "      <th>VAR_0178</th>\n",
       "      <th>VAR_0179</th>\n",
       "      <th>VAR_0204</th>\n",
       "      <th>VAR_0217</th>\n",
       "    </tr>\n",
       "    <tr>\n",
       "      <th>ID</th>\n",
       "      <th></th>\n",
       "      <th></th>\n",
       "      <th></th>\n",
       "      <th></th>\n",
       "      <th></th>\n",
       "      <th></th>\n",
       "      <th></th>\n",
       "      <th></th>\n",
       "      <th></th>\n",
       "      <th></th>\n",
       "      <th></th>\n",
       "      <th></th>\n",
       "      <th></th>\n",
       "      <th></th>\n",
       "      <th></th>\n",
       "      <th></th>\n",
       "    </tr>\n",
       "  </thead>\n",
       "  <tbody>\n",
       "    <tr>\n",
       "      <th>2</th>\n",
       "      <td>NaT</td>\n",
       "      <td>-814 days +05:15:00</td>\n",
       "      <td>NaT</td>\n",
       "      <td>NaT</td>\n",
       "      <td>NaT</td>\n",
       "      <td>NaT</td>\n",
       "      <td>NaT</td>\n",
       "      <td>NaT</td>\n",
       "      <td>NaT</td>\n",
       "      <td>NaT</td>\n",
       "      <td>NaT</td>\n",
       "      <td>NaT</td>\n",
       "      <td>NaT</td>\n",
       "      <td>NaT</td>\n",
       "      <td>0 days 02:31:00</td>\n",
       "      <td>-814 days +07:15:00</td>\n",
       "    </tr>\n",
       "    <tr>\n",
       "      <th>4</th>\n",
       "      <td>-513 days +05:15:00</td>\n",
       "      <td>-812 days +05:15:00</td>\n",
       "      <td>NaT</td>\n",
       "      <td>NaT</td>\n",
       "      <td>NaT</td>\n",
       "      <td>NaT</td>\n",
       "      <td>NaT</td>\n",
       "      <td>NaT</td>\n",
       "      <td>NaT</td>\n",
       "      <td>NaT</td>\n",
       "      <td>NaT</td>\n",
       "      <td>NaT</td>\n",
       "      <td>NaT</td>\n",
       "      <td>NaT</td>\n",
       "      <td>2 days 05:26:00</td>\n",
       "      <td>-485 days +07:15:00</td>\n",
       "    </tr>\n",
       "    <tr>\n",
       "      <th>5</th>\n",
       "      <td>NaT</td>\n",
       "      <td>-779 days +05:15:00</td>\n",
       "      <td>NaT</td>\n",
       "      <td>NaT</td>\n",
       "      <td>NaT</td>\n",
       "      <td>NaT</td>\n",
       "      <td>NaT</td>\n",
       "      <td>NaT</td>\n",
       "      <td>NaT</td>\n",
       "      <td>NaT</td>\n",
       "      <td>NaT</td>\n",
       "      <td>NaT</td>\n",
       "      <td>NaT</td>\n",
       "      <td>NaT</td>\n",
       "      <td>0 days 20:26:00</td>\n",
       "      <td>-779 days +07:15:00</td>\n",
       "    </tr>\n",
       "    <tr>\n",
       "      <th>7</th>\n",
       "      <td>NaT</td>\n",
       "      <td>-1225 days +05:15:00</td>\n",
       "      <td>NaT</td>\n",
       "      <td>NaT</td>\n",
       "      <td>NaT</td>\n",
       "      <td>NaT</td>\n",
       "      <td>NaT</td>\n",
       "      <td>NaT</td>\n",
       "      <td>NaT</td>\n",
       "      <td>NaT</td>\n",
       "      <td>NaT</td>\n",
       "      <td>NaT</td>\n",
       "      <td>NaT</td>\n",
       "      <td>NaT</td>\n",
       "      <td>2 days 05:22:00</td>\n",
       "      <td>-455 days +07:15:00</td>\n",
       "    </tr>\n",
       "    <tr>\n",
       "      <th>8</th>\n",
       "      <td>NaT</td>\n",
       "      <td>-838 days +05:15:00</td>\n",
       "      <td>NaT</td>\n",
       "      <td>NaT</td>\n",
       "      <td>NaT</td>\n",
       "      <td>NaT</td>\n",
       "      <td>NaT</td>\n",
       "      <td>NaT</td>\n",
       "      <td>NaT</td>\n",
       "      <td>NaT</td>\n",
       "      <td>NaT</td>\n",
       "      <td>NaT</td>\n",
       "      <td>NaT</td>\n",
       "      <td>NaT</td>\n",
       "      <td>0 days 00:46:00</td>\n",
       "      <td>-838 days +07:15:00</td>\n",
       "    </tr>\n",
       "  </tbody>\n",
       "</table>\n",
       "</div>"
      ],
      "text/plain": [
       "              VAR_0073             VAR_0075 VAR_0156 VAR_0157 VAR_0158  \\\n",
       "ID                                                                       \n",
       "2                  NaT  -814 days +05:15:00      NaT      NaT      NaT   \n",
       "4  -513 days +05:15:00  -812 days +05:15:00      NaT      NaT      NaT   \n",
       "5                  NaT  -779 days +05:15:00      NaT      NaT      NaT   \n",
       "7                  NaT -1225 days +05:15:00      NaT      NaT      NaT   \n",
       "8                  NaT  -838 days +05:15:00      NaT      NaT      NaT   \n",
       "\n",
       "   VAR_0159 VAR_0166 VAR_0167 VAR_0168 VAR_0169 VAR_0176 VAR_0177 VAR_0178  \\\n",
       "ID                                                                           \n",
       "2       NaT      NaT      NaT      NaT      NaT      NaT      NaT      NaT   \n",
       "4       NaT      NaT      NaT      NaT      NaT      NaT      NaT      NaT   \n",
       "5       NaT      NaT      NaT      NaT      NaT      NaT      NaT      NaT   \n",
       "7       NaT      NaT      NaT      NaT      NaT      NaT      NaT      NaT   \n",
       "8       NaT      NaT      NaT      NaT      NaT      NaT      NaT      NaT   \n",
       "\n",
       "   VAR_0179        VAR_0204            VAR_0217  \n",
       "ID                                               \n",
       "2       NaT 0 days 02:31:00 -814 days +07:15:00  \n",
       "4       NaT 2 days 05:26:00 -485 days +07:15:00  \n",
       "5       NaT 0 days 20:26:00 -779 days +07:15:00  \n",
       "7       NaT 2 days 05:22:00 -455 days +07:15:00  \n",
       "8       NaT 0 days 00:46:00 -838 days +07:15:00  "
      ]
     },
     "execution_count": 21,
     "metadata": {},
     "output_type": "execute_result"
    }
   ],
   "source": [
    "dft_diff = dft - dft['VAR_0204'].min()\n",
    "dft_diff.head()"
   ]
  },
  {
   "cell_type": "markdown",
   "metadata": {},
   "source": [
    "Let's check now the relation between column 204 and column 217 (the one with the second shortest time span):"
   ]
  },
  {
   "cell_type": "code",
   "execution_count": 22,
   "metadata": {},
   "outputs": [
    {
     "data": {
      "image/png": "[encoded data removed]",
      "text/plain": [
       "<Figure size 504x360 with 1 Axes>"
      ]
     },
     "metadata": {
      "needs_background": "light"
     },
     "output_type": "display_data"
    }
   ],
   "source": [
    "tunit = np.timedelta64(1,'D')\n",
    "\n",
    "plt.figure(figsize=(7,5))\n",
    "plt.scatter(dft_diff['VAR_0204']/tunit,dft_diff['VAR_0217']/tunit,s=1)\n",
    "\n",
    "plt.title('Time difference to VAR_204.min() in days',fontsize=14)\n",
    "plt.xlabel('VAR_204',fontsize=16)\n",
    "plt.ylabel('VAR_217',fontsize=16);"
   ]
  },
  {
   "cell_type": "markdown",
   "metadata": {},
   "source": [
    "Almost 1:1 correspondence! It's possible that during 3 days in 2014 (VAR_204) somebody was analizing chronologically-ordered data recorded over the period of ~400 days in the year 2012 (VAR_217). In any case, the VAR_204 variable seems redundant and could be removed from the dataset.\n",
    "\n",
    "Now let's recall that the maximum date for remaining columns corresponds to the year 2012 as well. Is there any relation between these columns and column VAR_217? Let's inspect it by plotting the time difference bewteen each of the remaining columns and VAR_217:"
   ]
  },
  {
   "cell_type": "code",
   "execution_count": 23,
   "metadata": {},
   "outputs": [
    {
     "name": "stderr",
     "output_type": "stream",
     "text": [
      "/data/anaconda3/lib/python3.8/site-packages/numpy/lib/histograms.py:839: RuntimeWarning: invalid value encountered in greater_equal\n",
      "  keep = (tmp_a >= first_edge)\n",
      "/data/anaconda3/lib/python3.8/site-packages/numpy/lib/histograms.py:840: RuntimeWarning: invalid value encountered in less_equal\n",
      "  keep &= (tmp_a <= last_edge)\n"
     ]
    },
    {
     "data": {
      "image/png": "[encoded data removed]",
      "text/plain": [
       "<Figure size 1080x360 with 14 Axes>"
      ]
     },
     "metadata": {
      "needs_background": "light"
     },
     "output_type": "display_data"
    }
   ],
   "source": [
    "cols_t = sorted(set(dft_diff.columns) - set(['VAR_0204','VAR_0217']))\n",
    "\n",
    "fig, ax = plt.subplots(2,7,figsize=(15,5))\n",
    "\n",
    "ax = ax.ravel()\n",
    "\n",
    "fig.suptitle('Time difference to VAR_0217 in days',fontsize=16)\n",
    "\n",
    "for i, col in enumerate(cols_t):\n",
    "    \n",
    "    tunit = np.timedelta64(1,'D')\n",
    "    \n",
    "    ax[i].hist((dft[col]-dft['VAR_0217'])/tunit,range=(-2500,50),bins=255)\n",
    "\n",
    "    ax[i].grid()\n",
    "    ax[i].set_yscale('log')\n",
    "    ax[i].set_xlabel(col,fontsize=13)\n",
    "\n",
    "fig.tight_layout(rect=[0, 0.03, 1, 0.95]);"
   ]
  },
  {
   "cell_type": "markdown",
   "metadata": {},
   "source": [
    "Interesting, that all the distributions are steeply falling from 0 to earlier days. This means that VAR_217 might describe an upper limit of the dates recorded in other columns.\n",
    "\n",
    "There's also column VAR_075 that is fully filled with data, just like columns VAR_205 and VAR_217. Let's plot the time difference relative this column too:"
   ]
  },
  {
   "cell_type": "code",
   "execution_count": 24,
   "metadata": {},
   "outputs": [
    {
     "data": {
      "image/png": "[encoded data removed]",
      "text/plain": [
       "<Figure size 1080x360 with 14 Axes>"
      ]
     },
     "metadata": {
      "needs_background": "light"
     },
     "output_type": "display_data"
    }
   ],
   "source": [
    "cols_t = sorted(set(dft_diff.columns) - set(['VAR_0204','VAR_0075']))\n",
    "\n",
    "fig, ax = plt.subplots(2,7,figsize=(15,5))\n",
    "\n",
    "ax = ax.ravel()\n",
    "\n",
    "fig.suptitle('Time difference to VAR_0075 in days',fontsize=16)\n",
    "\n",
    "for i, col in enumerate(cols_t):\n",
    "    \n",
    "    tunit = np.timedelta64(1,'D')\n",
    "    \n",
    "    ax[i].hist((dft[col]-dft['VAR_0075'])/tunit,range=(-50,2500),bins=255)\n",
    "\n",
    "    ax[i].grid()\n",
    "    ax[i].set_yscale('log')\n",
    "    ax[i].set_xlabel(col,fontsize=13)\n",
    "\n",
    "fig.tight_layout(rect=[0, 0.03, 1, 0.95]);"
   ]
  },
  {
   "cell_type": "markdown",
   "metadata": {},
   "source": [
    "The distributions are steeply falling from 0 again, this time to higher values (later dates). Combined with the previous observation, this implies that VAR_075 and VAR_217 cover the range of dates populated by other columns. In most cases the difference between them is zero (the same date), which would explain why other colums have so many NaNs. \n",
    "\n",
    "To proceed to the next step we will skip column VAR_204, convert column VAR_217 to an integer describing the number of days relative to the lowest date in that column. We will also skip column VAR_075. Finally, we will count the numbers of other non-zero datetime columns and interpret it as number of treatments a patient surveyed in columns VAR_217 underwent. After this step, 16 datetime columns will get reduced to only 2 integer columns."
   ]
  },
  {
   "cell_type": "markdown",
   "metadata": {},
   "source": [
    "### 4. String-type features<a id='4'></a>"
   ]
  },
  {
   "cell_type": "markdown",
   "metadata": {},
   "source": [
    "__MORE TO COME__\n",
    "\n",
    "Inspect 2 columns with US state codes, and two columns with profession names. \n",
    "\n",
    "Conversion of city name to city population in the next chapter when doing feature engineering."
   ]
  },
  {
   "cell_type": "code",
   "execution_count": null,
   "metadata": {},
   "outputs": [],
   "source": []
  },
  {
   "cell_type": "markdown",
   "metadata": {},
   "source": [
    "### 5. Summary<a id='5'></a>"
   ]
  },
  {
   "cell_type": "code",
   "execution_count": null,
   "metadata": {},
   "outputs": [],
   "source": []
  },
  {
   "cell_type": "code",
   "execution_count": null,
   "metadata": {},
   "outputs": [],
   "source": []
  }
 ],
 "metadata": {
  "kernelspec": {
   "display_name": "Python 3",
   "language": "python",
   "name": "python3"
  },
  "language_info": {
   "codemirror_mode": {
    "name": "ipython",
    "version": 3
   },
   "file_extension": ".py",
   "mimetype": "text/x-python",
   "name": "python",
   "nbconvert_exporter": "python",
   "pygments_lexer": "ipython3",
   "version": "3.8.3"
  }
 },
 "nbformat": 4,
 "nbformat_minor": 4
}
